{
 "cells": [
  {
   "cell_type": "code",
   "execution_count": 1,
   "metadata": {},
   "outputs": [],
   "source": [
    "from sklearn.preprocessing import StandardScaler\n",
    "import pandas as pd\n",
    "import numpy as np"
   ]
  },
  {
   "cell_type": "code",
   "execution_count": 2,
   "metadata": {},
   "outputs": [],
   "source": [
    "df=pd.read_excel(r\"C:\\Users\\hp\\Desktop\\M2\\PFE\\Code\\code pfe\\Coud source\\Code\\data\\Well-6_01-07-2022.xlsx\")"
   ]
  },
  {
   "cell_type": "code",
   "execution_count": 3,
   "metadata": {},
   "outputs": [],
   "source": [
    "def feature_rep(window,tva_thresh,mfop_thresh,mfoa_thresh,spp_thresh,gas_thresh):\n",
    "    gasa,mfoa,spp,mfop,tva=False,False,False,False,False\n",
    "    if window['variation_GASA (mol/mol)'].sum()>=gas_thresh:\n",
    "        gasa=True\n",
    "    if window['variation_TVA (m3)'].sum()>=tva_thresh:\n",
    "        tva=True\n",
    "    if window['variation_SPPA (kPa)'].sum()>=spp_thresh:\n",
    "        spp=True\n",
    "    if window['variation_MFOA (m3/s)'].sum()<=mfoa_thresh:\n",
    "        mfoa=True\n",
    "    if window['variation_MFOP ((m3/s)/(m3/s))'].sum()<mfop_thresh:\n",
    "        mfop= True\n",
    "        \n",
    "    \n",
    "    return [gasa,mfoa,mfop,spp,tva]\n",
    "\n",
    "def kick_detection(featurs):\n",
    "    return all(featurs)"
   ]
  },
  {
   "cell_type": "code",
   "execution_count": 6,
   "metadata": {},
   "outputs": [],
   "source": [
    "window_size = 120\n",
    "window_size = int(window_size // 5)# convert time to rows\n",
    "windows = df.groupby((df.index // window_size) + 1)\n"
   ]
  },
  {
   "cell_type": "code",
   "execution_count": 9,
   "metadata": {},
   "outputs": [
    {
     "ename": "KeyError",
     "evalue": "'variation_GASA (mol/mol)'",
     "output_type": "error",
     "traceback": [
      "\u001b[1;31m---------------------------------------------------------------------------\u001b[0m",
      "\u001b[1;31mKeyError\u001b[0m                                  Traceback (most recent call last)",
      "File \u001b[1;32mc:\\Users\\hp\\AppData\\Local\\Programs\\Python\\Python311\\Lib\\site-packages\\pandas\\core\\indexes\\base.py:3802\u001b[0m, in \u001b[0;36mIndex.get_loc\u001b[1;34m(self, key, method, tolerance)\u001b[0m\n\u001b[0;32m   3801\u001b[0m \u001b[39mtry\u001b[39;00m:\n\u001b[1;32m-> 3802\u001b[0m     \u001b[39mreturn\u001b[39;00m \u001b[39mself\u001b[39;49m\u001b[39m.\u001b[39;49m_engine\u001b[39m.\u001b[39;49mget_loc(casted_key)\n\u001b[0;32m   3803\u001b[0m \u001b[39mexcept\u001b[39;00m \u001b[39mKeyError\u001b[39;00m \u001b[39mas\u001b[39;00m err:\n",
      "File \u001b[1;32mc:\\Users\\hp\\AppData\\Local\\Programs\\Python\\Python311\\Lib\\site-packages\\pandas\\_libs\\index.pyx:138\u001b[0m, in \u001b[0;36mpandas._libs.index.IndexEngine.get_loc\u001b[1;34m()\u001b[0m\n",
      "File \u001b[1;32mc:\\Users\\hp\\AppData\\Local\\Programs\\Python\\Python311\\Lib\\site-packages\\pandas\\_libs\\index.pyx:165\u001b[0m, in \u001b[0;36mpandas._libs.index.IndexEngine.get_loc\u001b[1;34m()\u001b[0m\n",
      "File \u001b[1;32mpandas\\_libs\\hashtable_class_helper.pxi:5745\u001b[0m, in \u001b[0;36mpandas._libs.hashtable.PyObjectHashTable.get_item\u001b[1;34m()\u001b[0m\n",
      "File \u001b[1;32mpandas\\_libs\\hashtable_class_helper.pxi:5753\u001b[0m, in \u001b[0;36mpandas._libs.hashtable.PyObjectHashTable.get_item\u001b[1;34m()\u001b[0m\n",
      "\u001b[1;31mKeyError\u001b[0m: 'variation_GASA (mol/mol)'",
      "\nThe above exception was the direct cause of the following exception:\n",
      "\u001b[1;31mKeyError\u001b[0m                                  Traceback (most recent call last)",
      "Cell \u001b[1;32mIn[9], line 8\u001b[0m\n\u001b[0;32m      3\u001b[0m tva_thresh,mfop_thresh,mfoa_thresh,spp_thresh,spp_thresh,\u001b[39m=\u001b[39m\u001b[39m0\u001b[39m,\u001b[39m0\u001b[39m,\u001b[39m0\u001b[39m,\u001b[39m0\u001b[39m,\u001b[39m0\u001b[39m\n\u001b[0;32m      5\u001b[0m \u001b[39mfor\u001b[39;00m i, batch \u001b[39min\u001b[39;00m windows:\n\u001b[0;32m      6\u001b[0m     \u001b[39m# print(f'--------window number {i}--------')\u001b[39;00m\n\u001b[0;32m      7\u001b[0m     \u001b[39m# print(batch.head(5))\u001b[39;00m\n\u001b[1;32m----> 8\u001b[0m     featurs\u001b[39m=\u001b[39mfeature_rep(batch,tva_thresh,mfop_thresh,mfoa_thresh,spp_thresh,gas_thresh\u001b[39m=\u001b[39;49m\u001b[39m0.05\u001b[39;49m)\n\u001b[0;32m      9\u001b[0m     cla\u001b[39m=\u001b[39mkick_detection(featurs)\n\u001b[0;32m     10\u001b[0m     \u001b[39m# batch['kick']=cla\u001b[39;00m\n\u001b[0;32m     11\u001b[0m     \u001b[39m# result.append(cla)\u001b[39;00m\n\u001b[0;32m     12\u001b[0m     \u001b[39m# print(f'--------window number {i}--------')\u001b[39;00m\n\u001b[0;32m     13\u001b[0m     \u001b[39m# print(batch['kick'].head(24))\u001b[39;00m\n\u001b[0;32m     14\u001b[0m     \u001b[39m# all_result.append(batch['kick'].astype(int))\u001b[39;00m\n",
      "Cell \u001b[1;32mIn[3], line 3\u001b[0m, in \u001b[0;36mfeature_rep\u001b[1;34m(window, tva_thresh, mfop_thresh, mfoa_thresh, spp_thresh, gas_thresh)\u001b[0m\n\u001b[0;32m      1\u001b[0m \u001b[39mdef\u001b[39;00m \u001b[39mfeature_rep\u001b[39m(window,tva_thresh,mfop_thresh,mfoa_thresh,spp_thresh,gas_thresh):\n\u001b[0;32m      2\u001b[0m     gasa,mfoa,spp,mfop,tva\u001b[39m=\u001b[39m\u001b[39mFalse\u001b[39;00m,\u001b[39mFalse\u001b[39;00m,\u001b[39mFalse\u001b[39;00m,\u001b[39mFalse\u001b[39;00m,\u001b[39mFalse\u001b[39;00m\n\u001b[1;32m----> 3\u001b[0m     \u001b[39mif\u001b[39;00m window[\u001b[39m'\u001b[39;49m\u001b[39mvariation_GASA (mol/mol)\u001b[39;49m\u001b[39m'\u001b[39;49m]\u001b[39m.\u001b[39msum()\u001b[39m>\u001b[39m\u001b[39m=\u001b[39mgas_thresh:\n\u001b[0;32m      4\u001b[0m         gasa\u001b[39m=\u001b[39m\u001b[39mTrue\u001b[39;00m\n\u001b[0;32m      5\u001b[0m     \u001b[39mif\u001b[39;00m window[\u001b[39m'\u001b[39m\u001b[39mvariation_TVA (m3)\u001b[39m\u001b[39m'\u001b[39m]\u001b[39m.\u001b[39msum()\u001b[39m>\u001b[39m\u001b[39m=\u001b[39mtva_thresh:\n",
      "File \u001b[1;32mc:\\Users\\hp\\AppData\\Local\\Programs\\Python\\Python311\\Lib\\site-packages\\pandas\\core\\frame.py:3807\u001b[0m, in \u001b[0;36mDataFrame.__getitem__\u001b[1;34m(self, key)\u001b[0m\n\u001b[0;32m   3805\u001b[0m \u001b[39mif\u001b[39;00m \u001b[39mself\u001b[39m\u001b[39m.\u001b[39mcolumns\u001b[39m.\u001b[39mnlevels \u001b[39m>\u001b[39m \u001b[39m1\u001b[39m:\n\u001b[0;32m   3806\u001b[0m     \u001b[39mreturn\u001b[39;00m \u001b[39mself\u001b[39m\u001b[39m.\u001b[39m_getitem_multilevel(key)\n\u001b[1;32m-> 3807\u001b[0m indexer \u001b[39m=\u001b[39m \u001b[39mself\u001b[39;49m\u001b[39m.\u001b[39;49mcolumns\u001b[39m.\u001b[39;49mget_loc(key)\n\u001b[0;32m   3808\u001b[0m \u001b[39mif\u001b[39;00m is_integer(indexer):\n\u001b[0;32m   3809\u001b[0m     indexer \u001b[39m=\u001b[39m [indexer]\n",
      "File \u001b[1;32mc:\\Users\\hp\\AppData\\Local\\Programs\\Python\\Python311\\Lib\\site-packages\\pandas\\core\\indexes\\base.py:3804\u001b[0m, in \u001b[0;36mIndex.get_loc\u001b[1;34m(self, key, method, tolerance)\u001b[0m\n\u001b[0;32m   3802\u001b[0m     \u001b[39mreturn\u001b[39;00m \u001b[39mself\u001b[39m\u001b[39m.\u001b[39m_engine\u001b[39m.\u001b[39mget_loc(casted_key)\n\u001b[0;32m   3803\u001b[0m \u001b[39mexcept\u001b[39;00m \u001b[39mKeyError\u001b[39;00m \u001b[39mas\u001b[39;00m err:\n\u001b[1;32m-> 3804\u001b[0m     \u001b[39mraise\u001b[39;00m \u001b[39mKeyError\u001b[39;00m(key) \u001b[39mfrom\u001b[39;00m \u001b[39merr\u001b[39;00m\n\u001b[0;32m   3805\u001b[0m \u001b[39mexcept\u001b[39;00m \u001b[39mTypeError\u001b[39;00m:\n\u001b[0;32m   3806\u001b[0m     \u001b[39m# If we have a listlike key, _check_indexing_error will raise\u001b[39;00m\n\u001b[0;32m   3807\u001b[0m     \u001b[39m#  InvalidIndexError. Otherwise we fall through and re-raise\u001b[39;00m\n\u001b[0;32m   3808\u001b[0m     \u001b[39m#  the TypeError.\u001b[39;00m\n\u001b[0;32m   3809\u001b[0m     \u001b[39mself\u001b[39m\u001b[39m.\u001b[39m_check_indexing_error(key)\n",
      "\u001b[1;31mKeyError\u001b[0m: 'variation_GASA (mol/mol)'"
     ]
    }
   ],
   "source": [
    "result=[]\n",
    "all_result=[]\n",
    "tva_thresh,mfop_thresh,mfoa_thresh,spp_thresh,spp_thresh,=0,0,0,0,0\n",
    "\n",
    "for i, batch in windows:\n",
    "    # print(f'--------window number {i}--------')\n",
    "    # print(batch.head(5))\n",
    "    featurs=feature_rep(batch,tva_thresh,mfop_thresh,mfoa_thresh,spp_thresh,gas_thresh=0.05)\n",
    "    cla=kick_detection(featurs)\n",
    "    # batch['kick']=cla\n",
    "    # result.append(cla)\n",
    "    # print(f'--------window number {i}--------')\n",
    "    # print(batch['kick'].head(24))\n",
    "    # all_result.append(batch['kick'].astype(int))"
   ]
  },
  {
   "cell_type": "code",
   "execution_count": null,
   "metadata": {},
   "outputs": [],
   "source": [
    "d={'A':[1,1,1,0,1,0],'B':[1,1,1,1,1,1]}\n",
    "d=pd."
   ]
  }
 ],
 "metadata": {
  "kernelspec": {
   "display_name": "Python 3",
   "language": "python",
   "name": "python3"
  },
  "language_info": {
   "codemirror_mode": {
    "name": "ipython",
    "version": 3
   },
   "file_extension": ".py",
   "mimetype": "text/x-python",
   "name": "python",
   "nbconvert_exporter": "python",
   "pygments_lexer": "ipython3",
   "version": "3.11.3"
  },
  "orig_nbformat": 4
 },
 "nbformat": 4,
 "nbformat_minor": 2
}
