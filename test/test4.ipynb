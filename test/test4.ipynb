{
 "cells": [
  {
   "cell_type": "code",
   "execution_count": 1,
   "metadata": {},
   "outputs": [],
   "source": [
    "from sklearn.preprocessing import StandardScaler\n",
    "import pandas as pd\n",
    "import numpy as np"
   ]
  },
  {
   "cell_type": "code",
   "execution_count": 45,
   "metadata": {},
   "outputs": [],
   "source": [
    "df=pd.read_excel(r\"C:\\Users\\hp\\Desktop\\M2\\PFE\\Code\\code pfe\\Coud source\\Code\\data\\Well-6_01-07-2022.xlsx\")"
   ]
  },
  {
   "cell_type": "code",
   "execution_count": 19,
   "metadata": {},
   "outputs": [
    {
     "data": {
      "text/plain": [
       "109"
      ]
     },
     "execution_count": 19,
     "metadata": {},
     "output_type": "execute_result"
    }
   ],
   "source": [
    "df[\"STATUS\"].sum()"
   ]
  },
  {
   "cell_type": "code",
   "execution_count": 46,
   "metadata": {},
   "outputs": [],
   "source": [
    "data =df[['TVA (m3)', 'SPPA (kPa)', 'MFOA (m3/s)',\n",
    "       'MFOP ((m3/s)/(m3/s))', 'GASA (mol/mol)']]"
   ]
  },
  {
   "cell_type": "code",
   "execution_count": 34,
   "metadata": {},
   "outputs": [],
   "source": [
    "def predict_kick(df, window_size):\n",
    "    # Prepare data for prediction\n",
    "    scaler = StandardScaler()\n",
    "    data = scaler.fit_transform(df)\n",
    "    print(scaler.mean_)\n",
    "    data = pd.DataFrame(data, columns=['TVA (m3)', 'SPPA (kPa)', 'MFOA (m3/s)',\n",
    "       'MFOP ((m3/s)/(m3/s))', 'GASA (mol/mol)'])\n",
    "    data[\"Kick\"] = 0\n",
    "    \n",
    "    # Use rolling window to create features and target variable\n",
    "    for i in range(window_size, df.shape[0]):\n",
    "        window_data = data.iloc[i-window_size:i]\n",
    "        if window_data['GASA (mol/mol)'].mean() >= 0.056959633:\n",
    "            window_data[\"Kick\"] = 1\n",
    "        else:\n",
    "            window_data[\"Kick\"] = 0\n",
    "        data.iloc[i] = window_data.iloc[-1]\n",
    "    \n",
    "    # Drop first rows with NaNs due to rolling window\n",
    "    data = data.iloc[window_size:]\n",
    "    return data\n"
   ]
  },
  {
   "cell_type": "code",
   "execution_count": 36,
   "metadata": {},
   "outputs": [
    {
     "name": "stdout",
     "output_type": "stream",
     "text": [
      "[4.76245602e+01 2.10919643e+03 0.00000000e+00 4.76030093e-02\n",
      " 3.13706597e-03]\n"
     ]
    },
    {
     "name": "stderr",
     "output_type": "stream",
     "text": [
      "C:\\Users\\hp\\AppData\\Local\\Temp\\ipykernel_14528\\1227805030.py:16: SettingWithCopyWarning: \n",
      "A value is trying to be set on a copy of a slice from a DataFrame.\n",
      "Try using .loc[row_indexer,col_indexer] = value instead\n",
      "\n",
      "See the caveats in the documentation: https://pandas.pydata.org/pandas-docs/stable/user_guide/indexing.html#returning-a-view-versus-a-copy\n",
      "  window_data[\"Kick\"] = 0\n"
     ]
    }
   ],
   "source": [
    "\n",
    "data1=predict_kick(data, window_size)"
   ]
  },
  {
   "cell_type": "code",
   "execution_count": 31,
   "metadata": {},
   "outputs": [
    {
     "data": {
      "text/plain": [
       "0"
      ]
     },
     "execution_count": 31,
     "metadata": {},
     "output_type": "execute_result"
    }
   ],
   "source": [
    "data1['Kick'].sum()"
   ]
  },
  {
   "cell_type": "code",
   "execution_count": 55,
   "metadata": {},
   "outputs": [],
   "source": [
    "import pandas as pd\n",
    "\n",
    "def detect_kick(df, window_size):\n",
    "    # Define the features\n",
    "    features = ['TVA (m3)', 'SPPA (kPa)', 'MFOA (m3/s)',\n",
    "       'MFOP ((m3/s)/(m3/s))', 'GASA (mol/mol)']\n",
    "    \n",
    "    # Compute the rolling means of the features\n",
    "    for feature in features:\n",
    "        df[f'{feature}_rolling_mean'] = df[feature].rolling(window_size).mean()\n",
    "    \n",
    "    # Define the kick detection rule\n",
    "    tva_thresh =  df['TVA (m3)_rolling_mean'].mean()\n",
    "    mfop_thresh =  df['MFOP ((m3/s)/(m3/s))_rolling_mean'].mean()\n",
    "    mfoa_thresh =  df['MFOA (m3/s)_rolling_mean'].mean()\n",
    "    spp_thresh =  df['SPPA (kPa)_rolling_mean'].mean()\n",
    "    gas_thresh =  df['GASA (mol/mol)_rolling_mean'].mean()\n",
    "    print(tva_thresh,mfop_thresh,mfoa_thresh,spp_thresh,spp_thresh,gas_thresh)\n",
    "    \n",
    "    # Apply the kick detection rule\n",
    "    df['Kick'] = ((df['TVA (m3)_rolling_mean'] < tva_thresh) &\n",
    "                  (df['MFOP ((m3/s)/(m3/s))_rolling_mean'] > mfop_thresh) &\n",
    "                  (df['MFOA (m3/s)_rolling_mean'] > mfoa_thresh) &\n",
    "                  (df['SPPA (kPa)_rolling_mean'] > spp_thresh) &\n",
    "                  (df['GASA (mol/mol)_rolling_mean'] > gas_thresh)).astype(int)\n",
    "    \n",
    "    return df\n",
    "\n"
   ]
  },
  {
   "cell_type": "code",
   "execution_count": 56,
   "metadata": {},
   "outputs": [
    {
     "name": "stdout",
     "output_type": "stream",
     "text": [
      "47.57487092279516 0.04754005881133572 0.0 2092.9460098558716 2092.9460098558716 0.003127484469063143\n"
     ]
    }
   ],
   "source": [
    "window_size=109\n",
    "data1=detect_kick(data, window_size)"
   ]
  },
  {
   "cell_type": "code",
   "execution_count": 59,
   "metadata": {},
   "outputs": [],
   "source": [
    "data1.to_excel('data_rolling.xlsx',index=False)"
   ]
  },
  {
   "cell_type": "code",
   "execution_count": 41,
   "metadata": {},
   "outputs": [
    {
     "name": "stdout",
     "output_type": "stream",
     "text": [
      "   value  rolling_mean\n",
      "0      1           NaN\n",
      "1      2           NaN\n",
      "2      3           NaN\n",
      "3      4           NaN\n",
      "4      5           3.0\n",
      "5      6           4.0\n",
      "6      7           5.0\n",
      "7      8           6.0\n",
      "8      9           7.0\n",
      "9     10           8.0\n"
     ]
    }
   ],
   "source": [
    "import pandas as pd\n",
    "\n",
    "# Create a sample time series\n",
    "df = pd.DataFrame({'value': [1, 2, 3, 4, 5, 6, 7, 8, 9, 10]})\n",
    "\n",
    "# Calculate the rolling mean with a window size of 3\n",
    "df['rolling_mean'] = df['value'].rolling(window=5).mean()\n",
    "\n",
    "# Print the results\n",
    "print(df)"
   ]
  },
  {
   "cell_type": "code",
   "execution_count": 2,
   "metadata": {},
   "outputs": [
    {
     "name": "stdout",
     "output_type": "stream",
     "text": [
      "True\n"
     ]
    }
   ],
   "source": [
    "my_list = [1, 1, 1, 1]\n",
    "result = all(my_list)\n",
    "print(result)"
   ]
  },
  {
   "cell_type": "code",
   "execution_count": 4,
   "metadata": {},
   "outputs": [],
   "source": [
    "import pandas as pd"
   ]
  },
  {
   "cell_type": "code",
   "execution_count": 120,
   "metadata": {},
   "outputs": [
    {
     "data": {
      "text/plain": [
       "(17280, 16)"
      ]
     },
     "execution_count": 120,
     "metadata": {},
     "output_type": "execute_result"
    }
   ],
   "source": [
    "df=pd.read_excel(r\"C:\\Users\\hp\\Desktop\\M2\\PFE\\Code\\code pfe\\Coud source\\Code\\dataset\\Well-6.xlsx\")\n",
    "\n",
    "df.dtypes\n",
    "df['kick_recognition']=0\n",
    "df.shape\n",
    "# Index(['Unnamed: 0', 'level_0', 'index', 'TVA (m3)', 'SPPA (kPa)',\n",
    "#        'MFOA (m3/s)', 'MFOP ((m3/s)/(m3/s))', 'GASA (mol/mol)', 'STATUS',\n",
    "#        'Unnamed: 41', 'variation_TVA (m3)', 'variation_SPPA (kPa)',    \n",
    "#        'variation_MFOP ((m3/s)/(m3/s))', 'variation_MFOA (m3/s)',      \n",
    "#        'variation_GASA (mol/mol)'],\n",
    "#       dtype='object')"
   ]
  },
  {
   "cell_type": "code",
   "execution_count": 26,
   "metadata": {},
   "outputs": [
    {
     "data": {
      "text/plain": [
       "Index(['Unnamed: 0', 'level_0', 'index', 'TVA (m3)', 'SPPA (kPa)',\n",
       "       'MFOA (m3/s)', 'MFOP ((m3/s)/(m3/s))', 'GASA (mol/mol)', 'STATUS',\n",
       "       'Unnamed: 41', 'variation_TVA (m3)', 'variation_SPPA (kPa)',\n",
       "       'variation_MFOP ((m3/s)/(m3/s))', 'variation_MFOA (m3/s)',\n",
       "       'variation_GASA (mol/mol)', 'kick'],\n",
       "      dtype='object')"
      ]
     },
     "execution_count": 26,
     "metadata": {},
     "output_type": "execute_result"
    }
   ],
   "source": [
    "df.columns"
   ]
  },
  {
   "cell_type": "code",
   "execution_count": 138,
   "metadata": {},
   "outputs": [],
   "source": [
    "\n",
    "def feature_rep(window,tva_thresh,mfop_thresh,mfoa_thresh,spp_thresh,gas_thresh):\n",
    "    gasa,mfoa,spp,mfop,tva=False,False,False,False,False\n",
    "    if window['variation_GASA (mol/mol)'].sum()>=gas_thresh:\n",
    "        gasa=True\n",
    "    if window['variation_TVA (m3)'].sum()>tva_thresh:\n",
    "        tva=True\n",
    "    if window['variation_SPPA (kPa)'].sum()<spp_thresh:\n",
    "        spp=True\n",
    "    if window['variation_MFOA (m3/s)'].sum()<mfoa_thresh:\n",
    "        mfoa=True\n",
    "    if window['variation_MFOP ((m3/s)/(m3/s))'].sum()<mfop_thresh:\n",
    "        mfop= True\n",
    "    \n",
    "    return [gasa,mfoa,mfop,spp,tva]\n",
    "\n",
    "def kick_detection(featurs):\n",
    "    return all(featurs)\n",
    "    "
   ]
  },
  {
   "cell_type": "code",
   "execution_count": 139,
   "metadata": {},
   "outputs": [
    {
     "data": {
      "text/plain": [
       "-12093.40429221731"
      ]
     },
     "execution_count": 139,
     "metadata": {},
     "output_type": "execute_result"
    }
   ],
   "source": [
    "\n",
    "window_size = 120\n",
    "window_size = int(window_size // 5)# convert time to rows\n",
    "windows = df.groupby((df.index // window_size) + 1)\n",
    "windows.head()\n",
    "\n",
    "min(df['variation_SPPA (kPa)'])"
   ]
  },
  {
   "cell_type": "code",
   "execution_count": 140,
   "metadata": {},
   "outputs": [
    {
     "name": "stderr",
     "output_type": "stream",
     "text": [
      "C:\\Users\\hp\\AppData\\Local\\Temp\\ipykernel_10548\\462190003.py:10: SettingWithCopyWarning: \n",
      "A value is trying to be set on a copy of a slice from a DataFrame\n",
      "\n",
      "See the caveats in the documentation: https://pandas.pydata.org/pandas-docs/stable/user_guide/indexing.html#returning-a-view-versus-a-copy\n",
      "  df['kick_recognition'][i:i+window_size]=int(cla)\n"
     ]
    }
   ],
   "source": [
    "result=[]\n",
    "all_result=[]\n",
    "tva_thresh,mfop_thresh,mfoa_thresh,spp_thresh,spp_thresh,=0,0,0,0,0\n",
    "\n",
    "for i, batch in windows:\n",
    "    # print(f'--------window number {i}--------')\n",
    "    # print(batch.head(5))\n",
    "    featurs=feature_rep(batch,tva_thresh,mfop_thresh,mfoa_thresh,spp_thresh,gas_thresh=0.05)\n",
    "    cla=kick_detection(featurs)\n",
    "    df['kick_recognition'][i:i+window_size]=int(cla)\n",
    "    \n",
    "\n",
    "    \n"
   ]
  },
  {
   "cell_type": "code",
   "execution_count": 142,
   "metadata": {},
   "outputs": [
    {
     "data": {
      "text/plain": [
       "{0}"
      ]
     },
     "execution_count": 142,
     "metadata": {},
     "output_type": "execute_result"
    }
   ],
   "source": [
    "set(df['kick_recognition'])"
   ]
  },
  {
   "cell_type": "code",
   "execution_count": 137,
   "metadata": {},
   "outputs": [
    {
     "data": {
      "text/plain": [
       "0    0\n",
       "1    0\n",
       "2    0\n",
       "3    0\n",
       "4    0\n",
       "Name: kick_recognition, dtype: int64"
      ]
     },
     "execution_count": 137,
     "metadata": {},
     "output_type": "execute_result"
    }
   ],
   "source": [
    "df['kick_recognition']"
   ]
  },
  {
   "cell_type": "code",
   "execution_count": 143,
   "metadata": {},
   "outputs": [],
   "source": [
    "total_percentage_diff = ((df['STATUS'] - df['kick_recognition'])).sum() * 100 / len(df)"
   ]
  },
  {
   "cell_type": "code",
   "execution_count": null,
   "metadata": {},
   "outputs": [],
   "source": []
  },
  {
   "cell_type": "code",
   "execution_count": 144,
   "metadata": {},
   "outputs": [
    {
     "data": {
      "text/plain": [
       "0.6307870370370371"
      ]
     },
     "execution_count": 144,
     "metadata": {},
     "output_type": "execute_result"
    }
   ],
   "source": [
    "total_percentage_diff"
   ]
  },
  {
   "cell_type": "code",
   "execution_count": 130,
   "metadata": {},
   "outputs": [
    {
     "name": "stdout",
     "output_type": "stream",
     "text": [
      "set()\n"
     ]
    },
    {
     "data": {
      "text/plain": [
       "[]"
      ]
     },
     "execution_count": 130,
     "metadata": {},
     "output_type": "execute_result"
    }
   ],
   "source": [
    "print(set(result))\n",
    "indices = [i for i in range(len(result)) if result[i] ==1]\n",
    "indices"
   ]
  }
 ],
 "metadata": {
  "kernelspec": {
   "display_name": "Python 3",
   "language": "python",
   "name": "python3"
  },
  "language_info": {
   "codemirror_mode": {
    "name": "ipython",
    "version": 3
   },
   "file_extension": ".py",
   "mimetype": "text/x-python",
   "name": "python",
   "nbconvert_exporter": "python",
   "pygments_lexer": "ipython3",
   "version": "3.11.3"
  },
  "orig_nbformat": 4
 },
 "nbformat": 4,
 "nbformat_minor": 2
}
