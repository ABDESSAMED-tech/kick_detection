{
 "cells": [
  {
   "cell_type": "code",
   "execution_count": 1,
   "metadata": {},
   "outputs": [],
   "source": [
    "from sklearn.preprocessing import StandardScaler\n",
    "import pandas as pd\n",
    "import numpy as np"
   ]
  },
  {
   "cell_type": "code",
   "execution_count": 45,
   "metadata": {},
   "outputs": [],
   "source": [
    "df=pd.read_excel(r\"C:\\Users\\hp\\Desktop\\M2\\PFE\\Code\\code pfe\\Coud source\\Code\\data\\Well-6_01-07-2022.xlsx\")"
   ]
  },
  {
   "cell_type": "code",
   "execution_count": 19,
   "metadata": {},
   "outputs": [
    {
     "data": {
      "text/plain": [
       "109"
      ]
     },
     "execution_count": 19,
     "metadata": {},
     "output_type": "execute_result"
    }
   ],
   "source": [
    "df[\"STATUS\"].sum()"
   ]
  },
  {
   "cell_type": "code",
   "execution_count": 46,
   "metadata": {},
   "outputs": [],
   "source": [
    "data =df[['TVA (m3)', 'SPPA (kPa)', 'MFOA (m3/s)',\n",
    "       'MFOP ((m3/s)/(m3/s))', 'GASA (mol/mol)']]"
   ]
  },
  {
   "cell_type": "code",
   "execution_count": 34,
   "metadata": {},
   "outputs": [],
   "source": [
    "def predict_kick(df, window_size):\n",
    "    # Prepare data for prediction\n",
    "    scaler = StandardScaler()\n",
    "    data = scaler.fit_transform(df)\n",
    "    print(scaler.mean_)\n",
    "    data = pd.DataFrame(data, columns=['TVA (m3)', 'SPPA (kPa)', 'MFOA (m3/s)',\n",
    "       'MFOP ((m3/s)/(m3/s))', 'GASA (mol/mol)'])\n",
    "    data[\"Kick\"] = 0\n",
    "    \n",
    "    # Use rolling window to create features and target variable\n",
    "    for i in range(window_size, df.shape[0]):\n",
    "        window_data = data.iloc[i-window_size:i]\n",
    "        if window_data['GASA (mol/mol)'].mean() >= 0.056959633:\n",
    "            window_data[\"Kick\"] = 1\n",
    "        else:\n",
    "            window_data[\"Kick\"] = 0\n",
    "        data.iloc[i] = window_data.iloc[-1]\n",
    "    \n",
    "    # Drop first rows with NaNs due to rolling window\n",
    "    data = data.iloc[window_size:]\n",
    "    return data\n"
   ]
  },
  {
   "cell_type": "code",
   "execution_count": 36,
   "metadata": {},
   "outputs": [
    {
     "name": "stdout",
     "output_type": "stream",
     "text": [
      "[4.76245602e+01 2.10919643e+03 0.00000000e+00 4.76030093e-02\n",
      " 3.13706597e-03]\n"
     ]
    },
    {
     "name": "stderr",
     "output_type": "stream",
     "text": [
      "C:\\Users\\hp\\AppData\\Local\\Temp\\ipykernel_14528\\1227805030.py:16: SettingWithCopyWarning: \n",
      "A value is trying to be set on a copy of a slice from a DataFrame.\n",
      "Try using .loc[row_indexer,col_indexer] = value instead\n",
      "\n",
      "See the caveats in the documentation: https://pandas.pydata.org/pandas-docs/stable/user_guide/indexing.html#returning-a-view-versus-a-copy\n",
      "  window_data[\"Kick\"] = 0\n"
     ]
    }
   ],
   "source": [
    "\n",
    "data1=predict_kick(data, window_size)"
   ]
  },
  {
   "cell_type": "code",
   "execution_count": 31,
   "metadata": {},
   "outputs": [
    {
     "data": {
      "text/plain": [
       "0"
      ]
     },
     "execution_count": 31,
     "metadata": {},
     "output_type": "execute_result"
    }
   ],
   "source": [
    "data1['Kick'].sum()"
   ]
  },
  {
   "cell_type": "code",
   "execution_count": 55,
   "metadata": {},
   "outputs": [],
   "source": [
    "import pandas as pd\n",
    "\n",
    "def detect_kick(df, window_size):\n",
    "    # Define the features\n",
    "    features = ['TVA (m3)', 'SPPA (kPa)', 'MFOA (m3/s)',\n",
    "       'MFOP ((m3/s)/(m3/s))', 'GASA (mol/mol)']\n",
    "    \n",
    "    # Compute the rolling means of the features\n",
    "    for feature in features:\n",
    "        df[f'{feature}_rolling_mean'] = df[feature].rolling(window_size).mean()\n",
    "    \n",
    "    # Define the kick detection rule\n",
    "    tva_thresh =  df['TVA (m3)_rolling_mean'].mean()\n",
    "    mfop_thresh =  df['MFOP ((m3/s)/(m3/s))_rolling_mean'].mean()\n",
    "    mfoa_thresh =  df['MFOA (m3/s)_rolling_mean'].mean()\n",
    "    spp_thresh =  df['SPPA (kPa)_rolling_mean'].mean()\n",
    "    gas_thresh =  df['GASA (mol/mol)_rolling_mean'].mean()\n",
    "    print(tva_thresh,mfop_thresh,mfoa_thresh,spp_thresh,spp_thresh,gas_thresh)\n",
    "    \n",
    "    # Apply the kick detection rule\n",
    "    df['Kick'] = ((df['TVA (m3)_rolling_mean'] < tva_thresh) &\n",
    "                  (df['MFOP ((m3/s)/(m3/s))_rolling_mean'] > mfop_thresh) &\n",
    "                  (df['MFOA (m3/s)_rolling_mean'] > mfoa_thresh) &\n",
    "                  (df['SPPA (kPa)_rolling_mean'] > spp_thresh) &\n",
    "                  (df['GASA (mol/mol)_rolling_mean'] > gas_thresh)).astype(int)\n",
    "    \n",
    "    return df\n",
    "\n"
   ]
  },
  {
   "cell_type": "code",
   "execution_count": 56,
   "metadata": {},
   "outputs": [
    {
     "name": "stdout",
     "output_type": "stream",
     "text": [
      "47.57487092279516 0.04754005881133572 0.0 2092.9460098558716 2092.9460098558716 0.003127484469063143\n"
     ]
    }
   ],
   "source": [
    "window_size=109\n",
    "data1=detect_kick(data, window_size)"
   ]
  },
  {
   "cell_type": "code",
   "execution_count": 59,
   "metadata": {},
   "outputs": [],
   "source": [
    "data1.to_excel('data_rolling.xlsx',index=False)"
   ]
  },
  {
   "cell_type": "code",
   "execution_count": 41,
   "metadata": {},
   "outputs": [
    {
     "name": "stdout",
     "output_type": "stream",
     "text": [
      "   value  rolling_mean\n",
      "0      1           NaN\n",
      "1      2           NaN\n",
      "2      3           NaN\n",
      "3      4           NaN\n",
      "4      5           3.0\n",
      "5      6           4.0\n",
      "6      7           5.0\n",
      "7      8           6.0\n",
      "8      9           7.0\n",
      "9     10           8.0\n"
     ]
    }
   ],
   "source": [
    "import pandas as pd\n",
    "\n",
    "# Create a sample time series\n",
    "df = pd.DataFrame({'value': [1, 2, 3, 4, 5, 6, 7, 8, 9, 10]})\n",
    "\n",
    "# Calculate the rolling mean with a window size of 3\n",
    "df['rolling_mean'] = df['value'].rolling(window=5).mean()\n",
    "\n",
    "# Print the results\n",
    "print(df)"
   ]
  }
 ],
 "metadata": {
  "kernelspec": {
   "display_name": "Python 3",
   "language": "python",
   "name": "python3"
  },
  "language_info": {
   "codemirror_mode": {
    "name": "ipython",
    "version": 3
   },
   "file_extension": ".py",
   "mimetype": "text/x-python",
   "name": "python",
   "nbconvert_exporter": "python",
   "pygments_lexer": "ipython3",
   "version": "3.11.3"
  },
  "orig_nbformat": 4
 },
 "nbformat": 4,
 "nbformat_minor": 2
}
