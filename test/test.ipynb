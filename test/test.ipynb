{
 "cells": [
  {
   "cell_type": "code",
   "execution_count": 2,
   "metadata": {},
   "outputs": [],
   "source": [
    "from sklearn.preprocessing import StandardScaler\n",
    "import pandas as pd\n",
    "import numpy as np\n",
    "import matplotlib.pyplot as plt\n",
    "import seaborn as sns"
   ]
  },
  {
   "cell_type": "code",
   "execution_count": 1,
   "metadata": {},
   "outputs": [],
   "source": [
    "def feature_rep_mean(window,thrsh_tva,thrsh_gasa):\n",
    "    gasa, mfoa, spp, mfop, tva = 0, 0, 0, 0, 0\n",
    "    # threshold for each feature std+mean of the feature when the kick is happen\n",
    "    if window['GASA (mol/mol)'].mean() >=thrsh_gasa:\n",
    "        gasa = 1\n",
    "        \n",
    "    elif window['TVA (m3)'].mean() >=thrsh_tva :\n",
    "        tva = 1\n",
    "        \n",
    "    \n",
    "    return [gasa, tva]"
   ]
  },
  {
   "cell_type": "code",
   "execution_count": 165,
   "metadata": {},
   "outputs": [],
   "source": [
    "#gasa=1,tva=2,gasa+tva=3 non kick=0\n",
    "\n",
    "def kick_detection(featurs):\n",
    "    \n",
    "    if featurs[0] :\n",
    "        # print('gasa')\n",
    "        return 1\n",
    "    if featurs[0] and featurs[1]:\n",
    "        print('gasa+tva')\n",
    "        return 1\n",
    "    else:\n",
    "        \n",
    "        return 0"
   ]
  },
  {
   "cell_type": "code",
   "execution_count": 1,
   "metadata": {},
   "outputs": [
    {
     "ename": "NameError",
     "evalue": "name 'pd' is not defined",
     "output_type": "error",
     "traceback": [
      "\u001b[1;31m---------------------------------------------------------------------------\u001b[0m",
      "\u001b[1;31mNameError\u001b[0m                                 Traceback (most recent call last)",
      "Cell \u001b[1;32mIn[1], line 1\u001b[0m\n\u001b[1;32m----> 1\u001b[0m df\u001b[39m=\u001b[39mpd\u001b[39m.\u001b[39mread_excel(\u001b[39mr\u001b[39m\u001b[39m'\u001b[39m\u001b[39mC:\u001b[39m\u001b[39m\\\u001b[39m\u001b[39mUsers\u001b[39m\u001b[39m\\\u001b[39m\u001b[39mhp\u001b[39m\u001b[39m\\\u001b[39m\u001b[39mDesktop\u001b[39m\u001b[39m\\\u001b[39m\u001b[39mM2\u001b[39m\u001b[39m\\\u001b[39m\u001b[39mPFE\u001b[39m\u001b[39m\\\u001b[39m\u001b[39mCode\u001b[39m\u001b[39m\\\u001b[39m\u001b[39mcode pfe\u001b[39m\u001b[39m\\\u001b[39m\u001b[39mCoud source\u001b[39m\u001b[39m\\\u001b[39m\u001b[39mCode\u001b[39m\u001b[39m\\\u001b[39m\u001b[39mdataset\u001b[39m\u001b[39m\\\u001b[39m\u001b[39mWell-8.xlsx\u001b[39m\u001b[39m'\u001b[39m)\n\u001b[0;32m      2\u001b[0m df[\u001b[39m'\u001b[39m\u001b[39mkick_recognition\u001b[39m\u001b[39m'\u001b[39m] \u001b[39m=\u001b[39m \u001b[39m111\u001b[39m \u001b[39m#just initialzation\u001b[39;00m\n",
      "\u001b[1;31mNameError\u001b[0m: name 'pd' is not defined"
     ]
    }
   ],
   "source": [
    "df=pd.read_excel(r'C:\\Users\\hp\\Desktop\\M2\\PFE\\Code\\code pfe\\Coud source\\Code\\dataset\\Well-8.xlsx')\n",
    "df['kick_recognition'] = 111 #just initialzation\n"
   ]
  },
  {
   "cell_type": "code",
   "execution_count": 174,
   "metadata": {},
   "outputs": [],
   "source": [
    "data=df[df['STATUS']==1]\n",
    "# thrsh_tva_max,thrsh_tva_min,thrsh_gasa_max,thrsh_gasa_min=  0.01,0.05\n",
    "window_size =180\n",
    "window_size=window_size//5\n",
    "l=[]\n",
    "for i in range(len(data['variation_TVA (m3)'])-window_size+1):\n",
    "        window = data['GASA (mol/mol)'][i:i+window_size].mean()\n",
    "        l.append(window)    "
   ]
  },
  {
   "cell_type": "code",
   "execution_count": 181,
   "metadata": {},
   "outputs": [
    {
     "data": {
      "text/plain": [
       "0.020609027777777778"
      ]
     },
     "execution_count": 181,
     "metadata": {},
     "output_type": "execute_result"
    }
   ],
   "source": [
    "np.mean(l)"
   ]
  },
  {
   "cell_type": "code",
   "execution_count": 163,
   "metadata": {},
   "outputs": [
    {
     "data": {
      "text/plain": [
       "<Axes: >"
      ]
     },
     "execution_count": 163,
     "metadata": {},
     "output_type": "execute_result"
    },
    {
     "data": {
      "image/png": "[encoded data removed]",
      "text/plain": [
       "<Figure size 640x480 with 1 Axes>"
      ]
     },
     "metadata": {},
     "output_type": "display_data"
    }
   ],
   "source": [
    "data['GASA (mol/mol)'].plot()"
   ]
  },
  {
   "cell_type": "code",
   "execution_count": 153,
   "metadata": {},
   "outputs": [
    {
     "data": {
      "text/plain": [
       "0.08400579032258067"
      ]
     },
     "execution_count": 153,
     "metadata": {},
     "output_type": "execute_result"
    }
   ],
   "source": [
    "df['GASA (mol/mol)'][df['Unnamed: 40']=='TVA + GASA'].mean()"
   ]
  },
  {
   "cell_type": "code",
   "execution_count": 20,
   "metadata": {},
   "outputs": [
    {
     "name": "stdout",
     "output_type": "stream",
     "text": [
      "57.66466108333335 56.708180444444444\n"
     ]
    }
   ],
   "source": [
    "print(max(l),min(l))"
   ]
  },
  {
   "cell_type": "code",
   "execution_count": 207,
   "metadata": {},
   "outputs": [
    {
     "name": "stderr",
     "output_type": "stream",
     "text": [
      "C:\\Users\\hp\\AppData\\Local\\Temp\\ipykernel_4324\\1559457932.py:11: SettingWithCopyWarning: \n",
      "A value is trying to be set on a copy of a slice from a DataFrame\n",
      "\n",
      "See the caveats in the documentation: https://pandas.pydata.org/pandas-docs/stable/user_guide/indexing.html#returning-a-view-versus-a-copy\n",
      "  df['kick_recognition'][i:i+window_size]=kick_detection(feature_rep_mean(window,thrsh_tva,thrsh_gasa))\n"
     ]
    },
    {
     "name": "stdout",
     "output_type": "stream",
     "text": [
      "0.5039086356418713 0.7870813397129187\n"
     ]
    }
   ],
   "source": [
    "thrsh_tva,thrsh_gasa= 87.13,0.008\n",
    "window_size =180\n",
    "window_size=window_size//5\n",
    "ACC=0\n",
    "statu_acc=0\n",
    "\n",
    "for i in range(len(df)-window_size+1):\n",
    "                        window = df.iloc[i:i+window_size]\n",
    "                # window_varation(window,wind_var)       #### i de status a au min avoir un 1 dans un window\n",
    "                        #print(feature_rep_mean(window,thrsh_gasa,thrdh_mfop,thrsh_spp,thrsh_tva))\n",
    "                        df['kick_recognition'][i:i+window_size]=kick_detection(feature_rep_mean(window,thrsh_tva,thrsh_gasa))\n",
    "ACC=sum((df['STATUS']==df['kick_recognition']))/df.shape[0] #calculate accuracy of algorithme\n",
    "data=df[df['STATUS']==1]#for get just where status=1\n",
    "statu_acc=sum((data['STATUS']==data['kick_recognition']))/data.shape[0]\n",
    "               \n",
    "print(ACC,statu_acc)\n",
    "        \n",
    "        "
   ]
  },
  {
   "cell_type": "code",
   "execution_count": 73,
   "metadata": {},
   "outputs": [
    {
     "data": {
      "text/plain": [
       "0.3810603769781272"
      ]
     },
     "execution_count": 73,
     "metadata": {},
     "output_type": "execute_result"
    }
   ],
   "source": [
    "ACC=sum((df['STATUS']==df['kick_recognition']))/df.shape[0] #calculate accuracy of algorithme\n",
    "ACC"
   ]
  },
  {
   "cell_type": "code",
   "execution_count": 65,
   "metadata": {},
   "outputs": [
    {
     "name": "stdout",
     "output_type": "stream",
     "text": [
      "status accuracy 0.8695652173913043\n"
     ]
    }
   ],
   "source": [
    "data=df[df['STATUS']==1]#for get just where status=1\n",
    "statu_acc=sum((data['STATUS']==data['kick_recognition']))/data.shape[0]\n",
    "print('status accuracy',statu_acc)"
   ]
  },
  {
   "cell_type": "code",
   "execution_count": 198,
   "metadata": {},
   "outputs": [],
   "source": [
    "data=df[df['STATUS']==1]\n",
    "\n",
    "\n"
   ]
  }
 ],
 "metadata": {
  "kernelspec": {
   "display_name": "Python 3",
   "language": "python",
   "name": "python3"
  },
  "language_info": {
   "codemirror_mode": {
    "name": "ipython",
    "version": 3
   },
   "file_extension": ".py",
   "mimetype": "text/x-python",
   "name": "python",
   "nbconvert_exporter": "python",
   "pygments_lexer": "ipython3",
   "version": "3.11.3"
  },
  "orig_nbformat": 4
 },
 "nbformat": 4,
 "nbformat_minor": 2
}
