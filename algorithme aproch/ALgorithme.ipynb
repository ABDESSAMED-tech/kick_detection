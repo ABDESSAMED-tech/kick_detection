{
 "cells": [
  {
   "cell_type": "code",
   "execution_count": 1,
   "metadata": {},
   "outputs": [],
   "source": [
    "import pandas as pd\n"
   ]
  },
  {
   "attachments": {},
   "cell_type": "markdown",
   "metadata": {},
   "source": [
    "# calculate varations"
   ]
  },
  {
   "cell_type": "code",
   "execution_count": 23,
   "metadata": {},
   "outputs": [],
   "source": [
    "def add_variation_column(df, column_name):\n",
    "    variations = [None]  # Initialize the list of variations with None for the first row\n",
    "    for i in range(1, len(df)):\n",
    "        diff = df[column_name].iloc[i] - df[column_name].iloc[i-1]\n",
    "        variations.append(diff)\n",
    "    df[f'variation_{column_name}'] = variations\n",
    "    return df"
   ]
  },
  {
   "attachments": {},
   "cell_type": "markdown",
   "metadata": {},
   "source": [
    "# read the data from  data_kick.xlsx forme folder machine learning algorithem test\n",
    "or use the file from dataset folder the varaiation is calculated"
   ]
  },
  {
   "cell_type": "code",
   "execution_count": 144,
   "metadata": {},
   "outputs": [],
   "source": [
    "df=pd.read_excel(r'C:\\Users\\hp\\Desktop\\M2\\PFE\\Code\\code pfe\\dataset\\6.xlsx')\n"
   ]
  },
  {
   "cell_type": "code",
   "execution_count": 145,
   "metadata": {},
   "outputs": [
    {
     "data": {
      "text/plain": [
       "Index(['index', 'CHKP (kPa)', 'SPM1 (1/s)', 'SKNO', 'SPM2 (1/s)', 'SPM3 (1/s)',\n",
       "       'SQID', 'TVA (m3)', 'DATE', 'TIME', 'MFOP ((m3/s)/(m3/s))', 'ACTC',\n",
       "       'MFOA (m3/s)', 'DBTM (m)', 'DBTV (m)', 'MFIA (m3/s)', 'DMEA (m)',\n",
       "       'MDIA (kg/m3)', 'DVER (m)', 'MTOA (degC)', 'BPOS (m)', 'MTIA (degC)',\n",
       "       'ROPA (m/h)', 'MCOA (S/m)', 'HKLA (N)', 'MCIA (S/m)', 'HKLX (N)',\n",
       "       'STKC', 'WOBA (N)', 'WOBX (N)', 'DRTM (m)', 'TQA (N.m)', 'TQX (N.m)',\n",
       "       'GASA (mol/mol)', 'RPMA (rad/s)', 'SPPA (kPa)', 'RIG_STATE',\n",
       "       'MDOA (kg/m3)', 'ROPI (m/s)', 'Unnamed: 39', 'STATUS', 'Unnamed: 41'],\n",
       "      dtype='object')"
      ]
     },
     "execution_count": 145,
     "metadata": {},
     "output_type": "execute_result"
    }
   ],
   "source": [
    "df.columns"
   ]
  },
  {
   "cell_type": "code",
   "execution_count": 146,
   "metadata": {},
   "outputs": [],
   "source": [
    "cols=['TVA (m3)', 'SPPA (kPa)', 'MFOP ((m3/s)/(m3/s))',\n",
    "       'GASA (mol/mol)']\n"
   ]
  },
  {
   "cell_type": "code",
   "execution_count": 147,
   "metadata": {},
   "outputs": [],
   "source": [
    "data=df[cols].copy()\n"
   ]
  },
  {
   "cell_type": "code",
   "execution_count": 148,
   "metadata": {},
   "outputs": [],
   "source": [
    "for column_name in cols:\n",
    "    data=add_variation_column(data, column_name)"
   ]
  },
  {
   "cell_type": "code",
   "execution_count": 149,
   "metadata": {},
   "outputs": [],
   "source": [
    "data=data.dropna()"
   ]
  },
  {
   "cell_type": "code",
   "execution_count": 150,
   "metadata": {},
   "outputs": [
    {
     "data": {
      "text/plain": [
       "(17280, 42)"
      ]
     },
     "execution_count": 150,
     "metadata": {},
     "output_type": "execute_result"
    }
   ],
   "source": [
    "df.shape"
   ]
  },
  {
   "cell_type": "code",
   "execution_count": 151,
   "metadata": {},
   "outputs": [],
   "source": [
    "data['STATUS']=df['STATUS'][1:]"
   ]
  },
  {
   "cell_type": "code",
   "execution_count": 152,
   "metadata": {},
   "outputs": [
    {
     "data": {
      "text/html": [
       "<div>\n",
       "<style scoped>\n",
       "    .dataframe tbody tr th:only-of-type {\n",
       "        vertical-align: middle;\n",
       "    }\n",
       "\n",
       "    .dataframe tbody tr th {\n",
       "        vertical-align: top;\n",
       "    }\n",
       "\n",
       "    .dataframe thead th {\n",
       "        text-align: right;\n",
       "    }\n",
       "</style>\n",
       "<table border=\"1\" class=\"dataframe\">\n",
       "  <thead>\n",
       "    <tr style=\"text-align: right;\">\n",
       "      <th></th>\n",
       "      <th>TVA (m3)</th>\n",
       "      <th>SPPA (kPa)</th>\n",
       "      <th>MFOP ((m3/s)/(m3/s))</th>\n",
       "      <th>GASA (mol/mol)</th>\n",
       "      <th>variation_TVA (m3)</th>\n",
       "      <th>variation_SPPA (kPa)</th>\n",
       "      <th>variation_MFOP ((m3/s)/(m3/s))</th>\n",
       "      <th>variation_GASA (mol/mol)</th>\n",
       "      <th>STATUS</th>\n",
       "    </tr>\n",
       "  </thead>\n",
       "  <tbody>\n",
       "    <tr>\n",
       "      <th>1</th>\n",
       "      <td>39.2</td>\n",
       "      <td>68.947573</td>\n",
       "      <td>0.05</td>\n",
       "      <td>0.0</td>\n",
       "      <td>0.0</td>\n",
       "      <td>-13.789515</td>\n",
       "      <td>0.0</td>\n",
       "      <td>0.0</td>\n",
       "      <td>0</td>\n",
       "    </tr>\n",
       "    <tr>\n",
       "      <th>2</th>\n",
       "      <td>39.2</td>\n",
       "      <td>68.947573</td>\n",
       "      <td>0.05</td>\n",
       "      <td>0.0</td>\n",
       "      <td>0.0</td>\n",
       "      <td>0.000000</td>\n",
       "      <td>0.0</td>\n",
       "      <td>0.0</td>\n",
       "      <td>0</td>\n",
       "    </tr>\n",
       "    <tr>\n",
       "      <th>3</th>\n",
       "      <td>39.1</td>\n",
       "      <td>68.947573</td>\n",
       "      <td>0.05</td>\n",
       "      <td>0.0</td>\n",
       "      <td>-0.1</td>\n",
       "      <td>0.000000</td>\n",
       "      <td>0.0</td>\n",
       "      <td>0.0</td>\n",
       "      <td>0</td>\n",
       "    </tr>\n",
       "    <tr>\n",
       "      <th>4</th>\n",
       "      <td>39.2</td>\n",
       "      <td>68.947573</td>\n",
       "      <td>0.05</td>\n",
       "      <td>0.0</td>\n",
       "      <td>0.1</td>\n",
       "      <td>0.000000</td>\n",
       "      <td>0.0</td>\n",
       "      <td>0.0</td>\n",
       "      <td>0</td>\n",
       "    </tr>\n",
       "    <tr>\n",
       "      <th>5</th>\n",
       "      <td>39.2</td>\n",
       "      <td>75.842330</td>\n",
       "      <td>0.05</td>\n",
       "      <td>0.0</td>\n",
       "      <td>0.0</td>\n",
       "      <td>6.894757</td>\n",
       "      <td>0.0</td>\n",
       "      <td>0.0</td>\n",
       "      <td>0</td>\n",
       "    </tr>\n",
       "  </tbody>\n",
       "</table>\n",
       "</div>"
      ],
      "text/plain": [
       "   TVA (m3)  SPPA (kPa)  MFOP ((m3/s)/(m3/s))  GASA (mol/mol)  \\\n",
       "1      39.2   68.947573                  0.05             0.0   \n",
       "2      39.2   68.947573                  0.05             0.0   \n",
       "3      39.1   68.947573                  0.05             0.0   \n",
       "4      39.2   68.947573                  0.05             0.0   \n",
       "5      39.2   75.842330                  0.05             0.0   \n",
       "\n",
       "   variation_TVA (m3)  variation_SPPA (kPa)  variation_MFOP ((m3/s)/(m3/s))  \\\n",
       "1                 0.0            -13.789515                             0.0   \n",
       "2                 0.0              0.000000                             0.0   \n",
       "3                -0.1              0.000000                             0.0   \n",
       "4                 0.1              0.000000                             0.0   \n",
       "5                 0.0              6.894757                             0.0   \n",
       "\n",
       "   variation_GASA (mol/mol)  STATUS  \n",
       "1                       0.0       0  \n",
       "2                       0.0       0  \n",
       "3                       0.0       0  \n",
       "4                       0.0       0  \n",
       "5                       0.0       0  "
      ]
     },
     "execution_count": 152,
     "metadata": {},
     "output_type": "execute_result"
    }
   ],
   "source": [
    "data.head()"
   ]
  },
  {
   "cell_type": "code",
   "execution_count": 153,
   "metadata": {},
   "outputs": [
    {
     "data": {
      "text/plain": [
       "Int64Index([14571, 14572, 14573, 14574, 14575, 14576, 14577, 14578, 14579,\n",
       "            14580,\n",
       "            ...\n",
       "            14670, 14671, 14672, 14673, 14674, 14675, 14676, 14677, 14678,\n",
       "            14679],\n",
       "           dtype='int64', length=109)"
      ]
     },
     "execution_count": 153,
     "metadata": {},
     "output_type": "execute_result"
    }
   ],
   "source": [
    "data[data['STATUS']==1].index"
   ]
  },
  {
   "cell_type": "code",
   "execution_count": 154,
   "metadata": {},
   "outputs": [
    {
     "data": {
      "text/plain": [
       "Index(['TVA (m3)', 'SPPA (kPa)', 'MFOP ((m3/s)/(m3/s))', 'GASA (mol/mol)',\n",
       "       'variation_TVA (m3)', 'variation_SPPA (kPa)',\n",
       "       'variation_MFOP ((m3/s)/(m3/s))', 'variation_GASA (mol/mol)', 'STATUS'],\n",
       "      dtype='object')"
      ]
     },
     "execution_count": 154,
     "metadata": {},
     "output_type": "execute_result"
    }
   ],
   "source": [
    "data.columns"
   ]
  },
  {
   "attachments": {},
   "cell_type": "markdown",
   "metadata": {},
   "source": [
    "# rename the columns for column name issus"
   ]
  },
  {
   "cell_type": "code",
   "execution_count": 155,
   "metadata": {},
   "outputs": [],
   "source": [
    "data = data.rename(columns={'variation_GASA (mol/mol)': 'variation_GASA'})\n",
    "data = data.rename(columns={'variation_SPPA (kPa)':'variation_SPPA'})\n",
    "data = data.rename(columns={'variation_MFOP ((m3/s)/(m3/s))': 'variation_MFOP'})\n",
    "data = data.rename(columns={'variation_TVA (m3)': 'variation_TVA'})\n"
   ]
  },
  {
   "cell_type": "code",
   "execution_count": 156,
   "metadata": {},
   "outputs": [],
   "source": [
    "cols=['TVA (m3)', 'SPPA (kPa)', 'MFOP ((m3/s)/(m3/s))',\n",
    "       'GASA (mol/mol)','STATUS']"
   ]
  },
  {
   "cell_type": "code",
   "execution_count": 157,
   "metadata": {},
   "outputs": [
    {
     "data": {
      "text/plain": [
       "array([<Axes: >, <Axes: >, <Axes: >, <Axes: >, <Axes: >], dtype=object)"
      ]
     },
     "execution_count": 157,
     "metadata": {},
     "output_type": "execute_result"
    },
    {
     "data": {
      "image/png": "[encoded data removed]",
      "text/plain": [
       "<Figure size 640x480 with 5 Axes>"
      ]
     },
     "metadata": {},
     "output_type": "display_data"
    }
   ],
   "source": [
    "data[cols][data['STATUS']==1].plot(subplots=True\n",
    "                )\n"
   ]
  },
  {
   "attachments": {},
   "cell_type": "markdown",
   "metadata": {},
   "source": [
    "# this the function we deal with"
   ]
  },
  {
   "cell_type": "code",
   "execution_count": 160,
   "metadata": {},
   "outputs": [],
   "source": [
    "def feature_rep_mean(window, thrsh_tva, thrsh_gasa, thrsh_spp, thrsh_mfop, p):\n",
    "    # threshold for each feature mean of the feature when the kick is happen\n",
    "    gasa = window['variation_GASA'].mean()\n",
    "    tva = window['variation_TVA'].mean()\n",
    "    spp = window['variation_SPPA'].mean()\n",
    "    mfop = window['variation_MFOP'].mean()\n",
    "\n",
    "    detect_gasa,detect_spp,detect_tva,detect_mfop=False,False,False,False\n",
    "    l=[]\n",
    "    if (gasa > thrsh_gasa or tva > thrsh_tva and mfop < thrsh_mfop) and (gasa >thrsh_gasa and spp < thrsh_spp and mfop < thrsh_mfop):\n",
    "        l=[int(gasa > thrsh_gasa), int(tva > thrsh_tva),int( mfop < thrsh_mfop),int(spp < thrsh_spp)]\n",
    "\n",
    "        return 1,l\n",
    "    \n",
    "    elif (gasa > thrsh_gasa or tva > thrsh_tva and mfop < thrsh_mfop) and (gasa >thrsh_gasa and spp < thrsh_spp and mfop < thrsh_mfop):\n",
    "        l=[int(gasa > thrsh_gasa), int(tva > thrsh_tva),int( mfop < thrsh_mfop),int(spp < thrsh_spp)]\n",
    "        print('cod2')\n",
    "        return 1,l\n",
    "\n",
    "    # elif (gasa > thrsh_gasa or tva > thrsh_tva and mfop < thrsh_mfop) and (gasa >thrsh_gasa or spp < thrsh_spp and mfop < thrsh_mfop):\n",
    "    #     print('codnd3')\n",
    "    #     return 0,l\n",
    "    elif gasa>=thrsh_gasa and tva > thrsh_tva and mfop<=thrsh_mfop:\n",
    "        l=[int(gasa > thrsh_gasa), int(tva > thrsh_tva),int( mfop < thrsh_mfop),int(spp < thrsh_spp)]\n",
    "        return 1,l\n",
    "    elif  tva>=thrsh_tva and gasa > thrsh_gasa and mfop<=thrsh_mfop:\n",
    "        l=[int(gasa > thrsh_gasa), int(tva > thrsh_tva),int( mfop < thrsh_mfop),int(spp < thrsh_spp)]\n",
    "       \n",
    "        return 1,l\n",
    "\n",
    "    else:\n",
    "        \n",
    "        l=[int(gasa > thrsh_gasa), int(tva > thrsh_tva),int( mfop < thrsh_mfop),int(spp < thrsh_spp)]\n",
    "        return 0,l\n",
    "    "
   ]
  },
  {
   "cell_type": "code",
   "execution_count": 161,
   "metadata": {},
   "outputs": [],
   "source": [
    "data['kick_recognition']=111"
   ]
  },
  {
   "cell_type": "code",
   "execution_count": 124,
   "metadata": {},
   "outputs": [
    {
     "data": {
      "text/html": [
       "<div>\n",
       "<style scoped>\n",
       "    .dataframe tbody tr th:only-of-type {\n",
       "        vertical-align: middle;\n",
       "    }\n",
       "\n",
       "    .dataframe tbody tr th {\n",
       "        vertical-align: top;\n",
       "    }\n",
       "\n",
       "    .dataframe thead th {\n",
       "        text-align: right;\n",
       "    }\n",
       "</style>\n",
       "<table border=\"1\" class=\"dataframe\">\n",
       "  <thead>\n",
       "    <tr style=\"text-align: right;\">\n",
       "      <th></th>\n",
       "      <th>index</th>\n",
       "      <th>TVA (m3)</th>\n",
       "      <th>SPPA (kPa)</th>\n",
       "      <th>MFOP ((m3/s)/(m3/s))</th>\n",
       "      <th>GASA (mol/mol)</th>\n",
       "      <th>variation_TVA</th>\n",
       "      <th>variation_SPPA</th>\n",
       "      <th>variation_MFOP</th>\n",
       "      <th>variation_GASA</th>\n",
       "      <th>STATUS</th>\n",
       "      <th>kick_recognition</th>\n",
       "    </tr>\n",
       "  </thead>\n",
       "  <tbody>\n",
       "    <tr>\n",
       "      <th>0</th>\n",
       "      <td>2</td>\n",
       "      <td>39.200000</td>\n",
       "      <td>68.947573</td>\n",
       "      <td>0.050000</td>\n",
       "      <td>0.000000</td>\n",
       "      <td>0.000000</td>\n",
       "      <td>0.000000</td>\n",
       "      <td>0.000000</td>\n",
       "      <td>0.000000</td>\n",
       "      <td>0</td>\n",
       "      <td>0</td>\n",
       "    </tr>\n",
       "    <tr>\n",
       "      <th>1</th>\n",
       "      <td>3</td>\n",
       "      <td>39.100000</td>\n",
       "      <td>68.947573</td>\n",
       "      <td>0.050000</td>\n",
       "      <td>0.000000</td>\n",
       "      <td>-0.100000</td>\n",
       "      <td>0.000000</td>\n",
       "      <td>0.000000</td>\n",
       "      <td>0.000000</td>\n",
       "      <td>0</td>\n",
       "      <td>0</td>\n",
       "    </tr>\n",
       "    <tr>\n",
       "      <th>2</th>\n",
       "      <td>4</td>\n",
       "      <td>39.200000</td>\n",
       "      <td>68.947573</td>\n",
       "      <td>0.050000</td>\n",
       "      <td>0.000000</td>\n",
       "      <td>0.100000</td>\n",
       "      <td>0.000000</td>\n",
       "      <td>0.000000</td>\n",
       "      <td>0.000000</td>\n",
       "      <td>0</td>\n",
       "      <td>0</td>\n",
       "    </tr>\n",
       "    <tr>\n",
       "      <th>3</th>\n",
       "      <td>5</td>\n",
       "      <td>39.200000</td>\n",
       "      <td>75.842330</td>\n",
       "      <td>0.050000</td>\n",
       "      <td>0.000000</td>\n",
       "      <td>0.000000</td>\n",
       "      <td>6.894757</td>\n",
       "      <td>0.000000</td>\n",
       "      <td>0.000000</td>\n",
       "      <td>0</td>\n",
       "      <td>0</td>\n",
       "    </tr>\n",
       "    <tr>\n",
       "      <th>4</th>\n",
       "      <td>6</td>\n",
       "      <td>39.100000</td>\n",
       "      <td>62.052816</td>\n",
       "      <td>0.050000</td>\n",
       "      <td>0.000000</td>\n",
       "      <td>-0.100000</td>\n",
       "      <td>-13.789515</td>\n",
       "      <td>0.000000</td>\n",
       "      <td>0.000000</td>\n",
       "      <td>0</td>\n",
       "      <td>0</td>\n",
       "    </tr>\n",
       "    <tr>\n",
       "      <th>...</th>\n",
       "      <td>...</td>\n",
       "      <td>...</td>\n",
       "      <td>...</td>\n",
       "      <td>...</td>\n",
       "      <td>...</td>\n",
       "      <td>...</td>\n",
       "      <td>...</td>\n",
       "      <td>...</td>\n",
       "      <td>...</td>\n",
       "      <td>...</td>\n",
       "      <td>...</td>\n",
       "    </tr>\n",
       "    <tr>\n",
       "      <th>53236</th>\n",
       "      <td>53238</td>\n",
       "      <td>50.143081</td>\n",
       "      <td>7907.962477</td>\n",
       "      <td>0.145149</td>\n",
       "      <td>0.395015</td>\n",
       "      <td>0.044735</td>\n",
       "      <td>-47.495997</td>\n",
       "      <td>-0.047475</td>\n",
       "      <td>0.395015</td>\n",
       "      <td>1</td>\n",
       "      <td>0</td>\n",
       "    </tr>\n",
       "    <tr>\n",
       "      <th>53237</th>\n",
       "      <td>53239</td>\n",
       "      <td>50.315857</td>\n",
       "      <td>8004.701971</td>\n",
       "      <td>0.144811</td>\n",
       "      <td>0.395015</td>\n",
       "      <td>0.172777</td>\n",
       "      <td>96.739494</td>\n",
       "      <td>-0.000338</td>\n",
       "      <td>0.000000</td>\n",
       "      <td>1</td>\n",
       "      <td>0</td>\n",
       "    </tr>\n",
       "    <tr>\n",
       "      <th>53238</th>\n",
       "      <td>53240</td>\n",
       "      <td>50.174178</td>\n",
       "      <td>7997.999971</td>\n",
       "      <td>0.145684</td>\n",
       "      <td>0.000000</td>\n",
       "      <td>-0.141679</td>\n",
       "      <td>-6.702000</td>\n",
       "      <td>0.000873</td>\n",
       "      <td>-0.395015</td>\n",
       "      <td>1</td>\n",
       "      <td>0</td>\n",
       "    </tr>\n",
       "    <tr>\n",
       "      <th>53239</th>\n",
       "      <td>53241</td>\n",
       "      <td>50.164614</td>\n",
       "      <td>7922.566476</td>\n",
       "      <td>0.173816</td>\n",
       "      <td>0.396504</td>\n",
       "      <td>-0.009564</td>\n",
       "      <td>-75.433495</td>\n",
       "      <td>0.028132</td>\n",
       "      <td>0.396504</td>\n",
       "      <td>1</td>\n",
       "      <td>0</td>\n",
       "    </tr>\n",
       "    <tr>\n",
       "      <th>53240</th>\n",
       "      <td>53242</td>\n",
       "      <td>50.053546</td>\n",
       "      <td>7915.995477</td>\n",
       "      <td>0.248097</td>\n",
       "      <td>0.396504</td>\n",
       "      <td>-0.111069</td>\n",
       "      <td>-6.571000</td>\n",
       "      <td>0.074281</td>\n",
       "      <td>0.000000</td>\n",
       "      <td>1</td>\n",
       "      <td>0</td>\n",
       "    </tr>\n",
       "  </tbody>\n",
       "</table>\n",
       "<p>53241 rows × 11 columns</p>\n",
       "</div>"
      ],
      "text/plain": [
       "       index   TVA (m3)   SPPA (kPa)  MFOP ((m3/s)/(m3/s))  GASA (mol/mol)  \\\n",
       "0          2  39.200000    68.947573              0.050000        0.000000   \n",
       "1          3  39.100000    68.947573              0.050000        0.000000   \n",
       "2          4  39.200000    68.947573              0.050000        0.000000   \n",
       "3          5  39.200000    75.842330              0.050000        0.000000   \n",
       "4          6  39.100000    62.052816              0.050000        0.000000   \n",
       "...      ...        ...          ...                   ...             ...   \n",
       "53236  53238  50.143081  7907.962477              0.145149        0.395015   \n",
       "53237  53239  50.315857  8004.701971              0.144811        0.395015   \n",
       "53238  53240  50.174178  7997.999971              0.145684        0.000000   \n",
       "53239  53241  50.164614  7922.566476              0.173816        0.396504   \n",
       "53240  53242  50.053546  7915.995477              0.248097        0.396504   \n",
       "\n",
       "       variation_TVA  variation_SPPA  variation_MFOP  variation_GASA  STATUS  \\\n",
       "0           0.000000        0.000000        0.000000        0.000000       0   \n",
       "1          -0.100000        0.000000        0.000000        0.000000       0   \n",
       "2           0.100000        0.000000        0.000000        0.000000       0   \n",
       "3           0.000000        6.894757        0.000000        0.000000       0   \n",
       "4          -0.100000      -13.789515        0.000000        0.000000       0   \n",
       "...              ...             ...             ...             ...     ...   \n",
       "53236       0.044735      -47.495997       -0.047475        0.395015       1   \n",
       "53237       0.172777       96.739494       -0.000338        0.000000       1   \n",
       "53238      -0.141679       -6.702000        0.000873       -0.395015       1   \n",
       "53239      -0.009564      -75.433495        0.028132        0.396504       1   \n",
       "53240      -0.111069       -6.571000        0.074281        0.000000       1   \n",
       "\n",
       "       kick_recognition  \n",
       "0                     0  \n",
       "1                     0  \n",
       "2                     0  \n",
       "3                     0  \n",
       "4                     0  \n",
       "...                 ...  \n",
       "53236                 0  \n",
       "53237                 0  \n",
       "53238                 0  \n",
       "53239                 0  \n",
       "53240                 0  \n",
       "\n",
       "[53241 rows x 11 columns]"
      ]
     },
     "execution_count": 124,
     "metadata": {},
     "output_type": "execute_result"
    }
   ],
   "source": [
    "data.reset_index()"
   ]
  },
  {
   "cell_type": "code",
   "execution_count": 162,
   "metadata": {},
   "outputs": [
    {
     "name": "stderr",
     "output_type": "stream",
     "text": [
      "C:\\Users\\hp\\AppData\\Local\\Temp\\ipykernel_11508\\2939645805.py:15: SettingWithCopyWarning: \n",
      "A value is trying to be set on a copy of a slice from a DataFrame\n",
      "\n",
      "See the caveats in the documentation: https://pandas.pydata.org/pandas-docs/stable/user_guide/indexing.html#returning-a-view-versus-a-copy\n",
      "  data['kick_recognition'][i:i+window_size+1],b = feature_rep_mean(\n"
     ]
    }
   ],
   "source": [
    "thrsh_tva, thrsh_gasa, thrsh_spp, thrsh_mfop =0.005, -0.0049, 0.1, -0.000345541#accuracy:  0.9259172154280338 accuracy status 0.3121951219512195\n",
    "# thrsh_tva, thrsh_gasa, thrsh_spp, thrsh_mfop = 0.00843, 0.4, 11,-0.00023\n",
    "\n",
    "\n",
    "window_size = 180\n",
    "window_size = window_size//5\n",
    "positive=0\n",
    "train_data=[]\n",
    "d=[]\n",
    "for i in range(len(data)-window_size+1):\n",
    "    p=False\n",
    "    window = data.iloc[i:i+window_size]\n",
    "    \n",
    "    data['kick_recognition'][i:i+window_size+1],b = feature_rep_mean(\n",
    "        window, thrsh_tva, thrsh_gasa, thrsh_spp, thrsh_mfop, p)\n",
    "    \n",
    "    b.append(data.iloc[i,-1:][0]) #append df[kick_recognitin][i]\n",
    "    train_data.append(b)\n",
    "        \n",
    "    if window['kick_recognition'].sum()>0 and window['STATUS'].sum()>0:\n",
    "        positive+=1"
   ]
  },
  {
   "attachments": {},
   "cell_type": "markdown",
   "metadata": {},
   "source": [
    "# calculate the accuracy"
   ]
  },
  {
   "cell_type": "code",
   "execution_count": 163,
   "metadata": {},
   "outputs": [
    {
     "name": "stdout",
     "output_type": "stream",
     "text": [
      "accuracy:  0.9561317205856821 accuracy status 0.6330275229357798\n"
     ]
    }
   ],
   "source": [
    "\n",
    "ACC = sum((data['STATUS'] == data['kick_recognition'])) / \\\n",
    "    data.shape[0]  # calculate accuracy of algorithm\n",
    "data_kik = data[data['STATUS'] == 1]  # for get just where status=1\n",
    "statu_acc = sum((data_kik['STATUS'] == data_kik['kick_recognition']))/data_kik.shape[0]\n",
    "print('accuracy: ', ACC, 'accuracy status', statu_acc)"
   ]
  },
  {
   "cell_type": "code",
   "execution_count": 164,
   "metadata": {},
   "outputs": [
    {
     "name": "stdout",
     "output_type": "stream",
     "text": [
      "0.004001391788448156\n"
     ]
    }
   ],
   "source": [
    "print(positive/(len(data)-window_size+1))"
   ]
  },
  {
   "cell_type": "code",
   "execution_count": 60,
   "metadata": {},
   "outputs": [
    {
     "data": {
      "text/plain": [
       "[[1, 3, None], [1, 2]]"
      ]
     },
     "execution_count": 60,
     "metadata": {},
     "output_type": "execute_result"
    }
   ],
   "source": [
    "l=[[1,3],[1,2]]\n",
    "l[0].append([3,2].append(4))\n",
    "l"
   ]
  },
  {
   "cell_type": "code",
   "execution_count": 165,
   "metadata": {},
   "outputs": [],
   "source": [
    "cols=['GASA (mol/mol)','TVA (m3)','MFOP ((m3/s)/(m3/s))', 'SPPA (kPa)' ,\n",
    "       'STATUS']"
   ]
  },
  {
   "attachments": {},
   "cell_type": "markdown",
   "metadata": {},
   "source": [
    "# convert train data for plot issus"
   ]
  },
  {
   "cell_type": "code",
   "execution_count": 166,
   "metadata": {},
   "outputs": [],
   "source": [
    "df = pd.DataFrame(train_data, columns=cols)"
   ]
  },
  {
   "cell_type": "code",
   "execution_count": 167,
   "metadata": {},
   "outputs": [
    {
     "data": {
      "text/plain": [
       "array([<Axes: >, <Axes: >, <Axes: >, <Axes: >, <Axes: >], dtype=object)"
      ]
     },
     "execution_count": 167,
     "metadata": {},
     "output_type": "execute_result"
    },
    {
     "data": {
      "image/png": "[encoded data removed]",
      "text/plain": [
       "<Figure size 640x480 with 5 Axes>"
      ]
     },
     "metadata": {},
     "output_type": "display_data"
    }
   ],
   "source": [
    "df.plot(subplots=True)"
   ]
  },
  {
   "cell_type": "code",
   "execution_count": 169,
   "metadata": {},
   "outputs": [
    {
     "data": {
      "text/plain": [
       "(17244, 5)"
      ]
     },
     "execution_count": 169,
     "metadata": {},
     "output_type": "execute_result"
    }
   ],
   "source": [
    "df.shape"
   ]
  },
  {
   "cell_type": "code",
   "execution_count": 170,
   "metadata": {},
   "outputs": [],
   "source": [
    "df=df.drop_duplicates()"
   ]
  },
  {
   "cell_type": "code",
   "execution_count": 172,
   "metadata": {},
   "outputs": [
    {
     "data": {
      "text/html": [
       "<div>\n",
       "<style scoped>\n",
       "    .dataframe tbody tr th:only-of-type {\n",
       "        vertical-align: middle;\n",
       "    }\n",
       "\n",
       "    .dataframe tbody tr th {\n",
       "        vertical-align: top;\n",
       "    }\n",
       "\n",
       "    .dataframe thead th {\n",
       "        text-align: right;\n",
       "    }\n",
       "</style>\n",
       "<table border=\"1\" class=\"dataframe\">\n",
       "  <thead>\n",
       "    <tr style=\"text-align: right;\">\n",
       "      <th></th>\n",
       "      <th>GASA (mol/mol)</th>\n",
       "      <th>TVA (m3)</th>\n",
       "      <th>MFOP ((m3/s)/(m3/s))</th>\n",
       "      <th>SPPA (kPa)</th>\n",
       "      <th>STATUS</th>\n",
       "    </tr>\n",
       "  </thead>\n",
       "  <tbody>\n",
       "    <tr>\n",
       "      <th>0</th>\n",
       "      <td>1</td>\n",
       "      <td>0</td>\n",
       "      <td>0</td>\n",
       "      <td>1</td>\n",
       "      <td>0.0</td>\n",
       "    </tr>\n",
       "    <tr>\n",
       "      <th>1</th>\n",
       "      <td>1</td>\n",
       "      <td>0</td>\n",
       "      <td>0</td>\n",
       "      <td>0</td>\n",
       "      <td>0.0</td>\n",
       "    </tr>\n",
       "    <tr>\n",
       "      <th>256</th>\n",
       "      <td>1</td>\n",
       "      <td>1</td>\n",
       "      <td>0</td>\n",
       "      <td>0</td>\n",
       "      <td>0.0</td>\n",
       "    </tr>\n",
       "    <tr>\n",
       "      <th>259</th>\n",
       "      <td>1</td>\n",
       "      <td>1</td>\n",
       "      <td>0</td>\n",
       "      <td>1</td>\n",
       "      <td>0.0</td>\n",
       "    </tr>\n",
       "    <tr>\n",
       "      <th>609</th>\n",
       "      <td>1</td>\n",
       "      <td>1</td>\n",
       "      <td>1</td>\n",
       "      <td>1</td>\n",
       "      <td>1.0</td>\n",
       "    </tr>\n",
       "    <tr>\n",
       "      <th>663</th>\n",
       "      <td>1</td>\n",
       "      <td>0</td>\n",
       "      <td>1</td>\n",
       "      <td>0</td>\n",
       "      <td>0.0</td>\n",
       "    </tr>\n",
       "    <tr>\n",
       "      <th>665</th>\n",
       "      <td>1</td>\n",
       "      <td>0</td>\n",
       "      <td>1</td>\n",
       "      <td>1</td>\n",
       "      <td>1.0</td>\n",
       "    </tr>\n",
       "    <tr>\n",
       "      <th>7597</th>\n",
       "      <td>1</td>\n",
       "      <td>1</td>\n",
       "      <td>1</td>\n",
       "      <td>0</td>\n",
       "      <td>1.0</td>\n",
       "    </tr>\n",
       "    <tr>\n",
       "      <th>11791</th>\n",
       "      <td>0</td>\n",
       "      <td>1</td>\n",
       "      <td>0</td>\n",
       "      <td>0</td>\n",
       "      <td>0.0</td>\n",
       "    </tr>\n",
       "  </tbody>\n",
       "</table>\n",
       "</div>"
      ],
      "text/plain": [
       "       GASA (mol/mol)  TVA (m3)  MFOP ((m3/s)/(m3/s))  SPPA (kPa)  STATUS\n",
       "0                   1         0                     0           1     0.0\n",
       "1                   1         0                     0           0     0.0\n",
       "256                 1         1                     0           0     0.0\n",
       "259                 1         1                     0           1     0.0\n",
       "609                 1         1                     1           1     1.0\n",
       "663                 1         0                     1           0     0.0\n",
       "665                 1         0                     1           1     1.0\n",
       "7597                1         1                     1           0     1.0\n",
       "11791               0         1                     0           0     0.0"
      ]
     },
     "execution_count": 172,
     "metadata": {},
     "output_type": "execute_result"
    }
   ],
   "source": [
    "df"
   ]
  },
  {
   "cell_type": "code",
   "execution_count": 85,
   "metadata": {},
   "outputs": [
    {
     "data": {
      "text/plain": [
       "Int64Index([  610,   611,   612,   613,   666,   667,   668,   669,   670,\n",
       "              671,\n",
       "            ...\n",
       "            53152, 53153, 53154, 53164, 53168, 53169, 53170, 53171, 53196,\n",
       "            53197],\n",
       "           dtype='int64', length=7131)"
      ]
     },
     "execution_count": 85,
     "metadata": {},
     "output_type": "execute_result"
    }
   ],
   "source": [
    "data[data['kick_recognition']==1].index"
   ]
  },
  {
   "cell_type": "code",
   "execution_count": 168,
   "metadata": {},
   "outputs": [
    {
     "data": {
      "text/plain": [
       "array([<Axes: >, <Axes: >], dtype=object)"
      ]
     },
     "execution_count": 168,
     "metadata": {},
     "output_type": "execute_result"
    },
    {
     "data": {
      "image/png": "[encoded data removed]",
      "text/plain": [
       "<Figure size 640x480 with 2 Axes>"
      ]
     },
     "metadata": {},
     "output_type": "display_data"
    }
   ],
   "source": [
    "data[['STATUS','kick_recognition']].plot(subplots=True)"
   ]
  }
 ],
 "metadata": {
  "kernelspec": {
   "display_name": "Python 3",
   "language": "python",
   "name": "python3"
  },
  "language_info": {
   "codemirror_mode": {
    "name": "ipython",
    "version": 3
   },
   "file_extension": ".py",
   "mimetype": "text/x-python",
   "name": "python",
   "nbconvert_exporter": "python",
   "pygments_lexer": "ipython3",
   "version": "3.11.3"
  },
  "orig_nbformat": 4
 },
 "nbformat": 4,
 "nbformat_minor": 2
}
