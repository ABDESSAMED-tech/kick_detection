{
 "cells": [
  {
   "cell_type": "code",
   "execution_count": 2,
   "metadata": {},
   "outputs": [],
   "source": [
    "import pandas as pd"
   ]
  },
  {
   "cell_type": "code",
   "execution_count": 2,
   "metadata": {},
   "outputs": [],
   "source": [
    "df=pd.read_excel(r\"C:\\Users\\hp\\Desktop\\M2\\PFE\\Code\\code pfe\\Coud source\\pages\\data\\All_data.xlsx\")"
   ]
  },
  {
   "cell_type": "code",
   "execution_count": 3,
   "metadata": {},
   "outputs": [
    {
     "data": {
      "text/plain": [
       "(93493, 13)"
      ]
     },
     "execution_count": 3,
     "metadata": {},
     "output_type": "execute_result"
    }
   ],
   "source": [
    "df.shape"
   ]
  },
  {
   "cell_type": "code",
   "execution_count": 4,
   "metadata": {},
   "outputs": [
    {
     "data": {
      "text/plain": [
       "Index(['index', 'TVA (m3)', 'SPPA (kPa)', 'MFOA (m3/s)',\n",
       "       'MFOP ((m3/s)/(m3/s))', 'GASA (mol/mol)', 'STATUS', 'Unnamed: 40', 'id',\n",
       "       'Unnamed: 39', 'Unnamed: 43', 'Unnamed: 45', 'Unnamed: 41'],\n",
       "      dtype='object')"
      ]
     },
     "execution_count": 4,
     "metadata": {},
     "output_type": "execute_result"
    }
   ],
   "source": [
    "df.columns"
   ]
  },
  {
   "cell_type": "code",
   "execution_count": 6,
   "metadata": {},
   "outputs": [
    {
     "data": {
      "text/plain": [
       "0"
      ]
     },
     "execution_count": 6,
     "metadata": {},
     "output_type": "execute_result"
    }
   ],
   "source": []
  },
  {
   "cell_type": "code",
   "execution_count": 9,
   "metadata": {},
   "outputs": [
    {
     "name": "stdout",
     "output_type": "stream",
     "text": [
      "<class 'pandas.core.series.Series'>\n"
     ]
    }
   ],
   "source": [
    "x=df.columns.get_loc('STATUS')\n",
    "print(type(df['STATUS']))"
   ]
  },
  {
   "cell_type": "code",
   "execution_count": 12,
   "metadata": {},
   "outputs": [],
   "source": [
    "columns=['index','TVA (m3)','SPPA (kPa)','MFOA (m3/s)','MFOP ((m3/s)/(m3/s))','GASA (mol/mol)', 'STATUS','Unnamed: 40']"
   ]
  },
  {
   "cell_type": "code",
   "execution_count": 39,
   "metadata": {},
   "outputs": [
    {
     "data": {
      "text/plain": [
       "['Well-15_04-10-2021.xlsx',\n",
       " 'Well-19_09-06-2021.xlsx',\n",
       " 'Well-26_06-09-2020.xlsx',\n",
       " 'Well-29_20-08-2020.xlsx',\n",
       " 'Well-6_01-07-2022.xlsx',\n",
       " 'Well-8_30-05-2022.xlsx']"
      ]
     },
     "execution_count": 39,
     "metadata": {},
     "output_type": "execute_result"
    }
   ],
   "source": [
    "import os\n",
    "path=r'C:\\Users\\hp\\Desktop\\M2\\PFE\\Code\\code pfe\\Coud source\\pages\\data'\n",
    "files=os.listdir(path)\n",
    "# files.remove( '~$Well-6_01-07-2022.xlsx')\n",
    "files"
   ]
  },
  {
   "cell_type": "code",
   "execution_count": 29,
   "metadata": {},
   "outputs": [],
   "source": [
    "columns=['index','TVA (m3)','SPPA (kPa)','MFOA (m3/s)','MFOP ((m3/s)/(m3/s))','GASA (mol/mol)', 'STATUS',df.columns[df.columns.get_loc('STATUS')+1]]"
   ]
  },
  {
   "cell_type": "code",
   "execution_count": 40,
   "metadata": {},
   "outputs": [],
   "source": [
    "dfs = []\n",
    "for i, file_path in enumerate(files):\n",
    "    df = pd.read_excel(path+'/'+file_path)\n",
    "    df['id'] = i+1  # add a file ID column\n",
    "    dfs.append(df)\n"
   ]
  },
  {
   "cell_type": "code",
   "execution_count": 41,
   "metadata": {},
   "outputs": [],
   "source": [
    "merged_df = pd.concat(dfs, ignore_index=True)\n"
   ]
  },
  {
   "cell_type": "code",
   "execution_count": 42,
   "metadata": {},
   "outputs": [],
   "source": [
    "merged_df.to_excel('All_data.xlsx', index=False)\n"
   ]
  },
  {
   "cell_type": "code",
   "execution_count": 31,
   "metadata": {},
   "outputs": [
    {
     "ename": "FileNotFoundError",
     "evalue": "[Errno 2] No such file or directory: 'C:\\\\Users\\\\hp\\\\Desktop\\\\M2\\\\PFE\\\\Code\\\\code pfe\\\\dataset/~$Well-6_01-07-2022.xlsx'",
     "output_type": "error",
     "traceback": [
      "\u001b[1;31m---------------------------------------------------------------------------\u001b[0m",
      "\u001b[1;31mFileNotFoundError\u001b[0m                         Traceback (most recent call last)",
      "Cell \u001b[1;32mIn[31], line 2\u001b[0m\n\u001b[0;32m      1\u001b[0m \u001b[39mfor\u001b[39;00m i \u001b[39min\u001b[39;00m  files:\n\u001b[1;32m----> 2\u001b[0m     df\u001b[39m=\u001b[39mpd\u001b[39m.\u001b[39;49mread_excel(path\u001b[39m+\u001b[39;49m\u001b[39m'\u001b[39;49m\u001b[39m/\u001b[39;49m\u001b[39m'\u001b[39;49m\u001b[39m+\u001b[39;49mi)\n\u001b[0;32m      3\u001b[0m     columns\u001b[39m=\u001b[39m[\u001b[39m'\u001b[39m\u001b[39mindex\u001b[39m\u001b[39m'\u001b[39m,\u001b[39m'\u001b[39m\u001b[39mTVA (m3)\u001b[39m\u001b[39m'\u001b[39m,\u001b[39m'\u001b[39m\u001b[39mSPPA (kPa)\u001b[39m\u001b[39m'\u001b[39m,\u001b[39m'\u001b[39m\u001b[39mMFOA (m3/s)\u001b[39m\u001b[39m'\u001b[39m,\u001b[39m'\u001b[39m\u001b[39mMFOP ((m3/s)/(m3/s))\u001b[39m\u001b[39m'\u001b[39m,\u001b[39m'\u001b[39m\u001b[39mGASA (mol/mol)\u001b[39m\u001b[39m'\u001b[39m, \u001b[39m'\u001b[39m\u001b[39mSTATUS\u001b[39m\u001b[39m'\u001b[39m,df\u001b[39m.\u001b[39mcolumns[df\u001b[39m.\u001b[39mcolumns\u001b[39m.\u001b[39mget_loc(\u001b[39m'\u001b[39m\u001b[39mSTATUS\u001b[39m\u001b[39m'\u001b[39m)\u001b[39m+\u001b[39m\u001b[39m1\u001b[39m]]\n\u001b[0;32m      4\u001b[0m     new_file \u001b[39m=\u001b[39m df[columns]\n",
      "File \u001b[1;32mc:\\Users\\hp\\AppData\\Local\\Programs\\Python\\Python311\\Lib\\site-packages\\pandas\\util\\_decorators.py:211\u001b[0m, in \u001b[0;36mdeprecate_kwarg.<locals>._deprecate_kwarg.<locals>.wrapper\u001b[1;34m(*args, **kwargs)\u001b[0m\n\u001b[0;32m    209\u001b[0m     \u001b[39melse\u001b[39;00m:\n\u001b[0;32m    210\u001b[0m         kwargs[new_arg_name] \u001b[39m=\u001b[39m new_arg_value\n\u001b[1;32m--> 211\u001b[0m \u001b[39mreturn\u001b[39;00m func(\u001b[39m*\u001b[39;49margs, \u001b[39m*\u001b[39;49m\u001b[39m*\u001b[39;49mkwargs)\n",
      "File \u001b[1;32mc:\\Users\\hp\\AppData\\Local\\Programs\\Python\\Python311\\Lib\\site-packages\\pandas\\util\\_decorators.py:331\u001b[0m, in \u001b[0;36mdeprecate_nonkeyword_arguments.<locals>.decorate.<locals>.wrapper\u001b[1;34m(*args, **kwargs)\u001b[0m\n\u001b[0;32m    325\u001b[0m \u001b[39mif\u001b[39;00m \u001b[39mlen\u001b[39m(args) \u001b[39m>\u001b[39m num_allow_args:\n\u001b[0;32m    326\u001b[0m     warnings\u001b[39m.\u001b[39mwarn(\n\u001b[0;32m    327\u001b[0m         msg\u001b[39m.\u001b[39mformat(arguments\u001b[39m=\u001b[39m_format_argument_list(allow_args)),\n\u001b[0;32m    328\u001b[0m         \u001b[39mFutureWarning\u001b[39;00m,\n\u001b[0;32m    329\u001b[0m         stacklevel\u001b[39m=\u001b[39mfind_stack_level(),\n\u001b[0;32m    330\u001b[0m     )\n\u001b[1;32m--> 331\u001b[0m \u001b[39mreturn\u001b[39;00m func(\u001b[39m*\u001b[39;49margs, \u001b[39m*\u001b[39;49m\u001b[39m*\u001b[39;49mkwargs)\n",
      "File \u001b[1;32mc:\\Users\\hp\\AppData\\Local\\Programs\\Python\\Python311\\Lib\\site-packages\\pandas\\io\\excel\\_base.py:482\u001b[0m, in \u001b[0;36mread_excel\u001b[1;34m(io, sheet_name, header, names, index_col, usecols, squeeze, dtype, engine, converters, true_values, false_values, skiprows, nrows, na_values, keep_default_na, na_filter, verbose, parse_dates, date_parser, thousands, decimal, comment, skipfooter, convert_float, mangle_dupe_cols, storage_options)\u001b[0m\n\u001b[0;32m    480\u001b[0m \u001b[39mif\u001b[39;00m \u001b[39mnot\u001b[39;00m \u001b[39misinstance\u001b[39m(io, ExcelFile):\n\u001b[0;32m    481\u001b[0m     should_close \u001b[39m=\u001b[39m \u001b[39mTrue\u001b[39;00m\n\u001b[1;32m--> 482\u001b[0m     io \u001b[39m=\u001b[39m ExcelFile(io, storage_options\u001b[39m=\u001b[39;49mstorage_options, engine\u001b[39m=\u001b[39;49mengine)\n\u001b[0;32m    483\u001b[0m \u001b[39melif\u001b[39;00m engine \u001b[39mand\u001b[39;00m engine \u001b[39m!=\u001b[39m io\u001b[39m.\u001b[39mengine:\n\u001b[0;32m    484\u001b[0m     \u001b[39mraise\u001b[39;00m \u001b[39mValueError\u001b[39;00m(\n\u001b[0;32m    485\u001b[0m         \u001b[39m\"\u001b[39m\u001b[39mEngine should not be specified when passing \u001b[39m\u001b[39m\"\u001b[39m\n\u001b[0;32m    486\u001b[0m         \u001b[39m\"\u001b[39m\u001b[39man ExcelFile - ExcelFile already has the engine set\u001b[39m\u001b[39m\"\u001b[39m\n\u001b[0;32m    487\u001b[0m     )\n",
      "File \u001b[1;32mc:\\Users\\hp\\AppData\\Local\\Programs\\Python\\Python311\\Lib\\site-packages\\pandas\\io\\excel\\_base.py:1652\u001b[0m, in \u001b[0;36mExcelFile.__init__\u001b[1;34m(self, path_or_buffer, engine, storage_options)\u001b[0m\n\u001b[0;32m   1650\u001b[0m     ext \u001b[39m=\u001b[39m \u001b[39m\"\u001b[39m\u001b[39mxls\u001b[39m\u001b[39m\"\u001b[39m\n\u001b[0;32m   1651\u001b[0m \u001b[39melse\u001b[39;00m:\n\u001b[1;32m-> 1652\u001b[0m     ext \u001b[39m=\u001b[39m inspect_excel_format(\n\u001b[0;32m   1653\u001b[0m         content_or_path\u001b[39m=\u001b[39;49mpath_or_buffer, storage_options\u001b[39m=\u001b[39;49mstorage_options\n\u001b[0;32m   1654\u001b[0m     )\n\u001b[0;32m   1655\u001b[0m     \u001b[39mif\u001b[39;00m ext \u001b[39mis\u001b[39;00m \u001b[39mNone\u001b[39;00m:\n\u001b[0;32m   1656\u001b[0m         \u001b[39mraise\u001b[39;00m \u001b[39mValueError\u001b[39;00m(\n\u001b[0;32m   1657\u001b[0m             \u001b[39m\"\u001b[39m\u001b[39mExcel file format cannot be determined, you must specify \u001b[39m\u001b[39m\"\u001b[39m\n\u001b[0;32m   1658\u001b[0m             \u001b[39m\"\u001b[39m\u001b[39man engine manually.\u001b[39m\u001b[39m\"\u001b[39m\n\u001b[0;32m   1659\u001b[0m         )\n",
      "File \u001b[1;32mc:\\Users\\hp\\AppData\\Local\\Programs\\Python\\Python311\\Lib\\site-packages\\pandas\\io\\excel\\_base.py:1525\u001b[0m, in \u001b[0;36minspect_excel_format\u001b[1;34m(content_or_path, storage_options)\u001b[0m\n\u001b[0;32m   1522\u001b[0m \u001b[39mif\u001b[39;00m \u001b[39misinstance\u001b[39m(content_or_path, \u001b[39mbytes\u001b[39m):\n\u001b[0;32m   1523\u001b[0m     content_or_path \u001b[39m=\u001b[39m BytesIO(content_or_path)\n\u001b[1;32m-> 1525\u001b[0m \u001b[39mwith\u001b[39;00m get_handle(\n\u001b[0;32m   1526\u001b[0m     content_or_path, \u001b[39m\"\u001b[39;49m\u001b[39mrb\u001b[39;49m\u001b[39m\"\u001b[39;49m, storage_options\u001b[39m=\u001b[39;49mstorage_options, is_text\u001b[39m=\u001b[39;49m\u001b[39mFalse\u001b[39;49;00m\n\u001b[0;32m   1527\u001b[0m ) \u001b[39mas\u001b[39;00m handle:\n\u001b[0;32m   1528\u001b[0m     stream \u001b[39m=\u001b[39m handle\u001b[39m.\u001b[39mhandle\n\u001b[0;32m   1529\u001b[0m     stream\u001b[39m.\u001b[39mseek(\u001b[39m0\u001b[39m)\n",
      "File \u001b[1;32mc:\\Users\\hp\\AppData\\Local\\Programs\\Python\\Python311\\Lib\\site-packages\\pandas\\io\\common.py:865\u001b[0m, in \u001b[0;36mget_handle\u001b[1;34m(path_or_buf, mode, encoding, compression, memory_map, is_text, errors, storage_options)\u001b[0m\n\u001b[0;32m    856\u001b[0m         handle \u001b[39m=\u001b[39m \u001b[39mopen\u001b[39m(\n\u001b[0;32m    857\u001b[0m             handle,\n\u001b[0;32m    858\u001b[0m             ioargs\u001b[39m.\u001b[39mmode,\n\u001b[1;32m   (...)\u001b[0m\n\u001b[0;32m    861\u001b[0m             newline\u001b[39m=\u001b[39m\u001b[39m\"\u001b[39m\u001b[39m\"\u001b[39m,\n\u001b[0;32m    862\u001b[0m         )\n\u001b[0;32m    863\u001b[0m     \u001b[39melse\u001b[39;00m:\n\u001b[0;32m    864\u001b[0m         \u001b[39m# Binary mode\u001b[39;00m\n\u001b[1;32m--> 865\u001b[0m         handle \u001b[39m=\u001b[39m \u001b[39mopen\u001b[39m(handle, ioargs\u001b[39m.\u001b[39mmode)\n\u001b[0;32m    866\u001b[0m     handles\u001b[39m.\u001b[39mappend(handle)\n\u001b[0;32m    868\u001b[0m \u001b[39m# Convert BytesIO or file objects passed with an encoding\u001b[39;00m\n",
      "\u001b[1;31mFileNotFoundError\u001b[0m: [Errno 2] No such file or directory: 'C:\\\\Users\\\\hp\\\\Desktop\\\\M2\\\\PFE\\\\Code\\\\code pfe\\\\dataset/~$Well-6_01-07-2022.xlsx'"
     ]
    }
   ],
   "source": [
    "for i in  files:\n",
    "    df=pd.read_excel(path+'/'+i)\n",
    "    columns=['index','TVA (m3)','SPPA (kPa)','MFOA (m3/s)','MFOP ((m3/s)/(m3/s))','GASA (mol/mol)', 'STATUS',df.columns[df.columns.get_loc('STATUS')+1]]\n",
    "    new_file = df[columns]\n",
    "    new_file.to_excel(i, index=False)\n",
    "    \n",
    "    "
   ]
  },
  {
   "cell_type": "code",
   "execution_count": 8,
   "metadata": {},
   "outputs": [
    {
     "data": {
      "text/plain": [
       "{'index': 0,\n",
       " 'CHKP (kPa)': 0,\n",
       " 'CHKPD (kPa)': 0,\n",
       " 'SPM1 (1/s)': 0,\n",
       " 'SPM2 (1/s)': 0,\n",
       " 'SPM3 (1/s)': 0,\n",
       " 'TVA (m3)': 0,\n",
       " 'DATE': 0,\n",
       " 'TVCA (m3)': 0,\n",
       " 'TIME': 0,\n",
       " 'MFOP ((m3/s)/(m3/s))': 0,\n",
       " 'DBTM (m)': 0,\n",
       " 'MFIA (m3/s)': 0,\n",
       " 'MDOA (kg/m3)': 0,\n",
       " 'DMEA (m)': 0,\n",
       " 'MDIA (kg/m3)': 0,\n",
       " 'DVER (m)': 0,\n",
       " 'MTOA (degC)': 0,\n",
       " 'BPOS (m)': 0,\n",
       " 'MTIA (degC)': 0,\n",
       " 'ROPA (m/h)': 0,\n",
       " 'MCOA (S/m)': 16955,\n",
       " 'HKLA (N)': 0,\n",
       " 'MCIA (S/m)': 16955,\n",
       " 'STKC': 0,\n",
       " 'WOBA (N)': 0,\n",
       " 'LSTK': 0,\n",
       " 'DRTM (m)': 0,\n",
       " 'TQA (N.m)': 0,\n",
       " 'TQX (N.m)': 0,\n",
       " 'GASA (mol/mol)': 16955,\n",
       " 'ROPI (m/s)': 0,\n",
       " 'RPMA (rad/s)': 0,\n",
       " 'CHKPU (kPa)': 0,\n",
       " 'SPPA (kPa)': 0,\n",
       " 'CHKT (degC)': 0,\n",
       " 'RIG_STATE': 0}"
      ]
     },
     "execution_count": 8,
     "metadata": {},
     "output_type": "execute_result"
    }
   ],
   "source": [
    "dict(df.isna().sum())"
   ]
  },
  {
   "cell_type": "code",
   "execution_count": 44,
   "metadata": {},
   "outputs": [],
   "source": [
    "df=pd.read_excel(r'C:\\Users\\hp\\Desktop\\M2\\PFE\\Code\\code pfe\\Coud source\\pages\\All_data.xlsx')"
   ]
  },
  {
   "cell_type": "code",
   "execution_count": 45,
   "metadata": {},
   "outputs": [
    {
     "data": {
      "text/plain": [
       "Index(['index', 'TVA (m3)', 'SPPA (kPa)', 'MFOA (m3/s)',\n",
       "       'MFOP ((m3/s)/(m3/s))', 'GASA (mol/mol)', 'STATUS', 'Unnamed: 40', 'id',\n",
       "       'Unnamed: 39', 'Unnamed: 43', 'Unnamed: 45', 'Unnamed: 41'],\n",
       "      dtype='object')"
      ]
     },
     "execution_count": 45,
     "metadata": {},
     "output_type": "execute_result"
    }
   ],
   "source": [
    "df.columns"
   ]
  },
  {
   "cell_type": "code",
   "execution_count": 6,
   "metadata": {},
   "outputs": [],
   "source": [
    "data=df[['id','index', 'TVA (m3)', 'SPPA (kPa)', 'MFOA (m3/s)',\n",
    "       'MFOP ((m3/s)/(m3/s))', 'GASA (mol/mol)', 'STATUS']]"
   ]
  },
  {
   "cell_type": "code",
   "execution_count": 10,
   "metadata": {},
   "outputs": [],
   "source": [
    "from tsfresh.utilities.dataframe_functions import roll_time_series\n",
    "data = data.sort_values(['id', 'index'])\n",
    "\n"
   ]
  },
  {
   "cell_type": "code",
   "execution_count": 20,
   "metadata": {},
   "outputs": [
    {
     "data": {
      "text/html": [
       "<div>\n",
       "<style scoped>\n",
       "    .dataframe tbody tr th:only-of-type {\n",
       "        vertical-align: middle;\n",
       "    }\n",
       "\n",
       "    .dataframe tbody tr th {\n",
       "        vertical-align: top;\n",
       "    }\n",
       "\n",
       "    .dataframe thead th {\n",
       "        text-align: right;\n",
       "    }\n",
       "</style>\n",
       "<table border=\"1\" class=\"dataframe\">\n",
       "  <thead>\n",
       "    <tr style=\"text-align: right;\">\n",
       "      <th></th>\n",
       "      <th>id</th>\n",
       "      <th>index</th>\n",
       "      <th>TVA (m3)</th>\n",
       "      <th>SPPA (kPa)</th>\n",
       "      <th>MFOA (m3/s)</th>\n",
       "      <th>MFOP ((m3/s)/(m3/s))</th>\n",
       "      <th>GASA (mol/mol)</th>\n",
       "      <th>STATUS</th>\n",
       "    </tr>\n",
       "  </thead>\n",
       "  <tbody>\n",
       "    <tr>\n",
       "      <th>0</th>\n",
       "      <td>1</td>\n",
       "      <td>10/04/2021, 00:00:00</td>\n",
       "      <td>75.909637</td>\n",
       "      <td>16286.783557</td>\n",
       "      <td>0.000264</td>\n",
       "      <td>0.158341</td>\n",
       "      <td>0.003329</td>\n",
       "      <td>0</td>\n",
       "    </tr>\n",
       "    <tr>\n",
       "      <th>1</th>\n",
       "      <td>1</td>\n",
       "      <td>10/04/2021, 00:00:05</td>\n",
       "      <td>75.894363</td>\n",
       "      <td>16293.013418</td>\n",
       "      <td>0.000264</td>\n",
       "      <td>0.158355</td>\n",
       "      <td>0.003422</td>\n",
       "      <td>0</td>\n",
       "    </tr>\n",
       "    <tr>\n",
       "      <th>2</th>\n",
       "      <td>1</td>\n",
       "      <td>10/04/2021, 00:00:09</td>\n",
       "      <td>75.896378</td>\n",
       "      <td>16294.969399</td>\n",
       "      <td>0.000264</td>\n",
       "      <td>0.158355</td>\n",
       "      <td>0.003419</td>\n",
       "      <td>0</td>\n",
       "    </tr>\n",
       "    <tr>\n",
       "      <th>3</th>\n",
       "      <td>1</td>\n",
       "      <td>10/04/2021, 00:00:14</td>\n",
       "      <td>75.883698</td>\n",
       "      <td>16307.425750</td>\n",
       "      <td>0.000264</td>\n",
       "      <td>0.158396</td>\n",
       "      <td>0.003420</td>\n",
       "      <td>0</td>\n",
       "    </tr>\n",
       "    <tr>\n",
       "      <th>4</th>\n",
       "      <td>1</td>\n",
       "      <td>10/04/2021, 00:00:18</td>\n",
       "      <td>75.871750</td>\n",
       "      <td>16305.350249</td>\n",
       "      <td>0.000264</td>\n",
       "      <td>0.158355</td>\n",
       "      <td>0.003413</td>\n",
       "      <td>0</td>\n",
       "    </tr>\n",
       "  </tbody>\n",
       "</table>\n",
       "</div>"
      ],
      "text/plain": [
       "   id                 index   TVA (m3)    SPPA (kPa)  MFOA (m3/s)   \n",
       "0   1  10/04/2021, 00:00:00  75.909637  16286.783557     0.000264  \\\n",
       "1   1  10/04/2021, 00:00:05  75.894363  16293.013418     0.000264   \n",
       "2   1  10/04/2021, 00:00:09  75.896378  16294.969399     0.000264   \n",
       "3   1  10/04/2021, 00:00:14  75.883698  16307.425750     0.000264   \n",
       "4   1  10/04/2021, 00:00:18  75.871750  16305.350249     0.000264   \n",
       "\n",
       "   MFOP ((m3/s)/(m3/s))  GASA (mol/mol)  STATUS  \n",
       "0              0.158341        0.003329       0  \n",
       "1              0.158355        0.003422       0  \n",
       "2              0.158355        0.003419       0  \n",
       "3              0.158396        0.003420       0  \n",
       "4              0.158355        0.003413       0  "
      ]
     },
     "execution_count": 20,
     "metadata": {},
     "output_type": "execute_result"
    }
   ],
   "source": [
    "data.head()"
   ]
  },
  {
   "cell_type": "code",
   "execution_count": 21,
   "metadata": {},
   "outputs": [
    {
     "name": "stderr",
     "output_type": "stream",
     "text": [
      "Rolling: 100%|██████████| 10/10 [06:52<00:00, 41.23s/it]\n"
     ]
    }
   ],
   "source": [
    "df_rolled = roll_time_series(data, column_id=\"id\", column_sort=\"index\",max_timeshift=36)\n"
   ]
  },
  {
   "cell_type": "code",
   "execution_count": 24,
   "metadata": {},
   "outputs": [
    {
     "data": {
      "text/plain": [
       "Index(['id', 'index', 'TVA (m3)', 'SPPA (kPa)', 'MFOA (m3/s)',\n",
       "       'MFOP ((m3/s)/(m3/s))', 'GASA (mol/mol)', 'STATUS'],\n",
       "      dtype='object')"
      ]
     },
     "execution_count": 24,
     "metadata": {},
     "output_type": "execute_result"
    }
   ],
   "source": [
    "df_rolled.columns"
   ]
  },
  {
   "cell_type": "code",
   "execution_count": 26,
   "metadata": {},
   "outputs": [
    {
     "data": {
      "text/html": [
       "<div>\n",
       "<style scoped>\n",
       "    .dataframe tbody tr th:only-of-type {\n",
       "        vertical-align: middle;\n",
       "    }\n",
       "\n",
       "    .dataframe tbody tr th {\n",
       "        vertical-align: top;\n",
       "    }\n",
       "\n",
       "    .dataframe thead th {\n",
       "        text-align: right;\n",
       "    }\n",
       "</style>\n",
       "<table border=\"1\" class=\"dataframe\">\n",
       "  <thead>\n",
       "    <tr style=\"text-align: right;\">\n",
       "      <th></th>\n",
       "      <th>id</th>\n",
       "      <th>index</th>\n",
       "      <th>TVA (m3)</th>\n",
       "      <th>SPPA (kPa)</th>\n",
       "      <th>MFOA (m3/s)</th>\n",
       "      <th>MFOP ((m3/s)/(m3/s))</th>\n",
       "      <th>GASA (mol/mol)</th>\n",
       "      <th>STATUS</th>\n",
       "    </tr>\n",
       "  </thead>\n",
       "  <tbody>\n",
       "    <tr>\n",
       "      <th>0</th>\n",
       "      <td>(1, 10/04/2021, 00:00:00)</td>\n",
       "      <td>10/04/2021, 00:00:00</td>\n",
       "      <td>75.909637</td>\n",
       "      <td>16286.783557</td>\n",
       "      <td>0.000264</td>\n",
       "      <td>0.158341</td>\n",
       "      <td>0.003329</td>\n",
       "      <td>0</td>\n",
       "    </tr>\n",
       "    <tr>\n",
       "      <th>6</th>\n",
       "      <td>(1, 10/04/2021, 00:00:05)</td>\n",
       "      <td>10/04/2021, 00:00:00</td>\n",
       "      <td>75.909637</td>\n",
       "      <td>16286.783557</td>\n",
       "      <td>0.000264</td>\n",
       "      <td>0.158341</td>\n",
       "      <td>0.003329</td>\n",
       "      <td>0</td>\n",
       "    </tr>\n",
       "    <tr>\n",
       "      <th>7</th>\n",
       "      <td>(1, 10/04/2021, 00:00:05)</td>\n",
       "      <td>10/04/2021, 00:00:05</td>\n",
       "      <td>75.894363</td>\n",
       "      <td>16293.013418</td>\n",
       "      <td>0.000264</td>\n",
       "      <td>0.158355</td>\n",
       "      <td>0.003422</td>\n",
       "      <td>0</td>\n",
       "    </tr>\n",
       "    <tr>\n",
       "      <th>18</th>\n",
       "      <td>(1, 10/04/2021, 00:00:09)</td>\n",
       "      <td>10/04/2021, 00:00:00</td>\n",
       "      <td>75.909637</td>\n",
       "      <td>16286.783557</td>\n",
       "      <td>0.000264</td>\n",
       "      <td>0.158341</td>\n",
       "      <td>0.003329</td>\n",
       "      <td>0</td>\n",
       "    </tr>\n",
       "    <tr>\n",
       "      <th>19</th>\n",
       "      <td>(1, 10/04/2021, 00:00:09)</td>\n",
       "      <td>10/04/2021, 00:00:05</td>\n",
       "      <td>75.894363</td>\n",
       "      <td>16293.013418</td>\n",
       "      <td>0.000264</td>\n",
       "      <td>0.158355</td>\n",
       "      <td>0.003422</td>\n",
       "      <td>0</td>\n",
       "    </tr>\n",
       "    <tr>\n",
       "      <th>20</th>\n",
       "      <td>(1, 10/04/2021, 00:00:09)</td>\n",
       "      <td>10/04/2021, 00:00:09</td>\n",
       "      <td>75.896378</td>\n",
       "      <td>16294.969399</td>\n",
       "      <td>0.000264</td>\n",
       "      <td>0.158355</td>\n",
       "      <td>0.003419</td>\n",
       "      <td>0</td>\n",
       "    </tr>\n",
       "    <tr>\n",
       "      <th>36</th>\n",
       "      <td>(1, 10/04/2021, 00:00:14)</td>\n",
       "      <td>10/04/2021, 00:00:00</td>\n",
       "      <td>75.909637</td>\n",
       "      <td>16286.783557</td>\n",
       "      <td>0.000264</td>\n",
       "      <td>0.158341</td>\n",
       "      <td>0.003329</td>\n",
       "      <td>0</td>\n",
       "    </tr>\n",
       "    <tr>\n",
       "      <th>37</th>\n",
       "      <td>(1, 10/04/2021, 00:00:14)</td>\n",
       "      <td>10/04/2021, 00:00:05</td>\n",
       "      <td>75.894363</td>\n",
       "      <td>16293.013418</td>\n",
       "      <td>0.000264</td>\n",
       "      <td>0.158355</td>\n",
       "      <td>0.003422</td>\n",
       "      <td>0</td>\n",
       "    </tr>\n",
       "    <tr>\n",
       "      <th>38</th>\n",
       "      <td>(1, 10/04/2021, 00:00:14)</td>\n",
       "      <td>10/04/2021, 00:00:09</td>\n",
       "      <td>75.896378</td>\n",
       "      <td>16294.969399</td>\n",
       "      <td>0.000264</td>\n",
       "      <td>0.158355</td>\n",
       "      <td>0.003419</td>\n",
       "      <td>0</td>\n",
       "    </tr>\n",
       "    <tr>\n",
       "      <th>39</th>\n",
       "      <td>(1, 10/04/2021, 00:00:14)</td>\n",
       "      <td>10/04/2021, 00:00:14</td>\n",
       "      <td>75.883698</td>\n",
       "      <td>16307.425750</td>\n",
       "      <td>0.000264</td>\n",
       "      <td>0.158396</td>\n",
       "      <td>0.003420</td>\n",
       "      <td>0</td>\n",
       "    </tr>\n",
       "  </tbody>\n",
       "</table>\n",
       "</div>"
      ],
      "text/plain": [
       "                           id                 index   TVA (m3)    SPPA (kPa)   \n",
       "0   (1, 10/04/2021, 00:00:00)  10/04/2021, 00:00:00  75.909637  16286.783557  \\\n",
       "6   (1, 10/04/2021, 00:00:05)  10/04/2021, 00:00:00  75.909637  16286.783557   \n",
       "7   (1, 10/04/2021, 00:00:05)  10/04/2021, 00:00:05  75.894363  16293.013418   \n",
       "18  (1, 10/04/2021, 00:00:09)  10/04/2021, 00:00:00  75.909637  16286.783557   \n",
       "19  (1, 10/04/2021, 00:00:09)  10/04/2021, 00:00:05  75.894363  16293.013418   \n",
       "20  (1, 10/04/2021, 00:00:09)  10/04/2021, 00:00:09  75.896378  16294.969399   \n",
       "36  (1, 10/04/2021, 00:00:14)  10/04/2021, 00:00:00  75.909637  16286.783557   \n",
       "37  (1, 10/04/2021, 00:00:14)  10/04/2021, 00:00:05  75.894363  16293.013418   \n",
       "38  (1, 10/04/2021, 00:00:14)  10/04/2021, 00:00:09  75.896378  16294.969399   \n",
       "39  (1, 10/04/2021, 00:00:14)  10/04/2021, 00:00:14  75.883698  16307.425750   \n",
       "\n",
       "    MFOA (m3/s)  MFOP ((m3/s)/(m3/s))  GASA (mol/mol)  STATUS  \n",
       "0      0.000264              0.158341        0.003329       0  \n",
       "6      0.000264              0.158341        0.003329       0  \n",
       "7      0.000264              0.158355        0.003422       0  \n",
       "18     0.000264              0.158341        0.003329       0  \n",
       "19     0.000264              0.158355        0.003422       0  \n",
       "20     0.000264              0.158355        0.003419       0  \n",
       "36     0.000264              0.158341        0.003329       0  \n",
       "37     0.000264              0.158355        0.003422       0  \n",
       "38     0.000264              0.158355        0.003419       0  \n",
       "39     0.000264              0.158396        0.003420       0  "
      ]
     },
     "execution_count": 26,
     "metadata": {},
     "output_type": "execute_result"
    }
   ],
   "source": [
    "df_rolled.head(10)"
   ]
  },
  {
   "cell_type": "code",
   "execution_count": 28,
   "metadata": {},
   "outputs": [],
   "source": [
    "df_rolled.to_csv('data Rolled .csv', index=False)"
   ]
  },
  {
   "cell_type": "code",
   "execution_count": 17,
   "metadata": {},
   "outputs": [
    {
     "data": {
      "text/html": [
       "<div>\n",
       "<style scoped>\n",
       "    .dataframe tbody tr th:only-of-type {\n",
       "        vertical-align: middle;\n",
       "    }\n",
       "\n",
       "    .dataframe tbody tr th {\n",
       "        vertical-align: top;\n",
       "    }\n",
       "\n",
       "    .dataframe thead th {\n",
       "        text-align: right;\n",
       "    }\n",
       "</style>\n",
       "<table border=\"1\" class=\"dataframe\">\n",
       "  <thead>\n",
       "    <tr style=\"text-align: right;\">\n",
       "      <th></th>\n",
       "      <th>id</th>\n",
       "      <th>index</th>\n",
       "      <th>TVA (m3)</th>\n",
       "      <th>SPPA (kPa)</th>\n",
       "      <th>MFOA (m3/s)</th>\n",
       "      <th>MFOP ((m3/s)/(m3/s))</th>\n",
       "      <th>GASA (mol/mol)</th>\n",
       "      <th>STATUS</th>\n",
       "    </tr>\n",
       "  </thead>\n",
       "  <tbody>\n",
       "    <tr>\n",
       "      <th>0</th>\n",
       "      <td>(1, 10/04/2021, 00:00:00)</td>\n",
       "      <td>10/04/2021, 00:00:00</td>\n",
       "      <td>75.909637</td>\n",
       "      <td>16286.783557</td>\n",
       "      <td>0.000264</td>\n",
       "      <td>0.158341</td>\n",
       "      <td>0.003329</td>\n",
       "      <td>0</td>\n",
       "    </tr>\n",
       "    <tr>\n",
       "      <th>6</th>\n",
       "      <td>(1, 10/04/2021, 00:00:05)</td>\n",
       "      <td>10/04/2021, 00:00:00</td>\n",
       "      <td>75.909637</td>\n",
       "      <td>16286.783557</td>\n",
       "      <td>0.000264</td>\n",
       "      <td>0.158341</td>\n",
       "      <td>0.003329</td>\n",
       "      <td>0</td>\n",
       "    </tr>\n",
       "    <tr>\n",
       "      <th>7</th>\n",
       "      <td>(1, 10/04/2021, 00:00:05)</td>\n",
       "      <td>10/04/2021, 00:00:05</td>\n",
       "      <td>75.894363</td>\n",
       "      <td>16293.013418</td>\n",
       "      <td>0.000264</td>\n",
       "      <td>0.158355</td>\n",
       "      <td>0.003422</td>\n",
       "      <td>0</td>\n",
       "    </tr>\n",
       "    <tr>\n",
       "      <th>18</th>\n",
       "      <td>(1, 10/04/2021, 00:00:09)</td>\n",
       "      <td>10/04/2021, 00:00:00</td>\n",
       "      <td>75.909637</td>\n",
       "      <td>16286.783557</td>\n",
       "      <td>0.000264</td>\n",
       "      <td>0.158341</td>\n",
       "      <td>0.003329</td>\n",
       "      <td>0</td>\n",
       "    </tr>\n",
       "    <tr>\n",
       "      <th>19</th>\n",
       "      <td>(1, 10/04/2021, 00:00:09)</td>\n",
       "      <td>10/04/2021, 00:00:05</td>\n",
       "      <td>75.894363</td>\n",
       "      <td>16293.013418</td>\n",
       "      <td>0.000264</td>\n",
       "      <td>0.158355</td>\n",
       "      <td>0.003422</td>\n",
       "      <td>0</td>\n",
       "    </tr>\n",
       "    <tr>\n",
       "      <th>20</th>\n",
       "      <td>(1, 10/04/2021, 00:00:09)</td>\n",
       "      <td>10/04/2021, 00:00:09</td>\n",
       "      <td>75.896378</td>\n",
       "      <td>16294.969399</td>\n",
       "      <td>0.000264</td>\n",
       "      <td>0.158355</td>\n",
       "      <td>0.003419</td>\n",
       "      <td>0</td>\n",
       "    </tr>\n",
       "    <tr>\n",
       "      <th>36</th>\n",
       "      <td>(1, 10/04/2021, 00:00:14)</td>\n",
       "      <td>10/04/2021, 00:00:00</td>\n",
       "      <td>75.909637</td>\n",
       "      <td>16286.783557</td>\n",
       "      <td>0.000264</td>\n",
       "      <td>0.158341</td>\n",
       "      <td>0.003329</td>\n",
       "      <td>0</td>\n",
       "    </tr>\n",
       "    <tr>\n",
       "      <th>37</th>\n",
       "      <td>(1, 10/04/2021, 00:00:14)</td>\n",
       "      <td>10/04/2021, 00:00:05</td>\n",
       "      <td>75.894363</td>\n",
       "      <td>16293.013418</td>\n",
       "      <td>0.000264</td>\n",
       "      <td>0.158355</td>\n",
       "      <td>0.003422</td>\n",
       "      <td>0</td>\n",
       "    </tr>\n",
       "  </tbody>\n",
       "</table>\n",
       "</div>"
      ],
      "text/plain": [
       "                           id                 index   TVA (m3)    SPPA (kPa)   \n",
       "0   (1, 10/04/2021, 00:00:00)  10/04/2021, 00:00:00  75.909637  16286.783557  \\\n",
       "6   (1, 10/04/2021, 00:00:05)  10/04/2021, 00:00:00  75.909637  16286.783557   \n",
       "7   (1, 10/04/2021, 00:00:05)  10/04/2021, 00:00:05  75.894363  16293.013418   \n",
       "18  (1, 10/04/2021, 00:00:09)  10/04/2021, 00:00:00  75.909637  16286.783557   \n",
       "19  (1, 10/04/2021, 00:00:09)  10/04/2021, 00:00:05  75.894363  16293.013418   \n",
       "20  (1, 10/04/2021, 00:00:09)  10/04/2021, 00:00:09  75.896378  16294.969399   \n",
       "36  (1, 10/04/2021, 00:00:14)  10/04/2021, 00:00:00  75.909637  16286.783557   \n",
       "37  (1, 10/04/2021, 00:00:14)  10/04/2021, 00:00:05  75.894363  16293.013418   \n",
       "\n",
       "    MFOA (m3/s)  MFOP ((m3/s)/(m3/s))  GASA (mol/mol)  STATUS  \n",
       "0      0.000264              0.158341        0.003329       0  \n",
       "6      0.000264              0.158341        0.003329       0  \n",
       "7      0.000264              0.158355        0.003422       0  \n",
       "18     0.000264              0.158341        0.003329       0  \n",
       "19     0.000264              0.158355        0.003422       0  \n",
       "20     0.000264              0.158355        0.003419       0  \n",
       "36     0.000264              0.158341        0.003329       0  \n",
       "37     0.000264              0.158355        0.003422       0  "
      ]
     },
     "execution_count": 17,
     "metadata": {},
     "output_type": "execute_result"
    }
   ],
   "source": [
    "for i in range(0,33361093,1048576):\n",
    "    dx=df_rolled[]\n",
    "    df_rolled.to_excel('data Rolled .xlsx', index=False)"
   ]
  },
  {
   "attachments": {},
   "cell_type": "markdown",
   "metadata": {},
   "source": [
    "# knn algorithme"
   ]
  },
  {
   "cell_type": "code",
   "execution_count": 6,
   "metadata": {},
   "outputs": [],
   "source": [
    "from sklearn.neighbors import KNeighborsClassifier\n",
    "from sklearn.model_selection import cross_val_score\n",
    "from sklearn.model_selection import train_test_split"
   ]
  },
  {
   "cell_type": "code",
   "execution_count": 7,
   "metadata": {},
   "outputs": [],
   "source": [
    "X = df[['TVA (m3)', 'SPPA (kPa)', 'MFOA (m3/s)',\n",
    "       'MFOP ((m3/s)/(m3/s))', 'GASA (mol/mol)']]\n",
    "y = df['STATUS']"
   ]
  },
  {
   "cell_type": "code",
   "execution_count": 8,
   "metadata": {},
   "outputs": [],
   "source": [
    "x_train,x_test,y_train,y_test=train_test_split(X,y,test_size=0.3)"
   ]
  },
  {
   "cell_type": "code",
   "execution_count": 13,
   "metadata": {},
   "outputs": [
    {
     "data": {
      "text/plain": [
       "(65445,)"
      ]
     },
     "execution_count": 13,
     "metadata": {},
     "output_type": "execute_result"
    }
   ],
   "source": [
    "y_train.shape"
   ]
  },
  {
   "cell_type": "code",
   "execution_count": 16,
   "metadata": {},
   "outputs": [],
   "source": [
    "import matplotlib.pyplot as plt"
   ]
  },
  {
   "cell_type": "code",
   "execution_count": 17,
   "metadata": {},
   "outputs": [
    {
     "data": {
      "image/png": "[encoded data removed]",
      "text/plain": [
       "<Figure size 640x480 with 1 Axes>"
      ]
     },
     "metadata": {},
     "output_type": "display_data"
    }
   ],
   "source": [
    "k_values = [1, 3, 5, 7, 9]\n",
    "train_accuracy = []\n",
    "for k in k_values:\n",
    "    knn = KNeighborsClassifier(n_neighbors=k)\n",
    "    knn.fit(x_train, y_train)\n",
    "    train_accuracy.append(knn.score(x_train, y_train))\n",
    "\n",
    "# Plot the training accuracy over time\n",
    "plt.plot(k_values, train_accuracy)\n",
    "plt.title('Training Accuracy vs. k')\n",
    "plt.xlabel('k')\n",
    "plt.ylabel('Accuracy')\n",
    "plt.show()"
   ]
  },
  {
   "cell_type": "code",
   "execution_count": 18,
   "metadata": {},
   "outputs": [],
   "source": [
    "from sklearn.model_selection import cross_validate\n",
    "import numpy as np"
   ]
  },
  {
   "cell_type": "code",
   "execution_count": 19,
   "metadata": {},
   "outputs": [
    {
     "data": {
      "image/png": "[encoded data removed]",
      "text/plain": [
       "<Figure size 640x480 with 1 Axes>"
      ]
     },
     "metadata": {},
     "output_type": "display_data"
    }
   ],
   "source": [
    "\n",
    "\n",
    "k_values = [1, 3, 5, 7, 9]\n",
    "\n",
    "# Define the number of folds for cross-validation\n",
    "num_folds = 5\n",
    "\n",
    "# Train the k-NN model with k-fold cross-validation\n",
    "train_scores = []\n",
    "val_scores = []\n",
    "for k in k_values:\n",
    "    knn = KNeighborsClassifier(n_neighbors=k)\n",
    "    scores = cross_validate(knn, X, y, cv=num_folds, return_train_score=True)\n",
    "    train_scores.append(np.mean(scores['train_score']))\n",
    "    val_scores.append(np.mean(scores['test_score']))\n",
    "\n",
    "# Plot the training and validation accuracy over time\n",
    "plt.plot(k_values, train_scores, label='Training')\n",
    "plt.plot(k_values, val_scores, label='Validation')\n",
    "plt.title('Training and Validation Accuracy vs. k')\n",
    "plt.xlabel('k')\n",
    "plt.ylabel('Accuracy')\n",
    "plt.legend()\n",
    "plt.show()"
   ]
  },
  {
   "cell_type": "code",
   "execution_count": 20,
   "metadata": {},
   "outputs": [
    {
     "data": {
      "image/png": "[encoded data removed]",
      "text/plain": [
       "<Figure size 640x480 with 1 Axes>"
      ]
     },
     "metadata": {},
     "output_type": "display_data"
    }
   ],
   "source": [
    "k_values = [1, 3, 5, 7, 9]\n",
    "\n",
    "# Define the number of folds for cross-validation\n",
    "num_folds = 10\n",
    "\n",
    "# Train the k-NN model with k-fold cross-validation\n",
    "train_scores = []\n",
    "val_scores = []\n",
    "for k in k_values:\n",
    "    knn = KNeighborsClassifier(n_neighbors=k)\n",
    "    scores = cross_validate(knn, X, y, cv=num_folds, return_train_score=True)\n",
    "    train_scores.append(np.mean(scores['train_score']))\n",
    "    val_scores.append(np.mean(scores['test_score']))\n",
    "\n",
    "# Plot the training and validation accuracy over time\n",
    "plt.plot(k_values, train_scores, label='Training')\n",
    "plt.plot(k_values, val_scores, label='Validation')\n",
    "plt.title('Training and Validation Accuracy vs. k')\n",
    "plt.xlabel('k')\n",
    "plt.ylabel('Accuracy')\n",
    "plt.legend()\n",
    "plt.show()"
   ]
  },
  {
   "cell_type": "code",
   "execution_count": 9,
   "metadata": {},
   "outputs": [],
   "source": [
    "scores = cross_val_score(knn, X, y, cv=10)"
   ]
  },
  {
   "cell_type": "code",
   "execution_count": null,
   "metadata": {},
   "outputs": [],
   "source": [
    "cross_val_score.pride"
   ]
  },
  {
   "cell_type": "code",
   "execution_count": 10,
   "metadata": {},
   "outputs": [
    {
     "name": "stdout",
     "output_type": "stream",
     "text": [
      "Accuracy: 0.98 (+/- 0.02)\n"
     ]
    }
   ],
   "source": [
    "print(\"Accuracy: %0.2f (+/- %0.2f)\" % (scores.mean(), scores.std() * 2))"
   ]
  },
  {
   "cell_type": "code",
   "execution_count": 11,
   "metadata": {},
   "outputs": [
    {
     "ename": "NotFittedError",
     "evalue": "This KNeighborsClassifier instance is not fitted yet. Call 'fit' with appropriate arguments before using this estimator.",
     "output_type": "error",
     "traceback": [
      "\u001b[1;31m---------------------------------------------------------------------------\u001b[0m",
      "\u001b[1;31mNotFittedError\u001b[0m                            Traceback (most recent call last)",
      "Cell \u001b[1;32mIn[11], line 2\u001b[0m\n\u001b[0;32m      1\u001b[0m l\u001b[39m=\u001b[39m[[\u001b[39m73.758263\u001b[39m,\u001b[39m4272.9294\u001b[39m\t,\u001b[39m0.000226501\u001b[39m\t,\u001b[39m0.13590043\u001b[39m,\t\u001b[39m0.021322998\u001b[39m]]\n\u001b[1;32m----> 2\u001b[0m knn\u001b[39m.\u001b[39;49mpredict(l)\n",
      "File \u001b[1;32mc:\\Users\\hp\\AppData\\Local\\Programs\\Python\\Python39\\lib\\site-packages\\sklearn\\neighbors\\_classification.py:234\u001b[0m, in \u001b[0;36mKNeighborsClassifier.predict\u001b[1;34m(self, X)\u001b[0m\n\u001b[0;32m    218\u001b[0m \u001b[39m\u001b[39m\u001b[39m\"\"\"Predict the class labels for the provided data.\u001b[39;00m\n\u001b[0;32m    219\u001b[0m \n\u001b[0;32m    220\u001b[0m \u001b[39mParameters\u001b[39;00m\n\u001b[1;32m   (...)\u001b[0m\n\u001b[0;32m    229\u001b[0m \u001b[39m    Class labels for each data sample.\u001b[39;00m\n\u001b[0;32m    230\u001b[0m \u001b[39m\"\"\"\u001b[39;00m\n\u001b[0;32m    231\u001b[0m \u001b[39mif\u001b[39;00m \u001b[39mself\u001b[39m\u001b[39m.\u001b[39mweights \u001b[39m==\u001b[39m \u001b[39m\"\u001b[39m\u001b[39muniform\u001b[39m\u001b[39m\"\u001b[39m:\n\u001b[0;32m    232\u001b[0m     \u001b[39m# In that case, we do not need the distances to perform\u001b[39;00m\n\u001b[0;32m    233\u001b[0m     \u001b[39m# the weighting so we do not compute them.\u001b[39;00m\n\u001b[1;32m--> 234\u001b[0m     neigh_ind \u001b[39m=\u001b[39m \u001b[39mself\u001b[39;49m\u001b[39m.\u001b[39;49mkneighbors(X, return_distance\u001b[39m=\u001b[39;49m\u001b[39mFalse\u001b[39;49;00m)\n\u001b[0;32m    235\u001b[0m     neigh_dist \u001b[39m=\u001b[39m \u001b[39mNone\u001b[39;00m\n\u001b[0;32m    236\u001b[0m \u001b[39melse\u001b[39;00m:\n",
      "File \u001b[1;32mc:\\Users\\hp\\AppData\\Local\\Programs\\Python\\Python39\\lib\\site-packages\\sklearn\\neighbors\\_base.py:784\u001b[0m, in \u001b[0;36mKNeighborsMixin.kneighbors\u001b[1;34m(self, X, n_neighbors, return_distance)\u001b[0m\n\u001b[0;32m    732\u001b[0m \u001b[39mdef\u001b[39;00m \u001b[39mkneighbors\u001b[39m(\u001b[39mself\u001b[39m, X\u001b[39m=\u001b[39m\u001b[39mNone\u001b[39;00m, n_neighbors\u001b[39m=\u001b[39m\u001b[39mNone\u001b[39;00m, return_distance\u001b[39m=\u001b[39m\u001b[39mTrue\u001b[39;00m):\n\u001b[0;32m    733\u001b[0m \u001b[39m    \u001b[39m\u001b[39m\"\"\"Find the K-neighbors of a point.\u001b[39;00m\n\u001b[0;32m    734\u001b[0m \n\u001b[0;32m    735\u001b[0m \u001b[39m    Returns indices of and distances to the neighbors of each point.\u001b[39;00m\n\u001b[1;32m   (...)\u001b[0m\n\u001b[0;32m    782\u001b[0m \u001b[39m           [2]]...)\u001b[39;00m\n\u001b[0;32m    783\u001b[0m \u001b[39m    \"\"\"\u001b[39;00m\n\u001b[1;32m--> 784\u001b[0m     check_is_fitted(\u001b[39mself\u001b[39;49m)\n\u001b[0;32m    786\u001b[0m     \u001b[39mif\u001b[39;00m n_neighbors \u001b[39mis\u001b[39;00m \u001b[39mNone\u001b[39;00m:\n\u001b[0;32m    787\u001b[0m         n_neighbors \u001b[39m=\u001b[39m \u001b[39mself\u001b[39m\u001b[39m.\u001b[39mn_neighbors\n",
      "File \u001b[1;32mc:\\Users\\hp\\AppData\\Local\\Programs\\Python\\Python39\\lib\\site-packages\\sklearn\\utils\\validation.py:1390\u001b[0m, in \u001b[0;36mcheck_is_fitted\u001b[1;34m(estimator, attributes, msg, all_or_any)\u001b[0m\n\u001b[0;32m   1385\u001b[0m     fitted \u001b[39m=\u001b[39m [\n\u001b[0;32m   1386\u001b[0m         v \u001b[39mfor\u001b[39;00m v \u001b[39min\u001b[39;00m \u001b[39mvars\u001b[39m(estimator) \u001b[39mif\u001b[39;00m v\u001b[39m.\u001b[39mendswith(\u001b[39m\"\u001b[39m\u001b[39m_\u001b[39m\u001b[39m\"\u001b[39m) \u001b[39mand\u001b[39;00m \u001b[39mnot\u001b[39;00m v\u001b[39m.\u001b[39mstartswith(\u001b[39m\"\u001b[39m\u001b[39m__\u001b[39m\u001b[39m\"\u001b[39m)\n\u001b[0;32m   1387\u001b[0m     ]\n\u001b[0;32m   1389\u001b[0m \u001b[39mif\u001b[39;00m \u001b[39mnot\u001b[39;00m fitted:\n\u001b[1;32m-> 1390\u001b[0m     \u001b[39mraise\u001b[39;00m NotFittedError(msg \u001b[39m%\u001b[39m {\u001b[39m\"\u001b[39m\u001b[39mname\u001b[39m\u001b[39m\"\u001b[39m: \u001b[39mtype\u001b[39m(estimator)\u001b[39m.\u001b[39m\u001b[39m__name__\u001b[39m})\n",
      "\u001b[1;31mNotFittedError\u001b[0m: This KNeighborsClassifier instance is not fitted yet. Call 'fit' with appropriate arguments before using this estimator."
     ]
    }
   ],
   "source": [
    "l=[[73.758263,4272.9294\t,0.000226501\t,0.13590043,\t0.021322998]]\n",
    "knn.predict(l)"
   ]
  },
  {
   "cell_type": "code",
   "execution_count": 37,
   "metadata": {},
   "outputs": [
    {
     "data": {
      "text/html": [
       "<div>\n",
       "<style scoped>\n",
       "    .dataframe tbody tr th:only-of-type {\n",
       "        vertical-align: middle;\n",
       "    }\n",
       "\n",
       "    .dataframe tbody tr th {\n",
       "        vertical-align: top;\n",
       "    }\n",
       "\n",
       "    .dataframe thead th {\n",
       "        text-align: right;\n",
       "    }\n",
       "</style>\n",
       "<table border=\"1\" class=\"dataframe\">\n",
       "  <thead>\n",
       "    <tr style=\"text-align: right;\">\n",
       "      <th></th>\n",
       "      <th>TVA (m3)</th>\n",
       "      <th>SPPA (kPa)</th>\n",
       "      <th>MFOA (m3/s)</th>\n",
       "      <th>MFOP ((m3/s)/(m3/s))</th>\n",
       "      <th>GASA (mol/mol)</th>\n",
       "    </tr>\n",
       "  </thead>\n",
       "  <tbody>\n",
       "    <tr>\n",
       "      <th>0</th>\n",
       "      <td>73.758263</td>\n",
       "      <td>4272.9294</td>\n",
       "      <td>0.000227</td>\n",
       "      <td>0.1359</td>\n",
       "      <td>0.021323</td>\n",
       "    </tr>\n",
       "  </tbody>\n",
       "</table>\n",
       "</div>"
      ],
      "text/plain": [
       "    TVA (m3)  SPPA (kPa)  MFOA (m3/s)  MFOP ((m3/s)/(m3/s))  GASA (mol/mol)\n",
       "0  73.758263   4272.9294     0.000227                0.1359        0.021323"
      ]
     },
     "execution_count": 37,
     "metadata": {},
     "output_type": "execute_result"
    }
   ],
   "source": [
    "\n",
    "dd={'TVA (m3)':[73.758263], 'SPPA (kPa)':[4272.9294], 'MFOA (m3/s)':[0.000226501], 'MFOP ((m3/s)/(m3/s))':[0.13590043],\n",
    "       'GASA (mol/mol)':[0.021322998]}\n",
    "dx=pd.DataFrame(dd)\n",
    "dx.head()"
   ]
  },
  {
   "cell_type": "code",
   "execution_count": 38,
   "metadata": {},
   "outputs": [],
   "source": [
    "y_pred = knn.predict(dx)"
   ]
  },
  {
   "cell_type": "code",
   "execution_count": 39,
   "metadata": {},
   "outputs": [
    {
     "data": {
      "text/plain": [
       "array([0], dtype=int64)"
      ]
     },
     "execution_count": 39,
     "metadata": {},
     "output_type": "execute_result"
    }
   ],
   "source": [
    "y_pred"
   ]
  },
  {
   "cell_type": "code",
   "execution_count": 32,
   "metadata": {},
   "outputs": [
    {
     "data": {
      "text/plain": [
       "0.9933686293384673"
      ]
     },
     "execution_count": 32,
     "metadata": {},
     "output_type": "execute_result"
    }
   ],
   "source": [
    "from sklearn.metrics import accuracy_score\n",
    "accuracy = accuracy_score(y_test, y_pred)\n",
    "accuracy"
   ]
  },
  {
   "cell_type": "code",
   "execution_count": 1,
   "metadata": {},
   "outputs": [
    {
     "name": "stderr",
     "output_type": "stream",
     "text": [
      "c:\\Users\\hp\\AppData\\Local\\Programs\\Python\\Python39\\lib\\site-packages\\sklearn\\metrics\\_classification.py:1344: UndefinedMetricWarning: Recall is ill-defined and being set to 0.0 due to no true samples. Use `zero_division` parameter to control this behavior.\n",
      "  _warn_prf(average, modifier, msg_start, len(result))\n"
     ]
    },
    {
     "ename": "ValueError",
     "evalue": "Only one class present in y_true. ROC AUC score is not defined in that case.",
     "output_type": "error",
     "traceback": [
      "\u001b[1;31m---------------------------------------------------------------------------\u001b[0m",
      "\u001b[1;31mValueError\u001b[0m                                Traceback (most recent call last)",
      "Cell \u001b[1;32mIn[1], line 46\u001b[0m\n\u001b[0;32m     44\u001b[0m     maes\u001b[39m.\u001b[39mappend(mean_absolute_error(y_test, y_pred))\n\u001b[0;32m     45\u001b[0m     mccs\u001b[39m.\u001b[39mappend(matthews_corrcoef(y_test, y_pred))\n\u001b[1;32m---> 46\u001b[0m     roc_aucs\u001b[39m.\u001b[39mappend(roc_auc_score(y_test, y_pred))\n\u001b[0;32m     47\u001b[0m     prc_aucs\u001b[39m.\u001b[39mappend(average_precision_score(y_test, y_pred))\n\u001b[0;32m     49\u001b[0m \u001b[39m# Calculate the average metrics\u001b[39;00m\n",
      "File \u001b[1;32mc:\\Users\\hp\\AppData\\Local\\Programs\\Python\\Python39\\lib\\site-packages\\sklearn\\metrics\\_ranking.py:572\u001b[0m, in \u001b[0;36mroc_auc_score\u001b[1;34m(y_true, y_score, average, sample_weight, max_fpr, multi_class, labels)\u001b[0m\n\u001b[0;32m    570\u001b[0m     labels \u001b[39m=\u001b[39m np\u001b[39m.\u001b[39munique(y_true)\n\u001b[0;32m    571\u001b[0m     y_true \u001b[39m=\u001b[39m label_binarize(y_true, classes\u001b[39m=\u001b[39mlabels)[:, \u001b[39m0\u001b[39m]\n\u001b[1;32m--> 572\u001b[0m     \u001b[39mreturn\u001b[39;00m _average_binary_score(\n\u001b[0;32m    573\u001b[0m         partial(_binary_roc_auc_score, max_fpr\u001b[39m=\u001b[39;49mmax_fpr),\n\u001b[0;32m    574\u001b[0m         y_true,\n\u001b[0;32m    575\u001b[0m         y_score,\n\u001b[0;32m    576\u001b[0m         average,\n\u001b[0;32m    577\u001b[0m         sample_weight\u001b[39m=\u001b[39;49msample_weight,\n\u001b[0;32m    578\u001b[0m     )\n\u001b[0;32m    579\u001b[0m \u001b[39melse\u001b[39;00m:  \u001b[39m# multilabel-indicator\u001b[39;00m\n\u001b[0;32m    580\u001b[0m     \u001b[39mreturn\u001b[39;00m _average_binary_score(\n\u001b[0;32m    581\u001b[0m         partial(_binary_roc_auc_score, max_fpr\u001b[39m=\u001b[39mmax_fpr),\n\u001b[0;32m    582\u001b[0m         y_true,\n\u001b[1;32m   (...)\u001b[0m\n\u001b[0;32m    585\u001b[0m         sample_weight\u001b[39m=\u001b[39msample_weight,\n\u001b[0;32m    586\u001b[0m     )\n",
      "File \u001b[1;32mc:\\Users\\hp\\AppData\\Local\\Programs\\Python\\Python39\\lib\\site-packages\\sklearn\\metrics\\_base.py:75\u001b[0m, in \u001b[0;36m_average_binary_score\u001b[1;34m(binary_metric, y_true, y_score, average, sample_weight)\u001b[0m\n\u001b[0;32m     72\u001b[0m     \u001b[39mraise\u001b[39;00m \u001b[39mValueError\u001b[39;00m(\u001b[39m\"\u001b[39m\u001b[39m{0}\u001b[39;00m\u001b[39m format is not supported\u001b[39m\u001b[39m\"\u001b[39m\u001b[39m.\u001b[39mformat(y_type))\n\u001b[0;32m     74\u001b[0m \u001b[39mif\u001b[39;00m y_type \u001b[39m==\u001b[39m \u001b[39m\"\u001b[39m\u001b[39mbinary\u001b[39m\u001b[39m\"\u001b[39m:\n\u001b[1;32m---> 75\u001b[0m     \u001b[39mreturn\u001b[39;00m binary_metric(y_true, y_score, sample_weight\u001b[39m=\u001b[39;49msample_weight)\n\u001b[0;32m     77\u001b[0m check_consistent_length(y_true, y_score, sample_weight)\n\u001b[0;32m     78\u001b[0m y_true \u001b[39m=\u001b[39m check_array(y_true)\n",
      "File \u001b[1;32mc:\\Users\\hp\\AppData\\Local\\Programs\\Python\\Python39\\lib\\site-packages\\sklearn\\metrics\\_ranking.py:339\u001b[0m, in \u001b[0;36m_binary_roc_auc_score\u001b[1;34m(y_true, y_score, sample_weight, max_fpr)\u001b[0m\n\u001b[0;32m    337\u001b[0m \u001b[39m\u001b[39m\u001b[39m\"\"\"Binary roc auc score.\"\"\"\u001b[39;00m\n\u001b[0;32m    338\u001b[0m \u001b[39mif\u001b[39;00m \u001b[39mlen\u001b[39m(np\u001b[39m.\u001b[39munique(y_true)) \u001b[39m!=\u001b[39m \u001b[39m2\u001b[39m:\n\u001b[1;32m--> 339\u001b[0m     \u001b[39mraise\u001b[39;00m \u001b[39mValueError\u001b[39;00m(\n\u001b[0;32m    340\u001b[0m         \u001b[39m\"\u001b[39m\u001b[39mOnly one class present in y_true. ROC AUC score \u001b[39m\u001b[39m\"\u001b[39m\n\u001b[0;32m    341\u001b[0m         \u001b[39m\"\u001b[39m\u001b[39mis not defined in that case.\u001b[39m\u001b[39m\"\u001b[39m\n\u001b[0;32m    342\u001b[0m     )\n\u001b[0;32m    344\u001b[0m fpr, tpr, _ \u001b[39m=\u001b[39m roc_curve(y_true, y_score, sample_weight\u001b[39m=\u001b[39msample_weight)\n\u001b[0;32m    345\u001b[0m \u001b[39mif\u001b[39;00m max_fpr \u001b[39mis\u001b[39;00m \u001b[39mNone\u001b[39;00m \u001b[39mor\u001b[39;00m max_fpr \u001b[39m==\u001b[39m \u001b[39m1\u001b[39m:\n",
      "\u001b[1;31mValueError\u001b[0m: Only one class present in y_true. ROC AUC score is not defined in that case."
     ]
    }
   ],
   "source": [
    "import numpy as np\n",
    "from sklearn.model_selection import KFold\n",
    "from sklearn.neighbors import KNeighborsClassifier\n",
    "from sklearn.metrics import (accuracy_score, confusion_matrix, precision_score, recall_score, f1_score,\n",
    "                             mean_absolute_error, matthews_corrcoef, roc_auc_score, average_precision_score)\n",
    "\n",
    "# Your data and labels go here\n",
    "X = np.array([[1, 2], [3, 4], [5, 6], [7, 8], [9, 10]])\n",
    "y = np.array([0, 1, 0, 1, 0])\n",
    "\n",
    "# Set up k-folds cross validation\n",
    "k = 5\n",
    "kf = KFold(n_splits=k)\n",
    "\n",
    "# Set up the KNN algorithm\n",
    "knn = KNeighborsClassifier(n_neighbors=3)\n",
    "\n",
    "# Initialize metric lists\n",
    "accuracies = []\n",
    "conf_matrices = []\n",
    "precisions = []\n",
    "recalls = []\n",
    "f_measures = []\n",
    "maes = []\n",
    "mccs = []\n",
    "roc_aucs = []\n",
    "prc_aucs = []\n",
    "\n",
    "# Loop through the k-folds\n",
    "for train_index, test_index in kf.split(X):\n",
    "    X_train, X_test = X[train_index], X[test_index]\n",
    "    y_train, y_test = y[train_index], y[test_index]\n",
    "\n",
    "    # Train and test the model\n",
    "    knn.fit(X_train, y_train)\n",
    "    y_pred = knn.predict(X_test)\n",
    "\n",
    "    # Calculate the metrics\n",
    "    accuracies.append(accuracy_score(y_test, y_pred))\n",
    "    conf_matrices.append(confusion_matrix(y_test, y_pred))\n",
    "    precisions.append(precision_score(y_test, y_pred))\n",
    "    recalls.append(recall_score(y_test, y_pred))\n",
    "    f_measures.append(f1_score(y_test, y_pred))\n",
    "    maes.append(mean_absolute_error(y_test, y_pred))\n",
    "    mccs.append(matthews_corrcoef(y_test, y_pred))\n",
    "    roc_aucs.append(roc_auc_score(y_test, y_pred))\n",
    "    prc_aucs.append(average_precision_score(y_test, y_pred))\n",
    "\n",
    "# Calculate the average metrics\n",
    "avg_accuracy = np.mean(accuracies)\n",
    "avg_conf_matrix = np.mean(conf_matrices, axis=0)\n",
    "avg_precision = np.mean(precisions)\n",
    "avg_recall = np.mean(recalls)\n",
    "avg_f_measure = np.mean(f_measures)\n",
    "avg_mae = np.mean(maes)\n",
    "avg_mcc = np.mean(mccs)\n",
    "avg_roc_auc = np.mean(roc_aucs)\n",
    "avg_prc_auc = np.mean(prc_aucs)\n",
    "\n",
    "# Print the average metrics\n",
    "print(\"Average Accuracy:\", avg_accuracy)\n",
    "print(\"Average Confusion Matrix:\\n\", avg_conf_matrix)\n",
    "print(\"Average Precision:\", avg_precision)\n",
    "print(\"Average Recall:\", avg_recall)\n",
    "print(\"Average F-Measure:\", avg_f_measure)\n",
    "print(\"Average MAE:\", avg_mae)\n",
    "print(\"Average MCC:\", avg_mcc)\n",
    "print(\"Average ROC AUC:\", avg_roc_auc)\n",
    "print(\"Average PRC AUC:\", avg_prc_auc)\n"
   ]
  }
 ],
 "metadata": {
  "kernelspec": {
   "display_name": "Python 3 (ipykernel)",
   "language": "python",
   "name": "python3"
  },
  "language_info": {
   "codemirror_mode": {
    "name": "ipython",
    "version": 3
   },
   "file_extension": ".py",
   "mimetype": "text/x-python",
   "name": "python",
   "nbconvert_exporter": "python",
   "pygments_lexer": "ipython3",
   "version": "3.9.0"
  },
  "orig_nbformat": 4
 },
 "nbformat": 4,
 "nbformat_minor": 2
}
