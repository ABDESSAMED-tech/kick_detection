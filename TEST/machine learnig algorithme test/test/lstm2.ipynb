{
 "cells": [
  {
   "cell_type": "code",
   "execution_count": 42,
   "metadata": {},
   "outputs": [],
   "source": [
    "import numpy as np\n",
    "import pandas as pd\n",
    "from sklearn.preprocessing import MinMaxScaler\n",
    "from tensorflow.keras.models import Sequential\n",
    "from tensorflow.keras.layers import LSTM, Dense\n",
    "from sklearn.model_selection import train_test_split\n",
    "from sklearn.metrics import confusion_matrix, precision_score, recall_score, f1_score, accuracy_score\n",
    "from sklearn.neighbors import KNeighborsClassifier\n",
    "from sklearn.model_selection import StratifiedKFold\n",
    "from sklearn.model_selection import TimeSeriesSplit\n",
    "from sklearn.ensemble import RandomForestClassifier\n",
    "from sklearn.utils import resample\n",
    "\n"
   ]
  },
  {
   "cell_type": "code",
   "execution_count": 6,
   "metadata": {},
   "outputs": [
    {
     "data": {
      "text/plain": [
       "(17280, 42)"
      ]
     },
     "execution_count": 6,
     "metadata": {},
     "output_type": "execute_result"
    }
   ],
   "source": [
    "df=pd.read_excel(r'C:\\Users\\hp\\Desktop\\M2\\PFE\\Code\\code pfe\\dataset\\6.xlsx')\n",
    "df.shape"
   ]
  },
  {
   "cell_type": "code",
   "execution_count": 7,
   "metadata": {},
   "outputs": [],
   "source": [
    "df['index']=pd.to_datetime(df['index'])"
   ]
  },
  {
   "cell_type": "code",
   "execution_count": 8,
   "metadata": {},
   "outputs": [],
   "source": [
    "import pandas as pd\n",
    "from sklearn.utils import resample\n",
    "\n",
    "# Create a DataFrame with features X and labels y\n",
    "X = df[['index', 'TVA (m3)', 'SPPA (kPa)', 'MFOP ((m3/s)/(m3/s))', 'GASA (mol/mol)']]\n",
    "y = df['STATUS']\n",
    "\n",
    "\n"
   ]
  },
  {
   "cell_type": "code",
   "execution_count": 11,
   "metadata": {},
   "outputs": [],
   "source": [
    "# Concatenate X and y for easier resampling\n",
    "df_concat = pd.concat([X, y], axis=1)\n",
    "\n",
    "# Separate majority and minority class samples\n",
    "majority_class = df_concat[df_concat['STATUS'] == 0]\n",
    "minority_class = df_concat[(df_concat['STATUS'] == 1) & (df_concat.index >= 14571) & (df_concat.index <= 14679)]\n",
    "\n",
    "# Resample the minority class sequences to match the length of the majority class sequences\n",
    "resampled_minority_class = resample(minority_class,\n",
    "                                    replace=True,  # Allow replacement for oversampling\n",
    "                                    n_samples=len(majority_class),  # Match majority class samples\n",
    "                                    random_state=42)\n",
    "\n",
    "# Combine resampled minority class with majority class\n",
    "balanced_df = pd.concat([majority_class, resampled_minority_class])\n",
    "\n",
    "# Sort the DataFrame by the time column to maintain the time-series order\n",
    "balanced_df.sort_values('index', inplace=True)\n",
    "\n",
    "# Separate features (X) and labels (y) in the balanced dataset\n",
    "balanced_X = balanced_df[['index', 'TVA (m3)', 'SPPA (kPa)', 'MFOP ((m3/s)/(m3/s))', 'GASA (mol/mol)']]\n",
    "balanced_y = balanced_df['STATUS']\n",
    "\n",
    "# Use balanced_X and balanced_y for training your model"
   ]
  },
  {
   "cell_type": "code",
   "execution_count": 39,
   "metadata": {},
   "outputs": [],
   "source": [
    "from sklearn.preprocessing import MinMaxScaler\n",
    "scaler = MinMaxScaler()\n",
    "# Select the columns to normalize\n",
    "columns_to_normalize = ['TVA (m3)', 'SPPA (kPa)', 'MFOP ((m3/s)/(m3/s))', 'GASA (mol/mol)']  # Adjust the column names as per your requirement\n",
    "# Perform the min-max normalization\n",
    "balanced_df[columns_to_normalize]= scaler.fit_transform(balanced_df[columns_to_normalize])\n"
   ]
  },
  {
   "cell_type": "code",
   "execution_count": 38,
   "metadata": {},
   "outputs": [
    {
     "data": {
      "text/plain": [
       "array([[0.0848329 , 0.00655022, 0.1       , 0.        ],\n",
       "       [0.0848329 , 0.00545852, 0.1       , 0.        ],\n",
       "       [0.0848329 , 0.00545852, 0.1       , 0.        ],\n",
       "       ...,\n",
       "       [0.92544987, 0.73908297, 0.1       , 0.03630862],\n",
       "       [0.92544987, 0.73580786, 0.08      , 0.03630862],\n",
       "       [0.92544987, 0.73034934, 0.1       , 0.03570348]])"
      ]
     },
     "execution_count": 38,
     "metadata": {},
     "output_type": "execute_result"
    }
   ],
   "source": []
  },
  {
   "cell_type": "code",
   "execution_count": 40,
   "metadata": {},
   "outputs": [],
   "source": [
    "y=balanced_df['STATUS']\n",
    "X=balanced_df[['TVA (m3)', 'SPPA (kPa)', 'MFOP ((m3/s)/(m3/s))', 'GASA (mol/mol)']]\n"
   ]
  },
  {
   "cell_type": "code",
   "execution_count": 41,
   "metadata": {},
   "outputs": [
    {
     "name": "stdout",
     "output_type": "stream",
     "text": [
      "Train_data_dimensions:(21257, 36, 4),(21257, 1)\n",
      "Test_data_dimensions:(13050, 36, 4),(13050, 1)\n"
     ]
    }
   ],
   "source": [
    "train_features , test_features , train_labels , test_labels = train_test_split(X , y, test_size=0.38, shuffle=False)\n",
    "T = 36 # my choice of the rolling window\n",
    "prepend_features = train_features.iloc[-(T- 1 ):]\n",
    "test_features = pd.concat([prepend_features , test_features ], axis=0)\n",
    "X_train , y_train = [], []\n",
    "for i in range(train_labels.shape[ 0 ] - (T- 1 )):\n",
    "    X_train.append(train_features.iloc[i:i+T].values)\n",
    "    y_train.append(train_labels.iloc[i + (T- 1 )])\n",
    "X_train , y_train = np.array(X_train), np.array(y_train).reshape(-1,1 )\n",
    "print(f'Train_data_dimensions:{X_train.shape},{y_train.shape}')\n",
    "X_test , y_test = [], []\n",
    "for i in range(test_labels.shape[ 0 ]):\n",
    "    X_test.append(test_features.iloc[i:i+T].values)\n",
    "    y_test.append(test_labels.iloc[i])\n",
    "X_test , y_test = np.array(X_test), np.array(y_test).reshape(- 1 , 1 )\n",
    "print(f'Test_data_dimensions:{X_test.shape},{y_test.shape}')"
   ]
  },
  {
   "cell_type": "code",
   "execution_count": null,
   "metadata": {},
   "outputs": [],
   "source": []
  }
 ],
 "metadata": {
  "kernelspec": {
   "display_name": "Python 3",
   "language": "python",
   "name": "python3"
  },
  "language_info": {
   "codemirror_mode": {
    "name": "ipython",
    "version": 3
   },
   "file_extension": ".py",
   "mimetype": "text/x-python",
   "name": "python",
   "nbconvert_exporter": "python",
   "pygments_lexer": "ipython3",
   "version": "3.11.3"
  },
  "orig_nbformat": 4
 },
 "nbformat": 4,
 "nbformat_minor": 2
}
