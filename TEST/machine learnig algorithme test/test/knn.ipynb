{
 "cells": [
  {
   "attachments": {},
   "cell_type": "markdown",
   "metadata": {},
   "source": [
    "Implement kNN Algorithm: Use a kNN algorithm implementation in Python, such as scikit-learn's KNeighborsClassifier"
   ]
  },
  {
   "cell_type": "code",
   "execution_count": 2,
   "metadata": {},
   "outputs": [],
   "source": [
    "from sklearn.neighbors import KNeighborsClassifier\n",
    "from sklearn.model_selection import train_test_split\n",
    "from sklearn.preprocessing import StandardScaler\n",
    "import pandas as pd\n",
    "import numpy as np\n",
    "import matplotlib.pyplot as plt\n",
    "\n"
   ]
  },
  {
   "cell_type": "code",
   "execution_count": 1,
   "metadata": {},
   "outputs": [
    {
     "ename": "NameError",
     "evalue": "name 'pd' is not defined",
     "output_type": "error",
     "traceback": [
      "\u001b[1;31m---------------------------------------------------------------------------\u001b[0m",
      "\u001b[1;31mNameError\u001b[0m                                 Traceback (most recent call last)",
      "Cell \u001b[1;32mIn[1], line 1\u001b[0m\n\u001b[1;32m----> 1\u001b[0m df\u001b[39m=\u001b[39mpd\u001b[39m.\u001b[39mread_excel(\u001b[39mr\u001b[39m\u001b[39m'\u001b[39m\u001b[39mC:\u001b[39m\u001b[39m\\\u001b[39m\u001b[39mUsers\u001b[39m\u001b[39m\\\u001b[39m\u001b[39mhp\u001b[39m\u001b[39m\\\u001b[39m\u001b[39mDesktop\u001b[39m\u001b[39m\\\u001b[39m\u001b[39mM2\u001b[39m\u001b[39m\\\u001b[39m\u001b[39mPFE\u001b[39m\u001b[39m\\\u001b[39m\u001b[39mCode\u001b[39m\u001b[39m\\\u001b[39m\u001b[39mcode pfe\u001b[39m\u001b[39m\\\u001b[39m\u001b[39mCoud source\u001b[39m\u001b[39m\\\u001b[39m\u001b[39mCode\u001b[39m\u001b[39m\\\u001b[39m\u001b[39mdata\u001b[39m\u001b[39m\\\u001b[39m\u001b[39mWell-15_04-10-2021.xlsx\u001b[39m\u001b[39m'\u001b[39m)\n\u001b[0;32m      2\u001b[0m df\u001b[39m.\u001b[39mshape\n",
      "\u001b[1;31mNameError\u001b[0m: name 'pd' is not defined"
     ]
    }
   ],
   "source": [
    "df=pd.read_excel(r'C:\\Users\\hp\\Desktop\\M2\\PFE\\Code\\code pfe\\Coud source\\Code\\data\\Well-15_04-10-2021.xlsx')\n",
    "df.shape"
   ]
  },
  {
   "cell_type": "code",
   "execution_count": 6,
   "metadata": {},
   "outputs": [
    {
     "data": {
      "text/plain": [
       "Index(['index', 'CHKP (kPa)', 'SPM1 (1/s)', 'SKNO', 'SPM2 (1/s)', 'SPM3 (1/s)',\n",
       "       'SQID', 'TVA (m3)', 'DATE', 'TIME', 'MFOP ((m3/s)/(m3/s))', 'ACTC',\n",
       "       'MFOA (m3/s)', 'DBTM (m)', 'DBTV (m)', 'MFIA (m3/s)', 'DMEA (m)',\n",
       "       'MDIA (kg/m3)', 'DVER (m)', 'MTOA (degC)', 'BPOS (m)', 'MTIA (degC)',\n",
       "       'ROPA (m/h)', 'MCOA (S/m)', 'HKLA (N)', 'MCIA (S/m)', 'HKLX (N)',\n",
       "       'STKC', 'WOBA (N)', 'WOBX (N)', 'DRTM (m)', 'TQA (N.m)', 'TQX (N.m)',\n",
       "       'GASA (mol/mol)', 'RPMA (rad/s)', 'SPPA (kPa)', 'RIG_STATE',\n",
       "       'MDOA (kg/m3)', 'ROPI (m/s)', 'Unnamed: 39', 'STATUS', 'Unnamed: 41'],\n",
       "      dtype='object')"
      ]
     },
     "execution_count": 6,
     "metadata": {},
     "output_type": "execute_result"
    }
   ],
   "source": [
    "df.columns"
   ]
  },
  {
   "attachments": {},
   "cell_type": "markdown",
   "metadata": {},
   "source": [
    " X represent the featurs and y represent the class"
   ]
  },
  {
   "cell_type": "code",
   "execution_count": 6,
   "metadata": {},
   "outputs": [],
   "source": [
    "X=df[['TVA (m3)', 'SPPA (kPa)', 'MFOP ((m3/s)/(m3/s))',\n",
    "       'GASA (mol/mol)']]\n",
    "y=df ['STATUS']\n"
   ]
  },
  {
   "cell_type": "code",
   "execution_count": null,
   "metadata": {},
   "outputs": [],
   "source": [
    "len(df[df['STATUS']==1])"
   ]
  },
  {
   "attachments": {},
   "cell_type": "markdown",
   "metadata": {},
   "source": [
    "Split the Data: Split the data into training and testing sets:"
   ]
  },
  {
   "cell_type": "code",
   "execution_count": null,
   "metadata": {},
   "outputs": [],
   "source": [
    "X_train, X_test, y_train, y_test = train_test_split(X, y, test_size=0.3, random_state=42)\n"
   ]
  },
  {
   "cell_type": "code",
   "execution_count": null,
   "metadata": {},
   "outputs": [],
   "source": [
    "print(sum(y_test))\n",
    "print(sum(y_train))"
   ]
  },
  {
   "attachments": {},
   "cell_type": "markdown",
   "metadata": {},
   "source": [
    "Scale Features: If required, scale the features using a standard scaler:"
   ]
  },
  {
   "cell_type": "code",
   "execution_count": null,
   "metadata": {},
   "outputs": [],
   "source": [
    "scaler = StandardScaler()\n",
    "X_train = scaler.fit_transform(X_train)\n",
    "X_test = scaler.transform(X_test)\n"
   ]
  },
  {
   "attachments": {},
   "cell_type": "markdown",
   "metadata": {},
   "source": [
    "Train the Model: Create an instance of the kNN classifier and fit it to the training data"
   ]
  },
  {
   "cell_type": "code",
   "execution_count": null,
   "metadata": {},
   "outputs": [],
   "source": [
    "k = 15# Number of nearest neighbors to consider\n",
    "knn = KNeighborsClassifier(n_neighbors=k)\n",
    "knn.fit(X_train, y_train)\n"
   ]
  },
  {
   "attachments": {},
   "cell_type": "markdown",
   "metadata": {},
   "source": [
    "Make Predictions: Use the trained model to make predictions on the testing data:"
   ]
  },
  {
   "cell_type": "code",
   "execution_count": null,
   "metadata": {},
   "outputs": [],
   "source": [
    "y_pred = knn.predict(X_test)\n"
   ]
  },
  {
   "attachments": {},
   "cell_type": "markdown",
   "metadata": {},
   "source": [
    "Evaluate the Model: Assess the performance of the model using evaluation metrics such as accuracy, precision, recall, or F1 score:"
   ]
  },
  {
   "cell_type": "code",
   "execution_count": null,
   "metadata": {},
   "outputs": [],
   "source": [
    "from sklearn.metrics import accuracy_score, precision_score, recall_score, f1_score,confusion_matrix\n",
    "\n",
    "accuracy = accuracy_score(y_test, y_pred)\n",
    "precision = precision_score(y_test, y_pred)\n",
    "recall = recall_score(y_test, y_pred)\n",
    "f1 = f1_score(y_test, y_pred)\n",
    "print('accuracy: {} , precision: {}, recall: {} , f1_score: {}'.format(accuracy,precision,recall,f1))\n",
    "cm=confusion_matrix(y_test,y_pred)\n",
    "print(cm)"
   ]
  },
  {
   "cell_type": "code",
   "execution_count": 170,
   "metadata": {},
   "outputs": [],
   "source": [
    "acc,prec,rec,fs,kv=[],[],[],[],[]\n",
    "for i in range(3,30):\n",
    "    \n",
    "    knn = KNeighborsClassifier(n_neighbors=i)\n",
    "    knn.fit(X_train, y_train)\n",
    "    y_pred = knn.predict(X_test)\n",
    "    accuracy = accuracy_score(y_test, y_pred)\n",
    "    precision = precision_score(y_test, y_pred)\n",
    "    recall = recall_score(y_test, y_pred)\n",
    "    f1 = f1_score(y_test, y_pred)\n",
    "    \n",
    "    kv.append(i)\n",
    "    acc.append(accuracy)\n",
    "    prec.append(precision)\n",
    "    rec.append(recall)\n",
    "    fs.append(f1)"
   ]
  },
  {
   "cell_type": "code",
   "execution_count": null,
   "metadata": {},
   "outputs": [],
   "source": [
    "l={'accuracy':acc,'precision':prec,'recall':rec,'f1_score':fs,'value of k':kv}\n",
    "l=pd.DataFrame(l)\n",
    "l"
   ]
  },
  {
   "cell_type": "code",
   "execution_count": null,
   "metadata": {},
   "outputs": [],
   "source": [
    "x1=l[['accuracy', 'precision', 'recall', 'f1_score' ]]"
   ]
  },
  {
   "cell_type": "code",
   "execution_count": 135,
   "metadata": {},
   "outputs": [
    {
     "data": {
      "image/png": "[encoded data removed]",
      "text/plain": [
       "<Figure size 640x480 with 1 Axes>"
      ]
     },
     "metadata": {},
     "output_type": "display_data"
    }
   ],
   "source": [
    "plt.plot(kv,acc,label='accuracy')\n",
    "plt.plot(kv,fs,label='f1_score')\n",
    "plt.plot(kv,rec,label='recall')\n",
    "plt.plot(kv,prec,label='precision')\n",
    "plt.xlabel('metrics')\n",
    "plt.ylabel('value of k ')\n",
    "plt.legend()\n",
    "\n",
    "# Show the plot\n",
    "plt.show()"
   ]
  },
  {
   "cell_type": "code",
   "execution_count": null,
   "metadata": {},
   "outputs": [],
   "source": [
    "len(fs)"
   ]
  },
  {
   "cell_type": "code",
   "execution_count": 136,
   "metadata": {},
   "outputs": [
    {
     "name": "stdout",
     "output_type": "stream",
     "text": [
      "Cross-Validation Scores: [0.99284712 0.99324821 0.99278027 0.99344876 0.99298034]\n",
      "Test Accuracy: 0.9942777688646451\n"
     ]
    }
   ],
   "source": [
    "\n",
    "from sklearn.model_selection import train_test_split, cross_val_score\n",
    "from sklearn.neighbors import KNeighborsClassifier\n",
    "\n",
    "# Split data into training and testing sets\n",
    "X_train, X_test, y_train, y_test = train_test_split(X, y, test_size=0.2, random_state=42)\n",
    "\n",
    "# Create a kNN classifier\n",
    "knn = KNeighborsClassifier(n_neighbors=5)\n",
    "\n",
    "# Perform cross-validation on the training set\n",
    "scores = cross_val_score(knn, X_train, y_train, cv=5)\n",
    "\n",
    "# Print the cross-validation scores\n",
    "print(\"Cross-Validation Scores:\", scores)\n",
    "\n",
    "# Fit the model on the entire training set\n",
    "knn.fit(X_train, y_train)\n",
    "\n",
    "# Evaluate the model on the test set\n",
    "accuracy = knn.score(X_test, y_test)\n",
    "print(\"Test Accuracy:\", accuracy)\n"
   ]
  },
  {
   "cell_type": "code",
   "execution_count": 2,
   "metadata": {},
   "outputs": [
    {
     "data": {
      "text/plain": [
       "(93493, 19)"
      ]
     },
     "execution_count": 2,
     "metadata": {},
     "output_type": "execute_result"
    }
   ],
   "source": [
    "df=pd.read_excel(r'C:\\Users\\hp\\Desktop\\M2\\PFE\\Code\\code pfe\\Coud source\\Code\\dataset\\all.xlsx')\n",
    "df.shape"
   ]
  },
  {
   "cell_type": "code",
   "execution_count": 172,
   "metadata": {},
   "outputs": [
    {
     "data": {
      "text/plain": [
       "Index(['Unnamed: 0', 'index', 'TVA (m3)', 'SPPA (kPa)', 'MFOA (m3/s)',\n",
       "       'MFOP ((m3/s)/(m3/s))', 'GASA (mol/mol)', 'STATUS', 'Unnamed: 40', 'id',\n",
       "       'Unnamed: 39', 'Unnamed: 43', 'Unnamed: 45', 'Unnamed: 41',\n",
       "       'variation_TVA (m3)', 'variation_SPPA (kPa)',\n",
       "       'variation_MFOP ((m3/s)/(m3/s))', 'variation_MFOA (m3/s)',\n",
       "       'variation_GASA (mol/mol)'],\n",
       "      dtype='object')"
      ]
     },
     "execution_count": 172,
     "metadata": {},
     "output_type": "execute_result"
    }
   ],
   "source": [
    "df.columns"
   ]
  },
  {
   "cell_type": "code",
   "execution_count": 12,
   "metadata": {},
   "outputs": [],
   "source": [
    "import pandas as pd\n",
    "import numpy as np\n",
    "from sklearn.preprocessing import MinMaxScaler\n",
    "from sklearn.neighbors import KNeighborsClassifier\n",
    "from sklearn.model_selection import TimeSeriesSplit\n",
    "from sklearn.metrics import accuracy_score, precision_score, recall_score, f1_score\n",
    "\n",
    "# Step 1: Preprocessing and feature extraction\n",
    "\n",
    "# Assuming you have a DataFrame 'df' containing your dataset, where:\n",
    "# - The column 'id' contains the time\n",
    "# - Columns 'mfop', 'sppa', 'TVA', 'gasa' contain the features\n",
    "# - The column 'Status' contains the class labels (0 or 1)\n",
    "# Modify the code accordingly if your data is in a different format.\n",
    "\n",
    "# Extract features and class labels\n",
    "X = df[['TVA (m3)', 'SPPA (kPa)',\n",
    "       'MFOP ((m3/s)/(m3/s))', 'GASA (mol/mol)']].values\n",
    "y = df['STATUS'].values\n",
    "\n",
    "# Step 2: Normalizing the features\n",
    "scaler = MinMaxScaler()\n",
    "X_normalized = scaler.fit_transform(X)\n",
    "\n",
    "# Step 3: Preparing time windows for prediction\n",
    "window_size = 36  # 3 minutes (3 minutes * 60 seconds / 5 seconds per data point)\n",
    "\n",
    "X_windows = []\n",
    "y_windows = []\n",
    "window_ids = []\n",
    "for i in range(len(X_normalized) - window_size):\n",
    "    X_windows.append(X_normalized[i:i+window_size])\n",
    "    y_windows.append(y[i+window_size])\n",
    "    window_ids.append(i)\n",
    "X_windows = np.array(X_windows)\n",
    "y_windows = np.array(y_windows)\n",
    "\n",
    "\n",
    "# Reshape the windowed data to a two-dimensional format\n",
    "X_windows_2d = X_windows.reshape(X_windows.shape[0], -1)\n"
   ]
  },
  {
   "cell_type": "code",
   "execution_count": 13,
   "metadata": {},
   "outputs": [],
   "source": [
    "# Step 4: Add time or sequence identifier column\n",
    "X_windows_with_id = pd.DataFrame(X_windows_2d)\n",
    "X_windows_with_id['window_id'] = window_ids\n",
    "\n",
    "# Step 5: Time series feature extraction with tsfresh"
   ]
  },
  {
   "cell_type": "code",
   "execution_count": 14,
   "metadata": {},
   "outputs": [
    {
     "name": "stderr",
     "output_type": "stream",
     "text": [
      "Feature Extraction:   0%|          | 0/10 [00:00<?, ?it/s]"
     ]
    }
   ],
   "source": [
    "from tsfresh import extract_features\n",
    "X_features = extract_features(X_windows_with_id, column_id='window_id')\n"
   ]
  },
  {
   "cell_type": "code",
   "execution_count": 182,
   "metadata": {},
   "outputs": [
    {
     "data": {
      "text/plain": [
       "(93457,)"
      ]
     },
     "execution_count": 182,
     "metadata": {},
     "output_type": "execute_result"
    }
   ],
   "source": []
  },
  {
   "cell_type": "code",
   "execution_count": null,
   "metadata": {},
   "outputs": [],
   "source": [
    "# Step 4: Time series cross-validation\n",
    "tscv = TimeSeriesSplit(n_splits=93454)  # Define the number of splits\n",
    "\n",
    "accuracy_scores = []\n",
    "precision_scores = []\n",
    "recall_scores = []\n",
    "f1_scores = []\n",
    "\n",
    "for train_index, test_index in tscv.split(X_windows):\n",
    "    X_train, X_test = X_windows_2d[train_index], X_windows_2d[test_index]\n",
    "    y_train, y_test = y_windows[train_index], y_windows[test_index]\n",
    "\n",
    "    # Step 5: Training\n",
    "    k = 3  # Number of neighbors to consider\n",
    "    knn = KNeighborsClassifier(n_neighbors=k)\n",
    "    knn.fit(X_train, y_train)\n",
    "\n",
    "    # Step 6: Classification\n",
    "    y_pred = knn.predict(X_test)\n",
    "\n",
    "    # Step 7: Evaluation\n",
    "    accuracy = accuracy_score(y_test, y_pred)\n",
    "    precision = precision_score(y_test, y_pred)\n",
    "    recall = recall_score(y_test, y_pred)\n",
    "    f1 = f1_score(y_test, y_pred)\n",
    "\n",
    "    accuracy_scores.append(accuracy)\n",
    "    precision_scores.append(precision)\n",
    "    recall_scores.append(recall)\n",
    "    f1_scores.append(f1)\n",
    "\n",
    "# Step 8: Average performance across all cross-validation folds\n",
    "average_accuracy = np.mean(accuracy_scores)\n",
    "average_precision = np.mean(precision_scores)\n",
    "average_recall = np.mean(recall_scores)\n",
    "average_f1 = np.mean(f1_scores)\n",
    "\n",
    "print(\"Average Accuracy:\", average_accuracy)\n",
    "print(\"Average Precision:\", average_precision)\n",
    "print(\"Average Recall:\", average_recall)\n",
    "print(\"Average F1-Score:\", average_f1)\n",
    "\n",
    "# Step 9: Hyperparameter tuning\n",
    "# You can experiment with different values of k and evaluate their impact on performance.\n"
   ]
  },
  {
   "cell_type": "code",
   "execution_count": 191,
   "metadata": {},
   "outputs": [
    {
     "name": "stdout",
     "output_type": "stream",
     "text": [
      "Average Accuracy: 0.934557438794727\n",
      "Average Precision: 0.0\n",
      "Average Recall: 0.0\n",
      "Average F1-Score: 0.0\n"
     ]
    }
   ],
   "source": [
    "average_accuracy = np.min(accuracy_scores)\n",
    "average_precision = np.min(precision_scores)\n",
    "average_recall = np.min(recall_scores)\n",
    "average_f1 = np.min(f1_scores)\n",
    "\n",
    "print(\"Average Accuracy:\", average_accuracy)\n",
    "print(\"Average Precision:\", average_precision)\n",
    "print(\"Average Recall:\", average_recall)\n",
    "print(\"Average F1-Score:\", average_f1)"
   ]
  },
  {
   "cell_type": "code",
   "execution_count": 94,
   "metadata": {},
   "outputs": [
    {
     "data": {
      "text/plain": [
       "(17280, 42)"
      ]
     },
     "execution_count": 94,
     "metadata": {},
     "output_type": "execute_result"
    }
   ],
   "source": [
    "df=pd.read_excel(r'C:\\Users\\hp\\Desktop\\M2\\PFE\\Code\\code pfe\\dataset\\Well-6_01-07-2022.xlsx')\n",
    "df.shape"
   ]
  },
  {
   "cell_type": "code",
   "execution_count": 95,
   "metadata": {},
   "outputs": [
    {
     "data": {
      "text/plain": [
       "Index(['index', 'CHKP (kPa)', 'SPM1 (1/s)', 'SKNO', 'SPM2 (1/s)', 'SPM3 (1/s)',\n",
       "       'SQID', 'TVA (m3)', 'DATE', 'TIME', 'MFOP ((m3/s)/(m3/s))', 'ACTC',\n",
       "       'MFOA (m3/s)', 'DBTM (m)', 'DBTV (m)', 'MFIA (m3/s)', 'DMEA (m)',\n",
       "       'MDIA (kg/m3)', 'DVER (m)', 'MTOA (degC)', 'BPOS (m)', 'MTIA (degC)',\n",
       "       'ROPA (m/h)', 'MCOA (S/m)', 'HKLA (N)', 'MCIA (S/m)', 'HKLX (N)',\n",
       "       'STKC', 'WOBA (N)', 'WOBX (N)', 'DRTM (m)', 'TQA (N.m)', 'TQX (N.m)',\n",
       "       'GASA (mol/mol)', 'RPMA (rad/s)', 'SPPA (kPa)', 'RIG_STATE',\n",
       "       'MDOA (kg/m3)', 'ROPI (m/s)', 'Unnamed: 39', 'STATUS', 'Unnamed: 41'],\n",
       "      dtype='object')"
      ]
     },
     "execution_count": 95,
     "metadata": {},
     "output_type": "execute_result"
    }
   ],
   "source": [
    "df.columns"
   ]
  },
  {
   "cell_type": "code",
   "execution_count": 103,
   "metadata": {},
   "outputs": [],
   "source": [
    "cols=[ 'CHKP (kPa)', 'SPM1 (1/s)', 'SKNO', 'SPM2 (1/s)', 'SPM3 (1/s)',\n",
    "       'SQID', 'TVA (m3)',  'MFOP ((m3/s)/(m3/s))', 'ACTC',\n",
    "       'MFOA (m3/s)', 'DBTM (m)', 'DBTV (m)', 'MFIA (m3/s)', 'DMEA (m)',\n",
    "       'MDIA (kg/m3)', 'DVER (m)', 'MTOA (degC)', 'BPOS (m)', 'MTIA (degC)',\n",
    "       'ROPA (m/h)', 'MCOA (S/m)', 'HKLA (N)', 'MCIA (S/m)', 'HKLX (N)',\n",
    "       'STKC', 'WOBA (N)', 'WOBX (N)', 'DRTM (m)', 'TQA (N.m)', 'TQX (N.m)',\n",
    "       'GASA (mol/mol)', 'RPMA (rad/s)', 'SPPA (kPa)', 'RIG_STATE']"
   ]
  },
  {
   "cell_type": "code",
   "execution_count": 47,
   "metadata": {},
   "outputs": [],
   "source": [
    "import numpy as np\n",
    "import pandas as pd\n",
    "from sklearn.neighbors import KNeighborsRegressor\n",
    "from sklearn.model_selection import cross_val_score, KFold\n",
    "from sklearn.preprocessing import StandardScaler\n",
    "\n",
    "\n",
    "\n",
    "# Select the features and target variable\n",
    "\n",
    "\n",
    "# Preprocess the data\n",
    "scaler = StandardScaler()\n",
    "X_scaled = scaler.fit_transform(X)\n",
    "\n",
    "# Transform the time series into a supervised learning problem\n",
    "def create_lagged_features(X, y, n_lags, steps_ahead):\n",
    "    X_lagged, y_lagged = [], []\n",
    "    for i in range(n_lags, len(X) - steps_ahead):\n",
    "        X_lagged.append(X[i - n_lags:i])\n",
    "        y_lagged.append(y[i + steps_ahead])\n",
    "    return np.array(X_lagged), np.array(y_lagged)\n",
    "\n",
    "n_lags = 36\n",
    "steps_ahead = 1\n",
    "X_lagged, y_lagged = create_lagged_features(X_scaled, y, n_lags, steps_ahead)\n",
    "\n",
    "# Train the kNN model using 10-fold cross-validation\n"
   ]
  },
  {
   "cell_type": "code",
   "execution_count": 48,
   "metadata": {},
   "outputs": [
    {
     "data": {
      "text/plain": [
       "(6361,)"
      ]
     },
     "execution_count": 48,
     "metadata": {},
     "output_type": "execute_result"
    }
   ],
   "source": [
    "y_lagged.shape"
   ]
  },
  {
   "cell_type": "code",
   "execution_count": 49,
   "metadata": {},
   "outputs": [],
   "source": [
    "X_lagged_2d = X_lagged.reshape(X_lagged.shape[0], -1)\n",
    "y_lagged_2d=y_lagged.reshape(y_lagged.shape[0], -1)"
   ]
  },
  {
   "cell_type": "code",
   "execution_count": 50,
   "metadata": {},
   "outputs": [
    {
     "data": {
      "text/plain": [
       "(6361, 144)"
      ]
     },
     "execution_count": 50,
     "metadata": {},
     "output_type": "execute_result"
    }
   ],
   "source": [
    "X_lagged_2d.shape"
   ]
  },
  {
   "cell_type": "code",
   "execution_count": 15,
   "metadata": {},
   "outputs": [
    {
     "name": "stdout",
     "output_type": "stream",
     "text": [
      "Mean Absolute Error (10-fold cross-validation): 0.0036916509891357025\n",
      "Mean Squared Error (10-fold cross-validation): 0.0021216815014981393\n"
     ]
    }
   ],
   "source": [
    "k = 5\n",
    "knn = KNeighborsRegressor(n_neighbors=k)\n",
    "\n"
   ]
  },
  {
   "cell_type": "code",
   "execution_count": 68,
   "metadata": {},
   "outputs": [],
   "source": [
    "window_size =3  # Number of time steps to consider (5 seconds * 36 = 3 minutes)\n",
    "target_horizon =1# Number of time steps ahead to predict (5 seconds * 6 = 30 seconds)\n",
    "L=[1,2,3,4,5,6,7,8,9,10,11,12,13,14]\n",
    "Ly=[1,2,3,4,5,6,7,8,9,10,11,12,13,14]\n",
    "# Generate input sequences and corresponding targets\n",
    "X_sequences = []\n",
    "y_targets = []\n",
    "for i in range(len(L) - window_size - target_horizon + 1):\n",
    "    X_sequences.append(L[i:i+window_size])\n",
    "    y_targets.append(Ly[i:window_size+target_horizon-1])"
   ]
  },
  {
   "cell_type": "code",
   "execution_count": 69,
   "metadata": {},
   "outputs": [
    {
     "name": "stdout",
     "output_type": "stream",
     "text": [
      "[[1, 2, 3], [2, 3, 4], [3, 4, 5], [4, 5, 6], [5, 6, 7], [6, 7, 8], [7, 8, 9], [8, 9, 10], [9, 10, 11], [10, 11, 12], [11, 12, 13]]\n",
      "[[1, 2, 3], [2, 3], [3], [], [], [], [], [], [], [], []]\n"
     ]
    }
   ],
   "source": [
    "print(X_sequences)\n",
    "print(y_targets)"
   ]
  },
  {
   "cell_type": "code",
   "execution_count": 53,
   "metadata": {},
   "outputs": [
    {
     "name": "stdout",
     "output_type": "stream",
     "text": [
      "Train_data_dimensions:(3922, 45, 4),(3922, 1)\n",
      "Test_data_dimensions:(2432, 45, 4),(2432, 1)\n"
     ]
    }
   ],
   "source": [
    "from sklearn.model_selection import train_test_split\n",
    "train_features , test_features , train_labels , test_labels = train_test_split(X, y, test_size= 0.38, shuffle=False)\n",
    "T = 45 # my choice of the rolling window\n",
    "prepend_features = train_features.iloc[-(T- 1 ):]\n",
    "test_features = pd.concat([prepend_features , test_features ], axis=0)\n",
    "X_train , y_train = [], []\n",
    "for i in range(train_labels.shape[ 0 ] - (T- 1 )):\n",
    "    X_train.append(train_features.iloc[i:i+T].values)\n",
    "    y_train.append(train_labels.iloc[i + (T- 1 )])\n",
    "X_train , y_train = np.array(X_train), np.array(y_train).reshape(- 1 ,1 )\n",
    "print(f'Train_data_dimensions:{X_train.shape},{y_train.shape}')\n",
    "X_test , y_test = [], []\n",
    "for i in range(test_labels.shape[ 0 ]):\n",
    "    X_test.append(test_features.iloc[i:i+T].values)\n",
    "    y_test.append(test_labels.iloc[i])\n",
    "X_test , y_test = np.array(X_test), np.array(y_test).reshape(- 1 , 1 )\n",
    "print(f'Test_data_dimensions:{X_test.shape},{y_test.shape}')\n",
    "\n"
   ]
  },
  {
   "cell_type": "code",
   "execution_count": 58,
   "metadata": {},
   "outputs": [
    {
     "name": "stdout",
     "output_type": "stream",
     "text": [
      "y_test: 0: 3836\n",
      "y_test: 1: 86\n"
     ]
    }
   ],
   "source": [
    "unique_elements, counts = np.unique(y_train, return_counts=True)\n",
    "    # Print the frequencies\n",
    "for element, count in zip(unique_elements, counts):\n",
    "        print(f\"y_test: {element}: {count}\")\n",
    "\n"
   ]
  },
  {
   "cell_type": "code",
   "execution_count": 71,
   "metadata": {},
   "outputs": [
    {
     "data": {
      "text/plain": [
       "Index(['index', 'TVA (m3)', 'SPPA (kPa)', 'MFOP ((m3/s)/(m3/s))',\n",
       "       'GASA (mol/mol)', 'STATUS', 'variation_TVA (m3)',\n",
       "       'variation_SPPA (kPa)', 'variation_MFOP ((m3/s)/(m3/s))',\n",
       "       'variation_GASA (mol/mol)'],\n",
       "      dtype='object')"
      ]
     },
     "execution_count": 71,
     "metadata": {},
     "output_type": "execute_result"
    }
   ],
   "source": [
    "df.columns"
   ]
  },
  {
   "cell_type": "code",
   "execution_count": 75,
   "metadata": {},
   "outputs": [
    {
     "data": {
      "text/html": [
       "<div>\n",
       "<style scoped>\n",
       "    .dataframe tbody tr th:only-of-type {\n",
       "        vertical-align: middle;\n",
       "    }\n",
       "\n",
       "    .dataframe tbody tr th {\n",
       "        vertical-align: top;\n",
       "    }\n",
       "\n",
       "    .dataframe thead th {\n",
       "        text-align: right;\n",
       "    }\n",
       "</style>\n",
       "<table border=\"1\" class=\"dataframe\">\n",
       "  <thead>\n",
       "    <tr style=\"text-align: right;\">\n",
       "      <th></th>\n",
       "      <th>index</th>\n",
       "      <th>TVA (m3)</th>\n",
       "      <th>SPPA (kPa)</th>\n",
       "      <th>MFOP ((m3/s)/(m3/s))</th>\n",
       "      <th>GASA (mol/mol)</th>\n",
       "      <th>STATUS</th>\n",
       "      <th>variation_TVA (m3)</th>\n",
       "      <th>variation_SPPA (kPa)</th>\n",
       "      <th>variation_MFOP ((m3/s)/(m3/s))</th>\n",
       "      <th>variation_GASA (mol/mol)</th>\n",
       "      <th>...</th>\n",
       "      <th>TVA (m3)_lag_3</th>\n",
       "      <th>SPPA (kPa)_lag_1</th>\n",
       "      <th>SPPA (kPa)_lag_2</th>\n",
       "      <th>SPPA (kPa)_lag_3</th>\n",
       "      <th>MFOP ((m3/s)/(m3/s))_lag_1</th>\n",
       "      <th>MFOP ((m3/s)/(m3/s))_lag_2</th>\n",
       "      <th>MFOP ((m3/s)/(m3/s))_lag_3</th>\n",
       "      <th>GASA (mol/mol)_lag_1</th>\n",
       "      <th>GASA (mol/mol)_lag_2</th>\n",
       "      <th>GASA (mol/mol)_lag_3</th>\n",
       "    </tr>\n",
       "  </thead>\n",
       "  <tbody>\n",
       "    <tr>\n",
       "      <th>3</th>\n",
       "      <td>05/30/2022, 00:00:54</td>\n",
       "      <td>73.864250</td>\n",
       "      <td>3212.3943</td>\n",
       "      <td>0.127418</td>\n",
       "      <td>0.000606</td>\n",
       "      <td>0</td>\n",
       "      <td>0.030525</td>\n",
       "      <td>-0.8507</td>\n",
       "      <td>-0.000129</td>\n",
       "      <td>0.000004</td>\n",
       "      <td>...</td>\n",
       "      <td>73.948906</td>\n",
       "      <td>3213.2450</td>\n",
       "      <td>3213.7318</td>\n",
       "      <td>3214.2181</td>\n",
       "      <td>0.127548</td>\n",
       "      <td>0.127971</td>\n",
       "      <td>0.128834</td>\n",
       "      <td>0.000602</td>\n",
       "      <td>0.000602</td>\n",
       "      <td>0.000616</td>\n",
       "    </tr>\n",
       "    <tr>\n",
       "      <th>4</th>\n",
       "      <td>05/30/2022, 00:01:08</td>\n",
       "      <td>73.909523</td>\n",
       "      <td>3211.9083</td>\n",
       "      <td>0.129567</td>\n",
       "      <td>0.000606</td>\n",
       "      <td>0</td>\n",
       "      <td>0.045273</td>\n",
       "      <td>-0.4860</td>\n",
       "      <td>0.002149</td>\n",
       "      <td>0.000000</td>\n",
       "      <td>...</td>\n",
       "      <td>73.905380</td>\n",
       "      <td>3212.3943</td>\n",
       "      <td>3213.2450</td>\n",
       "      <td>3213.7318</td>\n",
       "      <td>0.127418</td>\n",
       "      <td>0.127548</td>\n",
       "      <td>0.127971</td>\n",
       "      <td>0.000606</td>\n",
       "      <td>0.000602</td>\n",
       "      <td>0.000602</td>\n",
       "    </tr>\n",
       "    <tr>\n",
       "      <th>5</th>\n",
       "      <td>05/30/2022, 00:01:21</td>\n",
       "      <td>73.942894</td>\n",
       "      <td>3212.0296</td>\n",
       "      <td>0.131250</td>\n",
       "      <td>0.000616</td>\n",
       "      <td>0</td>\n",
       "      <td>0.033371</td>\n",
       "      <td>0.1213</td>\n",
       "      <td>0.001683</td>\n",
       "      <td>0.000010</td>\n",
       "      <td>...</td>\n",
       "      <td>73.833725</td>\n",
       "      <td>3211.9083</td>\n",
       "      <td>3212.3943</td>\n",
       "      <td>3213.2450</td>\n",
       "      <td>0.129567</td>\n",
       "      <td>0.127418</td>\n",
       "      <td>0.127548</td>\n",
       "      <td>0.000606</td>\n",
       "      <td>0.000606</td>\n",
       "      <td>0.000602</td>\n",
       "    </tr>\n",
       "    <tr>\n",
       "      <th>6</th>\n",
       "      <td>05/30/2022, 00:01:35</td>\n",
       "      <td>73.953064</td>\n",
       "      <td>3208.6258</td>\n",
       "      <td>0.129688</td>\n",
       "      <td>0.000602</td>\n",
       "      <td>0</td>\n",
       "      <td>0.010170</td>\n",
       "      <td>-3.4038</td>\n",
       "      <td>-0.001562</td>\n",
       "      <td>-0.000014</td>\n",
       "      <td>...</td>\n",
       "      <td>73.864250</td>\n",
       "      <td>3212.0296</td>\n",
       "      <td>3211.9083</td>\n",
       "      <td>3212.3943</td>\n",
       "      <td>0.131250</td>\n",
       "      <td>0.129567</td>\n",
       "      <td>0.127418</td>\n",
       "      <td>0.000616</td>\n",
       "      <td>0.000606</td>\n",
       "      <td>0.000606</td>\n",
       "    </tr>\n",
       "    <tr>\n",
       "      <th>7</th>\n",
       "      <td>05/30/2022, 00:01:48</td>\n",
       "      <td>73.965912</td>\n",
       "      <td>3209.3552</td>\n",
       "      <td>0.130111</td>\n",
       "      <td>0.000606</td>\n",
       "      <td>0</td>\n",
       "      <td>0.012848</td>\n",
       "      <td>0.7294</td>\n",
       "      <td>0.000423</td>\n",
       "      <td>0.000004</td>\n",
       "      <td>...</td>\n",
       "      <td>73.909523</td>\n",
       "      <td>3208.6258</td>\n",
       "      <td>3212.0296</td>\n",
       "      <td>3211.9083</td>\n",
       "      <td>0.129688</td>\n",
       "      <td>0.131250</td>\n",
       "      <td>0.129567</td>\n",
       "      <td>0.000602</td>\n",
       "      <td>0.000616</td>\n",
       "      <td>0.000606</td>\n",
       "    </tr>\n",
       "  </tbody>\n",
       "</table>\n",
       "<p>5 rows × 22 columns</p>\n",
       "</div>"
      ],
      "text/plain": [
       "                  index   TVA (m3)  SPPA (kPa)  MFOP ((m3/s)/(m3/s))  \\\n",
       "3  05/30/2022, 00:00:54  73.864250   3212.3943              0.127418   \n",
       "4  05/30/2022, 00:01:08  73.909523   3211.9083              0.129567   \n",
       "5  05/30/2022, 00:01:21  73.942894   3212.0296              0.131250   \n",
       "6  05/30/2022, 00:01:35  73.953064   3208.6258              0.129688   \n",
       "7  05/30/2022, 00:01:48  73.965912   3209.3552              0.130111   \n",
       "\n",
       "   GASA (mol/mol)  STATUS  variation_TVA (m3)  variation_SPPA (kPa)  \\\n",
       "3        0.000606       0            0.030525               -0.8507   \n",
       "4        0.000606       0            0.045273               -0.4860   \n",
       "5        0.000616       0            0.033371                0.1213   \n",
       "6        0.000602       0            0.010170               -3.4038   \n",
       "7        0.000606       0            0.012848                0.7294   \n",
       "\n",
       "   variation_MFOP ((m3/s)/(m3/s))  variation_GASA (mol/mol)  ...  \\\n",
       "3                       -0.000129                  0.000004  ...   \n",
       "4                        0.002149                  0.000000  ...   \n",
       "5                        0.001683                  0.000010  ...   \n",
       "6                       -0.001562                 -0.000014  ...   \n",
       "7                        0.000423                  0.000004  ...   \n",
       "\n",
       "   TVA (m3)_lag_3  SPPA (kPa)_lag_1  SPPA (kPa)_lag_2  SPPA (kPa)_lag_3  \\\n",
       "3       73.948906         3213.2450         3213.7318         3214.2181   \n",
       "4       73.905380         3212.3943         3213.2450         3213.7318   \n",
       "5       73.833725         3211.9083         3212.3943         3213.2450   \n",
       "6       73.864250         3212.0296         3211.9083         3212.3943   \n",
       "7       73.909523         3208.6258         3212.0296         3211.9083   \n",
       "\n",
       "   MFOP ((m3/s)/(m3/s))_lag_1  MFOP ((m3/s)/(m3/s))_lag_2  \\\n",
       "3                    0.127548                    0.127971   \n",
       "4                    0.127418                    0.127548   \n",
       "5                    0.129567                    0.127418   \n",
       "6                    0.131250                    0.129567   \n",
       "7                    0.129688                    0.131250   \n",
       "\n",
       "   MFOP ((m3/s)/(m3/s))_lag_3  GASA (mol/mol)_lag_1  GASA (mol/mol)_lag_2  \\\n",
       "3                    0.128834              0.000602              0.000602   \n",
       "4                    0.127971              0.000606              0.000602   \n",
       "5                    0.127548              0.000606              0.000606   \n",
       "6                    0.127418              0.000616              0.000606   \n",
       "7                    0.129567              0.000602              0.000616   \n",
       "\n",
       "   GASA (mol/mol)_lag_3  \n",
       "3              0.000616  \n",
       "4              0.000602  \n",
       "5              0.000602  \n",
       "6              0.000606  \n",
       "7              0.000606  \n",
       "\n",
       "[5 rows x 22 columns]"
      ]
     },
     "execution_count": 75,
     "metadata": {},
     "output_type": "execute_result"
    }
   ],
   "source": [
    "lag_size = 3\n",
    "\n",
    "# Create lag features for each feature variable\n",
    "for feature in ['TVA (m3)', 'SPPA (kPa)', 'MFOP ((m3/s)/(m3/s))',\n",
    "       'GASA (mol/mol)']:\n",
    "    for lag in range(1, lag_size + 1):\n",
    "        # Create a new lag feature column by shifting the values\n",
    "        df[f'{feature}_lag_{lag}'] = df[feature].shift(lag)\n",
    "\n",
    "# Drop rows with NaN values introduced by the shifting\n",
    "df.dropna(inplace=True)\n",
    "\n",
    "# The DataFrame now contains the original features along with lag features\n"
   ]
  },
  {
   "cell_type": "code",
   "execution_count": 78,
   "metadata": {},
   "outputs": [],
   "source": [
    "data_roled=pd.read_csv(r'C:\\Users\\hp\\Desktop\\M2\\PFE\\Code\\code pfe\\Test\\data Rolled .csv')"
   ]
  },
  {
   "cell_type": "code",
   "execution_count": 81,
   "metadata": {},
   "outputs": [
    {
     "data": {
      "text/plain": [
       "Index(['id', 'index', 'TVA (m3)', 'SPPA (kPa)', 'MFOA (m3/s)',\n",
       "       'MFOP ((m3/s)/(m3/s))', 'GASA (mol/mol)', 'STATUS'],\n",
       "      dtype='object')"
      ]
     },
     "execution_count": 81,
     "metadata": {},
     "output_type": "execute_result"
    }
   ],
   "source": [
    "data_roled.columns"
   ]
  },
  {
   "cell_type": "code",
   "execution_count": 84,
   "metadata": {},
   "outputs": [],
   "source": [
    "df_features=data_roled[['TVA (m3)', 'SPPA (kPa)', 'MFOA (m3/s)',\n",
    "       'MFOP ((m3/s)/(m3/s))', 'GASA (mol/mol)']]\n",
    "y=data_roled['STATUS']\n"
   ]
  },
  {
   "cell_type": "code",
   "execution_count": 85,
   "metadata": {},
   "outputs": [],
   "source": [
    "from tsfresh import select_features\n",
    "df_selected = select_features(df_features , y, fdr_level = 0.05)"
   ]
  },
  {
   "cell_type": "code",
   "execution_count": 89,
   "metadata": {},
   "outputs": [
    {
     "data": {
      "text/plain": [
       "Index(['id', 'index', 'TVA (m3)', 'SPPA (kPa)', 'MFOA (m3/s)',\n",
       "       'MFOP ((m3/s)/(m3/s))', 'GASA (mol/mol)', 'STATUS'],\n",
       "      dtype='object')"
      ]
     },
     "execution_count": 89,
     "metadata": {},
     "output_type": "execute_result"
    }
   ],
   "source": [
    "data_roled.columns"
   ]
  },
  {
   "cell_type": "code",
   "execution_count": 90,
   "metadata": {},
   "outputs": [
    {
     "data": {
      "text/plain": [
       "<Axes: >"
      ]
     },
     "execution_count": 90,
     "metadata": {},
     "output_type": "execute_result"
    },
    {
     "data": {
      "image/png": "[encoded data removed]",
      "text/plain": [
       "<Figure size 640x480 with 1 Axes>"
      ]
     },
     "metadata": {},
     "output_type": "display_data"
    }
   ],
   "source": [
    "df_selected.plot()"
   ]
  },
  {
   "cell_type": "code",
   "execution_count": 111,
   "metadata": {},
   "outputs": [
    {
     "name": "stdout",
     "output_type": "stream",
     "text": [
      "Confusion Matrix:\n",
      " [[3432    1]\n",
      " [   1   22]]\n",
      "Precision: 0.9565217391304348\n",
      "Recall: 0.9565217391304348\n",
      "F1-Score: 0.9565217391304348\n",
      "Accuracy: 0.9994212962962963\n",
      "-----------------------\n",
      "SQID 0.26843665349297\n",
      "MFOP ((m3/s)/(m3/s)) 0.013900674649584976\n",
      "DMEA (m) 0.011440682269854124\n",
      "STKC 0.24886697611727604\n",
      "GASA (mol/mol) 0.44986450054528987\n",
      "SPPA (kPa) 0.007490512925024873\n",
      "[0.44986450054528987, 0.26843665349297, 0.24886697611727604, 0.013900674649584976, 0.011440682269854124]\n"
     ]
    }
   ],
   "source": [
    "import pandas as pd\n",
    "from sklearn.tree import DecisionTreeClassifier\n",
    "from sklearn.metrics import confusion_matrix, precision_score, recall_score, f1_score, accuracy_score\n",
    "\n",
    "# Load the data\n",
    "\n",
    "# Split the data into training and test sets\n",
    "X_train, X_test, y_train, y_test = train_test_split(df[cols], df['STATUS'], test_size=0.2)\n",
    "\n",
    "# Create a DecisionTreeClassifier model\n",
    "model = DecisionTreeClassifier()\n",
    "\n",
    "# Fit the model to the training data\n",
    "model.fit(X_train, y_train)\n",
    "y_pred = model.predict(X_test)\n",
    "\n",
    "    # Compute evaluation metrics\n",
    "cm = confusion_matrix(y_test, y_pred)\n",
    "precision = precision_score(y_test, y_pred)\n",
    "recall = recall_score(y_test, y_pred)\n",
    "f1 = f1_score(y_test, y_pred)\n",
    "accuracy = accuracy_score(y_test, y_pred)\n",
    "print('Confusion Matrix:\\n', cm)\n",
    "print('Precision:', precision)\n",
    "print('Recall:', recall)\n",
    "print('F1-Score:', f1)\n",
    "print('Accuracy:',accuracy)\n",
    "print('-----------------------')\n",
    "# Get the feature importances from the model\n",
    "feature_importances = model.feature_importances_\n",
    "k=0\n",
    "for i in cols:\n",
    "    if feature_importances[k]>0:\n",
    "        print(i,feature_importances[k])\n",
    "    k+=1\n",
    "\n",
    "# Sort the feature importances in descending order\n",
    "sorted_feature_importances = sorted(feature_importances, reverse=True)\n",
    "\n",
    "# Print the top 5 feature importances\n",
    "print(sorted_feature_importances[:5])"
   ]
  },
  {
   "cell_type": "code",
   "execution_count": 130,
   "metadata": {},
   "outputs": [
    {
     "data": {
      "text/plain": [
       "array([ True,  True, False, False])"
      ]
     },
     "execution_count": 130,
     "metadata": {},
     "output_type": "execute_result"
    }
   ],
   "source": [
    "import pandas as pd\n",
    "from sklearn.feature_selection import SelectKBest\n",
    "from sklearn.feature_selection import chi2\n",
    "\n",
    "# Load the data\n",
    "X = df[['TVA (m3)', 'SPPA (kPa)', 'MFOP ((m3/s)/(m3/s))', 'GASA (mol/mol)']]\n",
    "y = df['STATUS']\n",
    "# Create the feature selector\n",
    "selector = SelectKBest(score_func=chi2, k=2)\n",
    "\n",
    "# Fit the selector to the data\n",
    "selector.fit(X,y)\n",
    "\n",
    "# Get the selected features\n",
    "selected_features = selector.get_support()\n",
    "\n",
    "# Print the selected features\n",
    "selected_features"
   ]
  },
  {
   "cell_type": "code",
   "execution_count": 131,
   "metadata": {},
   "outputs": [],
   "source": [
    "from sklearn.ensemble import RandomForestClassifier\n",
    "\n",
    "# Create the model\n",
    "model = RandomForestClassifier()\n",
    "\n",
    "# Fit the model to the data\n",
    "model.fit(X, y)\n",
    "\n",
    "# Make a prediction\n",
    "prediction = model.predict(X)"
   ]
  },
  {
   "cell_type": "code",
   "execution_count": 138,
   "metadata": {},
   "outputs": [
    {
     "name": "stdout",
     "output_type": "stream",
     "text": [
      "0.9998842592592593 0.9819819819819819\n"
     ]
    }
   ],
   "source": [
    "accuracy = accuracy_score(df['STATUS'], prediction)\n",
    "precision=precision_score(df['STATUS'], prediction)\n",
    "\n",
    "# Print the accuracy\n",
    "print(accuracy,precision)"
   ]
  },
  {
   "cell_type": "code",
   "execution_count": 136,
   "metadata": {},
   "outputs": [
    {
     "name": "stdout",
     "output_type": "stream",
     "text": [
      "y_test: 0: 17169\n",
      "y_test: 1: 111\n"
     ]
    }
   ],
   "source": [
    "\n",
    "unique_elements, counts = np.unique(prediction, return_counts=True)\n",
    "\n",
    "    # Print the frequencies\n",
    "for element, count in zip(unique_elements, counts):\n",
    "        print(f\"y_test: {element}: {count}\")"
   ]
  }
 ],
 "metadata": {
  "kernelspec": {
   "display_name": "Python 3",
   "language": "python",
   "name": "python3"
  },
  "language_info": {
   "codemirror_mode": {
    "name": "ipython",
    "version": 3
   },
   "file_extension": ".py",
   "mimetype": "text/x-python",
   "name": "python",
   "nbconvert_exporter": "python",
   "pygments_lexer": "ipython3",
   "version": "3.11.3"
  },
  "orig_nbformat": 4
 },
 "nbformat": 4,
 "nbformat_minor": 2
}
