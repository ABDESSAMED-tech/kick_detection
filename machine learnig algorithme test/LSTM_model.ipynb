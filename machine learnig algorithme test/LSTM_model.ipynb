{
  "nbformat": 4,
  "nbformat_minor": 0,
  "metadata": {
    "colab": {
      "provenance": [],
      "gpuType": "T4"
    },
    "kernelspec": {
      "name": "python3",
      "display_name": "Python 3"
    },
    "language_info": {
      "name": "python"
    },
    "accelerator": "GPU"
  },
  "cells": [
    {
      "cell_type": "code",
      "execution_count": 1,
      "metadata": {
        "id": "lw3VdqVJkBb8"
      },
      "outputs": [],
      "source": [
        "from keras.models import Sequential\n",
        "from keras.layers import Dense\n",
        "from keras.layers import LSTM\n",
        "from keras.layers import Dropout"
      ]
    },
    {
      "cell_type": "code",
      "source": [
        "def count_values(arr):\n",
        "  unique_values, counts = np.unique(arr, return_counts=True)\n",
        "\n",
        "  # Print the unique values and their frequencies\n",
        "  for value, count in zip(unique_values, counts):\n",
        "      print(f\"{value}: {count}\")"
      ],
      "metadata": {
        "id": "NkOKkNb9kIH1"
      },
      "execution_count": 2,
      "outputs": []
    },
    {
      "cell_type": "code",
      "source": [
        "def segmantation(X,y,window_length=36 ,step_size=1):\n",
        "      # Define sliding window parameters\n",
        "        # Amount of overlap between segments\n",
        "      # Segment the time series data with sliding window\n",
        "      segments = []\n",
        "      labels = []\n",
        "\n",
        "      for i in range(0, len(X) - window_length, step_size):\n",
        "          segment = X[i:i+window_length]\n",
        "          segments.append(segment)\n",
        "          \n",
        "          # Assign label to the segment based on the presence of anomalies\n",
        "          segment_labels = y[i:i+window_length]\n",
        "          if np.any(segment_labels == 1):\n",
        "              label = 1  # Anomaly present\n",
        "          else:\n",
        "              label = 0  # No anomaly\n",
        "          labels.append(label)\n",
        "\n",
        "      # Convert segments and labels to numpy arrays\n",
        "      segments = np.array(segments)\n",
        "      labels = np.array(labels)\n",
        "      return segments,labels"
      ],
      "metadata": {
        "id": "vgZ_BsnAkNKe"
      },
      "execution_count": 3,
      "outputs": []
    },
    {
      "cell_type": "code",
      "source": [
        "def split_data_balanced(X, y, test_size=0.2, random_state=None):\n",
        "    \"\"\"\n",
        "    Split data into train and test sets with balanced labels.\n",
        "\n",
        "    Parameters:\n",
        "    - X: Input features (numpy array or pandas DataFrame)\n",
        "    - y: Target labels (numpy array or pandas Series)\n",
        "    - test_size: Proportion of the data to be used for testing (default: 0.2)\n",
        "    - random_state: Random seed for reproducibility (default: None)\n",
        "\n",
        "    Returns:\n",
        "    - X_train: Training set features\n",
        "    - X_test: Testing set features\n",
        "    - y_train: Training set labels\n",
        "    - y_test: Testing set labels\n",
        "    \"\"\"\n",
        "    # Find unique labels and their counts\n",
        "    unique_labels, label_counts = np.unique(y, return_counts=True)\n",
        "\n",
        "    # Find the minimum label count\n",
        "    min_label_count = np.min(label_counts)\n",
        "\n",
        "    # Split the data for each label, ensuring balanced classes in the test set\n",
        "    X_train, X_test, y_train, y_test = [], [], [], []\n",
        "    for label in unique_labels:\n",
        "        # Split the data for the current label\n",
        "        X_label = X[y == label]\n",
        "        y_label = y[y == label]\n",
        "        X_label_train, X_label_test, y_label_train, y_label_test = train_test_split(\n",
        "            X_label, y_label, test_size=test_size, random_state=random_state\n",
        "        )\n",
        "\n",
        "        # Add the split data to the overall train and test sets\n",
        "        X_train.append(X_label_train)\n",
        "        X_test.append(X_label_test)\n",
        "        y_train.append(y_label_train)\n",
        "        y_test.append(y_label_test)\n",
        "\n",
        "    # Concatenate the data from all labels\n",
        "    X_train = np.concatenate(X_train)\n",
        "    X_test = np.concatenate(X_test)\n",
        "    y_train = np.concatenate(y_train)\n",
        "    y_test = np.concatenate(y_test)\n",
        "\n",
        "    return X_train, X_test, y_train, y_test\n"
      ],
      "metadata": {
        "id": "fbbf2K0ClFR0"
      },
      "execution_count": 4,
      "outputs": []
    },
    {
      "cell_type": "code",
      "source": [
        "from google.colab import drive\n",
        "drive.mount('/content/drive')"
      ],
      "metadata": {
        "colab": {
          "base_uri": "https://localhost:8080/"
        },
        "id": "wDf1z0jukOzO",
        "outputId": "0ed5ee82-8dbe-4581-a0b1-80ecb9ff8181"
      },
      "execution_count": 5,
      "outputs": [
        {
          "output_type": "stream",
          "name": "stdout",
          "text": [
            "Mounted at /content/drive\n"
          ]
        }
      ]
    },
    {
      "cell_type": "code",
      "source": [
        "import pandas as pd\n",
        "import matplotlib.pyplot as plt\n",
        "import numpy as np\n",
        "#6 and 8 and 17 ok \n",
        "#19***\n",
        "#15***\n",
        "#26 **\n",
        "#29**\n",
        "\n",
        "\n",
        "file_path =\"/content/drive/MyDrive/Dataset pfe/data_kick.xlsx\"\n",
        "df=pd.read_excel(file_path)"
      ],
      "metadata": {
        "id": "tYAzHDeDkeFV"
      },
      "execution_count": 137,
      "outputs": []
    },
    {
      "cell_type": "code",
      "source": [
        "df = df[~df['id'].isin(['19.xlsx','15','26.xlsx','29.xlsx','15.xlsx'])]\n"
      ],
      "metadata": {
        "id": "rnFIBcQoC_6Q"
      },
      "execution_count": 141,
      "outputs": []
    },
    {
      "cell_type": "code",
      "source": [
        "df['id'].unique()"
      ],
      "metadata": {
        "colab": {
          "base_uri": "https://localhost:8080/"
        },
        "id": "tRml8CAFDvcs",
        "outputId": "e3f46f7b-9492-48ea-e464-51b5d3980cda"
      },
      "execution_count": 142,
      "outputs": [
        {
          "output_type": "execute_result",
          "data": {
            "text/plain": [
              "array(['6.xlsx', '8.xlsx', '17.xlsx'], dtype=object)"
            ]
          },
          "metadata": {},
          "execution_count": 142
        }
      ]
    },
    {
      "cell_type": "code",
      "source": [
        "df_filtered.shape"
      ],
      "metadata": {
        "colab": {
          "base_uri": "https://localhost:8080/"
        },
        "id": "J9bj8XF6Hduf",
        "outputId": "004e74bd-f821-4df2-a1bb-cd1c80516546"
      },
      "execution_count": 140,
      "outputs": [
        {
          "output_type": "execute_result",
          "data": {
            "text/plain": [
              "(29485, 7)"
            ]
          },
          "metadata": {},
          "execution_count": 140
        }
      ]
    },
    {
      "cell_type": "code",
      "source": [
        "X = df[[ 'TVA (m3)', 'SPPA (kPa)', 'MFOP ((m3/s)/(m3/s))', 'GASA (mol/mol)']].values\n",
        "y = df['STATUS'].values"
      ],
      "metadata": {
        "id": "foyI55Lkkjjc"
      },
      "execution_count": 143,
      "outputs": []
    },
    {
      "cell_type": "code",
      "source": [
        "from sklearn.preprocessing import MinMaxScaler\n",
        "scaler = MinMaxScaler()\n",
        "# Select the columns to normalize\n",
        "# Perform the min-max normalization\n",
        "X= scaler.fit_transform(X)"
      ],
      "metadata": {
        "id": "q6RogyWBkmHh"
      },
      "execution_count": 144,
      "outputs": []
    },
    {
      "cell_type": "code",
      "source": [
        "window=36\n",
        "segment,labels= segmantation(X,y,window_length=window ,step_size=1)"
      ],
      "metadata": {
        "id": "ywn6iuiQko0b"
      },
      "execution_count": 145,
      "outputs": []
    },
    {
      "cell_type": "code",
      "source": [
        "from sklearn.model_selection import train_test_split\n",
        "X_train, X_test, y_train, y_test = split_data_balanced(segment, labels, test_size=0.3)\n",
        "\n",
        "# X_train,y_train=segmantation(X,y,window_length=36 ,step_size=1)/\n",
        "X_test , y_test = np.array(X_test), np.array(y_test).reshape(- 1 , 1 )\n",
        "X_train , y_train = np.array(X_train), np.array(y_train).reshape(-1,1 )\n",
        "\n",
        "\n",
        "print(X_train.shape,X_test.shape)\n",
        "print(y_train.shape, y_test.shape)"
      ],
      "metadata": {
        "colab": {
          "base_uri": "https://localhost:8080/"
        },
        "id": "pLIQV43Pk8Au",
        "outputId": "8f74799d-f593-4f24-8131-1a9d16b4301c"
      },
      "execution_count": 146,
      "outputs": [
        {
          "output_type": "stream",
          "name": "stdout",
          "text": [
            "(20614, 36, 4) (8835, 36, 4)\n",
            "(20614, 1) (8835, 1)\n"
          ]
        }
      ]
    },
    {
      "cell_type": "code",
      "source": [
        "count_values(y_test)\n",
        "count_values(y_train)"
      ],
      "metadata": {
        "colab": {
          "base_uri": "https://localhost:8080/"
        },
        "id": "bxi9D1C0lXsg",
        "outputId": "f53e36b3-b413-49fc-9985-a1e9efec406c"
      },
      "execution_count": 147,
      "outputs": [
        {
          "output_type": "stream",
          "name": "stdout",
          "text": [
            "0: 8666\n",
            "1: 169\n",
            "0: 20220\n",
            "1: 394\n"
          ]
        }
      ]
    },
    {
      "cell_type": "code",
      "source": [
        "model = Sequential()\n",
        "model.add(LSTM(units=64, input_shape=(X_train.shape[1], X_train.shape[2])))\n",
        "model.add(Dense(units=1, activation='sigmoid'))\n",
        "\n",
        "# 4. Compile the model\n",
        "model.compile(loss='binary_crossentropy', optimizer='adam', metrics=['accuracy'])\n",
        "model.summary()\n"
      ],
      "metadata": {
        "colab": {
          "base_uri": "https://localhost:8080/"
        },
        "id": "v7QZ9pUDlbLE",
        "outputId": "8a1d8cdb-0e52-45e9-99fa-f2d91779d206"
      },
      "execution_count": 148,
      "outputs": [
        {
          "output_type": "stream",
          "name": "stdout",
          "text": [
            "Model: \"sequential_7\"\n",
            "_________________________________________________________________\n",
            " Layer (type)                Output Shape              Param #   \n",
            "=================================================================\n",
            " lstm_7 (LSTM)               (None, 64)                17664     \n",
            "                                                                 \n",
            " dense_7 (Dense)             (None, 1)                 65        \n",
            "                                                                 \n",
            "=================================================================\n",
            "Total params: 17,729\n",
            "Trainable params: 17,729\n",
            "Non-trainable params: 0\n",
            "_________________________________________________________________\n"
          ]
        }
      ]
    },
    {
      "cell_type": "code",
      "source": [
        "history=model.fit(X_train, y_train, batch_size=32, epochs=10,validation_data=(X_test,y_test))"
      ],
      "metadata": {
        "colab": {
          "base_uri": "https://localhost:8080/"
        },
        "id": "loK85d976QLS",
        "outputId": "5ebfb306-6fa7-4750-b47d-8da926a446a3"
      },
      "execution_count": 149,
      "outputs": [
        {
          "output_type": "stream",
          "name": "stdout",
          "text": [
            "Epoch 1/10\n",
            "645/645 [==============================] - 8s 8ms/step - loss: 0.0957 - accuracy: 0.9788 - val_loss: 0.0583 - val_accuracy: 0.9804\n",
            "Epoch 2/10\n",
            "645/645 [==============================] - 4s 6ms/step - loss: 0.0364 - accuracy: 0.9867 - val_loss: 0.0411 - val_accuracy: 0.9844\n",
            "Epoch 3/10\n",
            "645/645 [==============================] - 4s 6ms/step - loss: 0.0326 - accuracy: 0.9885 - val_loss: 0.0270 - val_accuracy: 0.9894\n",
            "Epoch 4/10\n",
            "645/645 [==============================] - 5s 8ms/step - loss: 0.0280 - accuracy: 0.9903 - val_loss: 0.0279 - val_accuracy: 0.9899\n",
            "Epoch 5/10\n",
            "645/645 [==============================] - 4s 6ms/step - loss: 0.0266 - accuracy: 0.9908 - val_loss: 0.0291 - val_accuracy: 0.9913\n",
            "Epoch 6/10\n",
            "645/645 [==============================] - 4s 7ms/step - loss: 0.0254 - accuracy: 0.9913 - val_loss: 0.0248 - val_accuracy: 0.9922\n",
            "Epoch 7/10\n",
            "645/645 [==============================] - 4s 7ms/step - loss: 0.0262 - accuracy: 0.9914 - val_loss: 0.0232 - val_accuracy: 0.9912\n",
            "Epoch 8/10\n",
            "645/645 [==============================] - 4s 6ms/step - loss: 0.0231 - accuracy: 0.9921 - val_loss: 0.0301 - val_accuracy: 0.9855\n",
            "Epoch 9/10\n",
            "645/645 [==============================] - 5s 7ms/step - loss: 0.0249 - accuracy: 0.9914 - val_loss: 0.0244 - val_accuracy: 0.9911\n",
            "Epoch 10/10\n",
            "645/645 [==============================] - 5s 8ms/step - loss: 0.0221 - accuracy: 0.9924 - val_loss: 0.0233 - val_accuracy: 0.9920\n"
          ]
        }
      ]
    },
    {
      "cell_type": "code",
      "source": [
        "val_loss, val_accuracy = model.evaluate(X_test, y_test)\n",
        "print('Validation Loss:', val_loss)\n",
        "print('Validation Accuracy:', val_accuracy)"
      ],
      "metadata": {
        "colab": {
          "base_uri": "https://localhost:8080/"
        },
        "id": "eSJ1HdbPnEJm",
        "outputId": "e68274fb-8d9c-4ec8-a389-a79230a306eb"
      },
      "execution_count": 150,
      "outputs": [
        {
          "output_type": "stream",
          "name": "stdout",
          "text": [
            "277/277 [==============================] - 1s 3ms/step - loss: 0.0233 - accuracy: 0.9920\n",
            "Validation Loss: 0.02334926836192608\n",
            "Validation Accuracy: 0.991963803768158\n"
          ]
        }
      ]
    },
    {
      "cell_type": "code",
      "source": [
        "# 7. Hyperparameter tuning"
      ],
      "metadata": {
        "id": "-4pbNXGUs3GE"
      },
      "execution_count": null,
      "outputs": []
    },
    {
      "cell_type": "code",
      "source": [
        "predictions = model.predict(X_test)"
      ],
      "metadata": {
        "colab": {
          "base_uri": "https://localhost:8080/"
        },
        "id": "EFni2T9CnolX",
        "outputId": "52c4ae0d-bfef-4be5-b15f-4982125338b8"
      },
      "execution_count": 151,
      "outputs": [
        {
          "output_type": "stream",
          "name": "stdout",
          "text": [
            "277/277 [==============================] - 1s 2ms/step\n"
          ]
        }
      ]
    },
    {
      "cell_type": "code",
      "source": [
        "y_pred = (predictions >= 0.5).astype(int)"
      ],
      "metadata": {
        "id": "zRI9VHqXof2b"
      },
      "execution_count": 153,
      "outputs": []
    },
    {
      "cell_type": "code",
      "source": [
        "import matplotlib.pyplot as plt\n",
        "\n",
        "# Example lists\n",
        "list1 = y_pred\n",
        "list2 = y_test\n",
        "\n",
        "# Create a figure with subplots\n",
        "fig, axs = plt.subplots(2, 1)\n",
        "\n",
        "# Plot the first list in the first subplot\n",
        "axs[0].plot(list1)\n",
        "\n",
        "# Set a title for the first subplot\n",
        "axs[0].set_title('List 1')\n",
        "\n",
        "# Plot the second list in the second subplot\n",
        "axs[1].plot(list2)\n",
        "\n",
        "# Set a title for the second subplot\n",
        "axs[1].set_title('List 2')\n",
        "\n",
        "# Display the figure\n",
        "plt.tight_layout()\n",
        "plt.show()\n"
      ],
      "metadata": {
        "colab": {
          "base_uri": "https://localhost:8080/",
          "height": 486
        },
        "id": "6ISCZkgSrJJp",
        "outputId": "2dbea4e4-fda0-4195-e99b-1874949b3751"
      },
      "execution_count": 154,
      "outputs": [
        {
          "output_type": "display_data",
          "data": {
            "text/plain": [
              "<Figure size 640x480 with 2 Axes>"
            ],
            "image/png": "[encoded data removed]"
          },
          "metadata": {}
        }
      ]
    },
    {
      "cell_type": "code",
      "source": [
        "count_values(y_pred)"
      ],
      "metadata": {
        "colab": {
          "base_uri": "https://localhost:8080/"
        },
        "id": "zVfb88CYnvnW",
        "outputId": "40a2440c-a693-4411-d1bf-36487368fb44"
      },
      "execution_count": 126,
      "outputs": [
        {
          "output_type": "stream",
          "name": "stdout",
          "text": [
            "0: 5069\n",
            "1: 95\n"
          ]
        }
      ]
    },
    {
      "cell_type": "code",
      "source": [
        "from sklearn.metrics import confusion_matrix, precision_score, recall_score, f1_score, accuracy_score,roc_auc_score\n",
        "\n",
        "print(confusion_matrix(y_test, y_pred))\n",
        "print(\"Accuracy:\", accuracy_score(y_test, y_pred))\n",
        "print(\"Precision:\", precision_score(y_test, y_pred))\n",
        "print(\"Recall:\", recall_score(y_test, y_pred))\n",
        "print(\"F1 Score:\",f1_score(y_test, y_pred))\n",
        "print(\"ROC AUC Score:\",  roc_auc_score(y_test, y_pred))"
      ],
      "metadata": {
        "colab": {
          "base_uri": "https://localhost:8080/"
        },
        "id": "MSZaGASbqra1",
        "outputId": "904bba78-cbfe-47fb-a266-a6e4bbf46fd1"
      },
      "execution_count": 155,
      "outputs": [
        {
          "output_type": "stream",
          "name": "stdout",
          "text": [
            "[[8650   16]\n",
            " [  55  114]]\n",
            "Accuracy: 0.9919637804187889\n",
            "Precision: 0.8769230769230769\n",
            "Recall: 0.6745562130177515\n",
            "F1 Score: 0.762541806020067\n",
            "ROC AUC Score: 0.8363549585744192\n"
          ]
        }
      ]
    },
    {
      "cell_type": "code",
      "source": [
        "plt.plot(history.history['accuracy'], label='Training Accuracy')\n",
        "plt.plot(history.history['val_accuracy'], label='Validation Accuracy')\n",
        "plt.xlabel('Epochs')\n",
        "plt.ylabel('Accuracy')\n",
        "plt.legend()\n",
        "plt.show()"
      ],
      "metadata": {
        "colab": {
          "base_uri": "https://localhost:8080/",
          "height": 449
        },
        "id": "1ESwAsDYIXUZ",
        "outputId": "b2c0eebc-5b88-41d5-cb11-0db1830cc365"
      },
      "execution_count": 156,
      "outputs": [
        {
          "output_type": "display_data",
          "data": {
            "text/plain": [
              "<Figure size 640x480 with 1 Axes>"
            ],
            "image/png": "[encoded data removed]"
          },
          "metadata": {}
        }
      ]
    },
    {
      "cell_type": "code",
      "source": [
        "loss=history.history['loss']\n",
        "val_loss=history.history['val_loss']\n",
        "print(val_loss)\n",
        "print(loss)\n",
        "plt.plot(loss, label='Training Loss')\n",
        "plt.plot(val_loss, label='Validation Loss')\n",
        "plt.xlabel('Epochs')\n",
        "plt.ylabel('Loss')\n",
        "plt.legend()\n",
        "plt.show()"
      ],
      "metadata": {
        "colab": {
          "base_uri": "https://localhost:8080/",
          "height": 504
        },
        "id": "vYI7PH_FIb5c",
        "outputId": "7c6c9a9b-b2ef-4100-b25e-ac05053d3617"
      },
      "execution_count": 157,
      "outputs": [
        {
          "output_type": "stream",
          "name": "stdout",
          "text": [
            "[0.058335550129413605, 0.04107781499624252, 0.026955464854836464, 0.027912940829992294, 0.029130570590496063, 0.024846982210874557, 0.023227887228131294, 0.03011578507721424, 0.02438335120677948, 0.02334926836192608]\n",
            "[0.09570246934890747, 0.03635995090007782, 0.03260466083884239, 0.02802196703851223, 0.026618530973792076, 0.025360161438584328, 0.026216506958007812, 0.023136556148529053, 0.024949252605438232, 0.02209450863301754]\n"
          ]
        },
        {
          "output_type": "display_data",
          "data": {
            "text/plain": [
              "<Figure size 640x480 with 1 Axes>"
            ],
            "image/png": "[encoded data removed]"
          },
          "metadata": {}
        }
      ]
    },
    {
      "cell_type": "code",
      "source": [
        "model.save('')"
      ],
      "metadata": {
        "id": "uym8i86JIkNX"
      },
      "execution_count": null,
      "outputs": []
    }
  ]
}