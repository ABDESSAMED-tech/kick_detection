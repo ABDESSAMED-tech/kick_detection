{
  "cells": [
    {
      "cell_type": "code",
      "execution_count": 1,
      "metadata": {
        "id": "AZA-NWcOdz9U"
      },
      "outputs": [],
      "source": [
        "def count_values(arr):\n",
        "  unique_values, counts = np.unique(arr, return_counts=True)\n",
        "\n",
        "  # Print the unique values and their frequencies\n",
        "  for value, count in zip(unique_values, counts):\n",
        "      print(f\"{value}: {count}\")"
      ]
    },
    {
      "cell_type": "code",
      "execution_count": 2,
      "metadata": {
        "id": "AN4ZUexAwJQZ"
      },
      "outputs": [],
      "source": [
        "def split_data_balanced(X, y, test_size=0.2, random_state=None):\n",
        "    # Find unique labels and their counts\n",
        "    unique_labels, label_counts = np.unique(y, return_counts=True)\n",
        "\n",
        "    # Find the minimum label count\n",
        "    min_label_count = np.min(label_counts)\n",
        "\n",
        "    # Split the data for each label, ensuring balanced classes in the test set\n",
        "    X_train, X_test, y_train, y_test = [], [], [], []\n",
        "    for label in unique_labels:\n",
        "        # Split the data for the current label\n",
        "        X_label = X[y == label]\n",
        "        y_label = y[y == label]\n",
        "        X_label_train, X_label_test, y_label_train, y_label_test = train_test_split(\n",
        "            X_label, y_label, test_size=test_size, random_state=random_state\n",
        "        )\n",
        "\n",
        "        # Add the split data to the overall train and test sets\n",
        "        X_train.append(X_label_train)\n",
        "        X_test.append(X_label_test)\n",
        "        y_train.append(y_label_train)\n",
        "        y_test.append(y_label_test)\n",
        "\n",
        "    # Concatenate the data from all labels\n",
        "    X_train = np.concatenate(X_train)\n",
        "    X_test = np.concatenate(X_test)\n",
        "    y_train = np.concatenate(y_train)\n",
        "    y_test = np.concatenate(y_test)\n",
        "\n",
        "    return X_train, X_test, y_train, y_test\n"
      ]
    },
    {
      "cell_type": "code",
      "execution_count": 3,
      "metadata": {
        "id": "cpSVGSCFeUXJ"
      },
      "outputs": [],
      "source": [
        "def segmantation(X,y,window_length=36 ,step_size=1):\n",
        "      # Define sliding window parameters\n",
        "      window_length = 36  # Length of each segment\n",
        "      step_size = 1  # Amount of overlap between segments\n",
        "      # Segment the time series data with sliding window\n",
        "      segments = []\n",
        "      labels = []\n",
        "\n",
        "      for i in range(0, len(X) - window_length, step_size):\n",
        "          segment = X[i:i+window_length]\n",
        "          segments.append(segment)\n",
        "          \n",
        "          # Assign label to the segment based on the presence of anomalies\n",
        "          segment_labels = y[i:i+window_length]\n",
        "          if np.any(segment_labels == 1):\n",
        "              label = 1  # Anomaly present\n",
        "          else:\n",
        "              label = 0  # No anomaly\n",
        "          labels.append(label)\n",
        "\n",
        "      # Convert segments and labels to numpy arrays\n",
        "      segments = np.array(segments)\n",
        "      labels = np.array(labels)\n",
        "      return segments,labels"
      ]
    },
    {
      "cell_type": "code",
      "execution_count": 5,
      "metadata": {
        "id": "_CMjyV-2eOM0"
      },
      "outputs": [],
      "source": [
        "import pandas as pd\n",
        "import matplotlib.pyplot as plt\n",
        "import numpy as np\n",
        "\n",
        "file_path =r\"C:\\Users\\hp\\Desktop\\M2\\PFE\\Code\\code pfe\\Coud source\\Code\\machine learnig algorithme test\\data_kick.xlsx\"\n",
        "df=pd.read_excel(file_path)"
      ]
    },
    {
      "cell_type": "code",
      "execution_count": 6,
      "metadata": {
        "id": "vdrF6yn2ecJO"
      },
      "outputs": [],
      "source": [
        "X = df[[ 'TVA (m3)', 'SPPA (kPa)', 'MFOP ((m3/s)/(m3/s))', 'GASA (mol/mol)']]\n",
        "y = df['STATUS']"
      ]
    },
    {
      "cell_type": "code",
      "execution_count": 49,
      "metadata": {
        "colab": {
          "base_uri": "https://localhost:8080/"
        },
        "id": "ZRW0vaXqsoWx",
        "outputId": "35c5b643-ce22-4f12-9bf5-bdc5a52423b8"
      },
      "outputs": [
        {
          "data": {
            "text/plain": [
              "Int64Index([14571, 14572, 14573, 14574, 14575, 14576, 14577, 14578, 14579,\n",
              "            14580,\n",
              "            ...\n",
              "            53240, 53241, 53242, 53243, 53244, 53245, 53246, 53247, 53248,\n",
              "            53249],\n",
              "           dtype='int64', length=1238)"
            ]
          },
          "execution_count": 49,
          "metadata": {},
          "output_type": "execute_result"
        }
      ],
      "source": [
        "df[df['STATUS']==1].index"
      ]
    },
    {
      "cell_type": "code",
      "execution_count": 7,
      "metadata": {
        "id": "o4ryF2GzeeUb"
      },
      "outputs": [],
      "source": [
        "from sklearn.preprocessing import MinMaxScaler\n",
        "scaler = MinMaxScaler()\n",
        "# Select the columns to normalize\n",
        "# Perform the min-max normalization\n",
        "X= scaler.fit_transform(X)"
      ]
    },
    {
      "cell_type": "code",
      "execution_count": 8,
      "metadata": {
        "id": "jyRh-v1oePnp"
      },
      "outputs": [],
      "source": [
        "window=36\n",
        "segments,labels= segmantation(X,y,window_length=window ,step_size=1)"
      ]
    },
    {
      "cell_type": "code",
      "execution_count": 9,
      "metadata": {
        "colab": {
          "base_uri": "https://localhost:8080/"
        },
        "id": "-qutqq9NejJ9",
        "outputId": "945b8842-36d3-4fef-f7ca-5b550dd56cec"
      },
      "outputs": [
        {
          "name": "stdout",
          "output_type": "stream",
          "text": [
            "(42570, 36, 4) (10644, 36, 4)\n",
            "(42570, 144) (10644, 144)\n"
          ]
        }
      ],
      "source": [
        "from sklearn.model_selection import train_test_split\n",
        "X_train, X_test, y_train, y_test = split_data_balanced(segments, labels, test_size=0.2)\n",
        "print(X_train.shape,X_test.shape)\n",
        "# Reshape the feature matrices for SVM\n",
        "X_train = X_train.reshape(X_train.shape[0], -1)\n",
        "X_test = X_test.reshape(X_test.shape[0], -1)\n",
        "print(X_train.shape,X_test.shape)"
      ]
    },
    {
      "cell_type": "code",
      "execution_count": 10,
      "metadata": {
        "colab": {
          "base_uri": "https://localhost:8080/"
        },
        "id": "JEPDHdLkelkG",
        "outputId": "652e3db6-a00d-48e3-e294-be89fbacf007"
      },
      "outputs": [
        {
          "name": "stdout",
          "output_type": "stream",
          "text": [
            "0: 10354\n",
            "1: 290\n",
            "0: 41413\n",
            "1: 1157\n"
          ]
        }
      ],
      "source": [
        "count_values(y_test)\n",
        "count_values(y_train)"
      ]
    },
    {
      "cell_type": "code",
      "execution_count": null,
      "metadata": {
        "id": "Om5PjVDTfb1v"
      },
      "outputs": [],
      "source": [
        "pip install tslearn"
      ]
    },
    {
      "cell_type": "code",
      "execution_count": 11,
      "metadata": {
        "colab": {
          "base_uri": "https://localhost:8080/",
          "height": 75
        },
        "id": "jXCWzmZLepbV",
        "outputId": "e5b3378a-e764-4967-b380-35acbf7b754b"
      },
      "outputs": [
        {
          "data": {
            "text/html": [
              "<style>#sk-container-id-1 {color: black;background-color: white;}#sk-container-id-1 pre{padding: 0;}#sk-container-id-1 div.sk-toggleable {background-color: white;}#sk-container-id-1 label.sk-toggleable__label {cursor: pointer;display: block;width: 100%;margin-bottom: 0;padding: 0.3em;box-sizing: border-box;text-align: center;}#sk-container-id-1 label.sk-toggleable__label-arrow:before {content: \"▸\";float: left;margin-right: 0.25em;color: #696969;}#sk-container-id-1 label.sk-toggleable__label-arrow:hover:before {color: black;}#sk-container-id-1 div.sk-estimator:hover label.sk-toggleable__label-arrow:before {color: black;}#sk-container-id-1 div.sk-toggleable__content {max-height: 0;max-width: 0;overflow: hidden;text-align: left;background-color: #f0f8ff;}#sk-container-id-1 div.sk-toggleable__content pre {margin: 0.2em;color: black;border-radius: 0.25em;background-color: #f0f8ff;}#sk-container-id-1 input.sk-toggleable__control:checked~div.sk-toggleable__content {max-height: 200px;max-width: 100%;overflow: auto;}#sk-container-id-1 input.sk-toggleable__control:checked~label.sk-toggleable__label-arrow:before {content: \"▾\";}#sk-container-id-1 div.sk-estimator input.sk-toggleable__control:checked~label.sk-toggleable__label {background-color: #d4ebff;}#sk-container-id-1 div.sk-label input.sk-toggleable__control:checked~label.sk-toggleable__label {background-color: #d4ebff;}#sk-container-id-1 input.sk-hidden--visually {border: 0;clip: rect(1px 1px 1px 1px);clip: rect(1px, 1px, 1px, 1px);height: 1px;margin: -1px;overflow: hidden;padding: 0;position: absolute;width: 1px;}#sk-container-id-1 div.sk-estimator {font-family: monospace;background-color: #f0f8ff;border: 1px dotted black;border-radius: 0.25em;box-sizing: border-box;margin-bottom: 0.5em;}#sk-container-id-1 div.sk-estimator:hover {background-color: #d4ebff;}#sk-container-id-1 div.sk-parallel-item::after {content: \"\";width: 100%;border-bottom: 1px solid gray;flex-grow: 1;}#sk-container-id-1 div.sk-label:hover label.sk-toggleable__label {background-color: #d4ebff;}#sk-container-id-1 div.sk-serial::before {content: \"\";position: absolute;border-left: 1px solid gray;box-sizing: border-box;top: 0;bottom: 0;left: 50%;z-index: 0;}#sk-container-id-1 div.sk-serial {display: flex;flex-direction: column;align-items: center;background-color: white;padding-right: 0.2em;padding-left: 0.2em;position: relative;}#sk-container-id-1 div.sk-item {position: relative;z-index: 1;}#sk-container-id-1 div.sk-parallel {display: flex;align-items: stretch;justify-content: center;background-color: white;position: relative;}#sk-container-id-1 div.sk-item::before, #sk-container-id-1 div.sk-parallel-item::before {content: \"\";position: absolute;border-left: 1px solid gray;box-sizing: border-box;top: 0;bottom: 0;left: 50%;z-index: -1;}#sk-container-id-1 div.sk-parallel-item {display: flex;flex-direction: column;z-index: 1;position: relative;background-color: white;}#sk-container-id-1 div.sk-parallel-item:first-child::after {align-self: flex-end;width: 50%;}#sk-container-id-1 div.sk-parallel-item:last-child::after {align-self: flex-start;width: 50%;}#sk-container-id-1 div.sk-parallel-item:only-child::after {width: 0;}#sk-container-id-1 div.sk-dashed-wrapped {border: 1px dashed gray;margin: 0 0.4em 0.5em 0.4em;box-sizing: border-box;padding-bottom: 0.4em;background-color: white;}#sk-container-id-1 div.sk-label label {font-family: monospace;font-weight: bold;display: inline-block;line-height: 1.2em;}#sk-container-id-1 div.sk-label-container {text-align: center;}#sk-container-id-1 div.sk-container {/* jupyter's `normalize.less` sets `[hidden] { display: none; }` but bootstrap.min.css set `[hidden] { display: none !important; }` so we also need the `!important` here to be able to override the default hidden behavior on the sphinx rendered scikit-learn.org. See: https://github.com/scikit-learn/scikit-learn/issues/21755 */display: inline-block !important;position: relative;}#sk-container-id-1 div.sk-text-repr-fallback {display: none;}</style><div id=\"sk-container-id-1\" class=\"sk-top-container\"><div class=\"sk-text-repr-fallback\"><pre>KNeighborsClassifier(metric=&lt;function dtw at 0x000001EB47A2EFC0&gt;, n_neighbors=3)</pre><b>In a Jupyter environment, please rerun this cell to show the HTML representation or trust the notebook. <br />On GitHub, the HTML representation is unable to render, please try loading this page with nbviewer.org.</b></div><div class=\"sk-container\" hidden><div class=\"sk-item\"><div class=\"sk-estimator sk-toggleable\"><input class=\"sk-toggleable__control sk-hidden--visually\" id=\"sk-estimator-id-1\" type=\"checkbox\" checked><label for=\"sk-estimator-id-1\" class=\"sk-toggleable__label sk-toggleable__label-arrow\">KNeighborsClassifier</label><div class=\"sk-toggleable__content\"><pre>KNeighborsClassifier(metric=&lt;function dtw at 0x000001EB47A2EFC0&gt;, n_neighbors=3)</pre></div></div></div></div></div>"
            ],
            "text/plain": [
              "KNeighborsClassifier(metric=<function dtw at 0x000001EB47A2EFC0>, n_neighbors=3)"
            ]
          },
          "execution_count": 11,
          "metadata": {},
          "output_type": "execute_result"
        }
      ],
      "source": [
        "from tslearn.metrics import dtw\n",
        "from sklearn.neighbors import KNeighborsClassifier\n",
        "from sklearn.metrics import classification_report\n",
        "knn = KNeighborsClassifier(n_neighbors=3,metric=dtw)\n",
        "knn.fit(X_train, y_train)\n"
      ]
    },
    {
      "cell_type": "code",
      "execution_count": 35,
      "metadata": {
        "colab": {
          "base_uri": "https://localhost:8080/"
        },
        "id": "rVB0RDaLp720",
        "outputId": "b1d0817d-f2b6-4ae8-e293-f391a3817054"
      },
      "outputs": [
        {
          "name": "stdout",
          "output_type": "stream",
          "text": [
            "0.6666666666666665\n"
          ]
        }
      ],
      "source": [
        "min=0.2\n",
        "max=0.8\n",
        "x=0.6\n",
        "print((x-min)/(max-min))"
      ]
    },
    {
      "cell_type": "code",
      "execution_count": 12,
      "metadata": {
        "id": "n6lZulh6vGY3"
      },
      "outputs": [],
      "source": [
        "\n",
        "y_prd=[]"
      ]
    },
    {
      "cell_type": "code",
      "execution_count": 22,
      "metadata": {},
      "outputs": [],
      "source": [
        "for i in range(len(y_test) - 1,9642 , -1): \n",
        "    y_pred = knn.predict(X_test[i-1:i])\n",
        "    y_prd.append(y_pred[0])\n",
        "    print(i,i-1)"
      ]
    },
    {
      "cell_type": "code",
      "execution_count": null,
      "metadata": {
        "colab": {
          "base_uri": "https://localhost:8080/"
        },
        "id": "bxgRME7hgLs0",
        "outputId": "03c01d66-8cd8-4d32-c043-8990b5e5043a"
      },
      "outputs": [
        {
          "name": "stdout",
          "output_type": "stream",
          "text": [
            "0\n",
            "1\n",
            "2\n",
            "3\n",
            "4\n",
            "5\n",
            "6\n",
            "7\n",
            "8\n",
            "9\n",
            "10\n",
            "11\n",
            "12\n",
            "13\n",
            "14\n",
            "15\n",
            "16\n",
            "17\n",
            "18\n",
            "19\n",
            "20\n",
            "21\n",
            "22\n",
            "23\n",
            "24\n",
            "25\n",
            "26\n",
            "27\n",
            "28\n",
            "29\n",
            "30\n",
            "31\n",
            "32\n",
            "33\n",
            "34\n",
            "35\n",
            "36\n",
            "37\n",
            "38\n",
            "39\n",
            "40\n",
            "41\n",
            "42\n"
          ]
        }
      ],
      "source": [
        "\n",
        "for i in range(1000):\n",
        "     y_pred = knn.predict(X_test[i:i+1])\n",
        "     y_prd.append(y_pred[0])\n",
        "     print(i)"
      ]
    },
    {
      "cell_type": "code",
      "execution_count": 90,
      "metadata": {
        "colab": {
          "base_uri": "https://localhost:8080/"
        },
        "id": "DKD27MRAfpTE",
        "outputId": "8e536ca3-5ee3-477d-d57d-3ffe67257700"
      },
      "outputs": [
        {
          "name": "stdout",
          "output_type": "stream",
          "text": [
            "0: 999\n",
            "1: 1\n"
          ]
        }
      ],
      "source": [
        "count_values(y_prd)"
      ]
    },
    {
      "cell_type": "code",
      "execution_count": 92,
      "metadata": {
        "colab": {
          "base_uri": "https://localhost:8080/"
        },
        "id": "25Pazu0KytXB",
        "outputId": "b3f1450b-1660-4687-aad4-b1d676761df3"
      },
      "outputs": [
        {
          "name": "stdout",
          "output_type": "stream",
          "text": [
            "0: 1001\n"
          ]
        }
      ],
      "source": [
        "count_values(y_test[0:1000])"
      ]
    },
    {
      "cell_type": "code",
      "execution_count": null,
      "metadata": {
        "id": "VCZCO7Cc0D67"
      },
      "outputs": [],
      "source": [
        "from sklearn.metrics import confusion_matrix, precision_score, recall_score, f1_score, accuracy_score,roc_auc_score\n",
        "\n",
        "print(confusion_matrix(y_test[0:1000],y_prd))\n",
        "print(\"Accuracy:\", accuracy_score(y_test[0:1000],y_prd))\n",
        "print(\"Precision:\", precision_score(y_test[0:1000],y_prd))\n",
        "print(\"Recall:\", recall_score(y_test[0:1000],y_prd))\n",
        "print(\"F1 Score:\",f1_score(y_test[0:1000],y_prd))"
      ]
    },
    {
      "cell_type": "code",
      "execution_count": 96,
      "metadata": {
        "id": "Nu9s8Kqmz-X3"
      },
      "outputs": [],
      "source": [
        "y_pred = knn.predict(X_test)"
      ]
    },
    {
      "cell_type": "code",
      "execution_count": 98,
      "metadata": {
        "colab": {
          "base_uri": "https://localhost:8080/"
        },
        "id": "bktYOseVw-u3",
        "outputId": "f58beb86-6714-4fea-b5a1-b1cc86f7e45a"
      },
      "outputs": [
        {
          "name": "stdout",
          "output_type": "stream",
          "text": [
            "[[10342    12]\n",
            " [   95   195]]\n",
            "Accuracy: 0.9899473881999249\n",
            "Precision: 0.9420289855072463\n",
            "Recall: 0.6724137931034483\n",
            "F1 Score: 0.7847082494969819\n"
          ]
        }
      ],
      "source": [
        "from sklearn.metrics import confusion_matrix, precision_score, recall_score, f1_score, accuracy_score,roc_auc_score\n",
        "\n",
        "print(confusion_matrix(y_test,y_pred))\n",
        "print(\"Accuracy:\", accuracy_score(y_test,y_pred))\n",
        "print(\"Precision:\", precision_score(y_test,y_pred))\n",
        "print(\"Recall:\", recall_score(y_test,y_pred))\n",
        "print(\"F1 Score:\",f1_score(y_test,y_pred))\n"
      ]
    },
    {
      "cell_type": "code",
      "execution_count": null,
      "metadata": {
        "colab": {
          "base_uri": "https://localhost:8080/"
        },
        "id": "HirGlMIIl4C5",
        "outputId": "f60462e7-ceb8-4ce4-f02d-cbf0163167bd"
      },
      "outputs": [
        {
          "name": "stdout",
          "output_type": "stream",
          "text": [
            "(42594, 4) (10649, 4)\n",
            "(42594, 4) (10649, 4)\n"
          ]
        }
      ],
      "source": [
        "X_train, X_test, y_train, y_test = train_test_split(X, y, test_size=0.2, shuffle=False)\n",
        "print(X_train.shape,X_test.shape)\n",
        "# Reshape the feature matrices for SVM\n",
        "X_train = X_train.reshape(X_train.shape[0], -1)\n",
        "X_test = X_test.reshape(X_test.shape[0], -1)\n",
        "print(X_train.shape,X_test.shape)"
      ]
    },
    {
      "cell_type": "code",
      "execution_count": null,
      "metadata": {
        "id": "XbvcCj56hlSE"
      },
      "outputs": [],
      "source": [
        "from sklearn.neighbors import KNeighborsClassifier\n",
        "from scipy.spatial.distance import cdist\n",
        "\n",
        "def dtw_distance(ts1, ts2, window):\n",
        "    \"\"\"\n",
        "    Computes the DTW distance between two time series with a given window.\n",
        "    \"\"\"\n",
        "    n1, n2 = len(ts1), len(ts2)\n",
        "    w = np.max([window, abs(n1 - n2)])\n",
        "    dtw = np.full((n1 + 1, n2 + 1), np.inf)\n",
        "    dtw[0, 0] = 0\n",
        "    for i in range(1, n1 + 1):\n",
        "        for j in range(np.max([1, i - w]), np.min([n2, i + w]) + 1):\n",
        "            cost = abs(ts1[i - 1] - ts2[j - 1])\n",
        "            dtw[i, j] = cost + np.min([dtw[i - 1, j], dtw[i, j - 1], dtw[i - 1, j - 1]])\n",
        "    return dtw[-1, -1]\n",
        "\n",
        "# Define the kNN classifier with the custom DTW distance metric\n",
        "knn = KNeighborsClassifier(n_neighbors=5, metric=lambda x, y: dtw_distance(x, y, window=36))\n",
        "\n",
        "# Fit the classifier to the training data\n",
        "\n"
      ]
    },
    {
      "cell_type": "code",
      "execution_count": null,
      "metadata": {
        "colab": {
          "base_uri": "https://localhost:8080/",
          "height": 75
        },
        "id": "wnGgREeSiKqf",
        "outputId": "3459ed5f-25f4-4b6a-be62-e86e2acec195"
      },
      "outputs": [
        {
          "data": {
            "text/html": [
              "<style>#sk-container-id-3 {color: black;background-color: white;}#sk-container-id-3 pre{padding: 0;}#sk-container-id-3 div.sk-toggleable {background-color: white;}#sk-container-id-3 label.sk-toggleable__label {cursor: pointer;display: block;width: 100%;margin-bottom: 0;padding: 0.3em;box-sizing: border-box;text-align: center;}#sk-container-id-3 label.sk-toggleable__label-arrow:before {content: \"▸\";float: left;margin-right: 0.25em;color: #696969;}#sk-container-id-3 label.sk-toggleable__label-arrow:hover:before {color: black;}#sk-container-id-3 div.sk-estimator:hover label.sk-toggleable__label-arrow:before {color: black;}#sk-container-id-3 div.sk-toggleable__content {max-height: 0;max-width: 0;overflow: hidden;text-align: left;background-color: #f0f8ff;}#sk-container-id-3 div.sk-toggleable__content pre {margin: 0.2em;color: black;border-radius: 0.25em;background-color: #f0f8ff;}#sk-container-id-3 input.sk-toggleable__control:checked~div.sk-toggleable__content {max-height: 200px;max-width: 100%;overflow: auto;}#sk-container-id-3 input.sk-toggleable__control:checked~label.sk-toggleable__label-arrow:before {content: \"▾\";}#sk-container-id-3 div.sk-estimator input.sk-toggleable__control:checked~label.sk-toggleable__label {background-color: #d4ebff;}#sk-container-id-3 div.sk-label input.sk-toggleable__control:checked~label.sk-toggleable__label {background-color: #d4ebff;}#sk-container-id-3 input.sk-hidden--visually {border: 0;clip: rect(1px 1px 1px 1px);clip: rect(1px, 1px, 1px, 1px);height: 1px;margin: -1px;overflow: hidden;padding: 0;position: absolute;width: 1px;}#sk-container-id-3 div.sk-estimator {font-family: monospace;background-color: #f0f8ff;border: 1px dotted black;border-radius: 0.25em;box-sizing: border-box;margin-bottom: 0.5em;}#sk-container-id-3 div.sk-estimator:hover {background-color: #d4ebff;}#sk-container-id-3 div.sk-parallel-item::after {content: \"\";width: 100%;border-bottom: 1px solid gray;flex-grow: 1;}#sk-container-id-3 div.sk-label:hover label.sk-toggleable__label {background-color: #d4ebff;}#sk-container-id-3 div.sk-serial::before {content: \"\";position: absolute;border-left: 1px solid gray;box-sizing: border-box;top: 0;bottom: 0;left: 50%;z-index: 0;}#sk-container-id-3 div.sk-serial {display: flex;flex-direction: column;align-items: center;background-color: white;padding-right: 0.2em;padding-left: 0.2em;position: relative;}#sk-container-id-3 div.sk-item {position: relative;z-index: 1;}#sk-container-id-3 div.sk-parallel {display: flex;align-items: stretch;justify-content: center;background-color: white;position: relative;}#sk-container-id-3 div.sk-item::before, #sk-container-id-3 div.sk-parallel-item::before {content: \"\";position: absolute;border-left: 1px solid gray;box-sizing: border-box;top: 0;bottom: 0;left: 50%;z-index: -1;}#sk-container-id-3 div.sk-parallel-item {display: flex;flex-direction: column;z-index: 1;position: relative;background-color: white;}#sk-container-id-3 div.sk-parallel-item:first-child::after {align-self: flex-end;width: 50%;}#sk-container-id-3 div.sk-parallel-item:last-child::after {align-self: flex-start;width: 50%;}#sk-container-id-3 div.sk-parallel-item:only-child::after {width: 0;}#sk-container-id-3 div.sk-dashed-wrapped {border: 1px dashed gray;margin: 0 0.4em 0.5em 0.4em;box-sizing: border-box;padding-bottom: 0.4em;background-color: white;}#sk-container-id-3 div.sk-label label {font-family: monospace;font-weight: bold;display: inline-block;line-height: 1.2em;}#sk-container-id-3 div.sk-label-container {text-align: center;}#sk-container-id-3 div.sk-container {/* jupyter's `normalize.less` sets `[hidden] { display: none; }` but bootstrap.min.css set `[hidden] { display: none !important; }` so we also need the `!important` here to be able to override the default hidden behavior on the sphinx rendered scikit-learn.org. See: https://github.com/scikit-learn/scikit-learn/issues/21755 */display: inline-block !important;position: relative;}#sk-container-id-3 div.sk-text-repr-fallback {display: none;}</style><div id=\"sk-container-id-3\" class=\"sk-top-container\"><div class=\"sk-text-repr-fallback\"><pre>KNeighborsClassifier(metric=&lt;function &lt;lambda&gt; at 0x7f2120c9b0a0&gt;)</pre><b>In a Jupyter environment, please rerun this cell to show the HTML representation or trust the notebook. <br />On GitHub, the HTML representation is unable to render, please try loading this page with nbviewer.org.</b></div><div class=\"sk-container\" hidden><div class=\"sk-item\"><div class=\"sk-estimator sk-toggleable\"><input class=\"sk-toggleable__control sk-hidden--visually\" id=\"sk-estimator-id-3\" type=\"checkbox\" checked><label for=\"sk-estimator-id-3\" class=\"sk-toggleable__label sk-toggleable__label-arrow\">KNeighborsClassifier</label><div class=\"sk-toggleable__content\"><pre>KNeighborsClassifier(metric=&lt;function &lt;lambda&gt; at 0x7f2120c9b0a0&gt;)</pre></div></div></div></div></div>"
            ],
            "text/plain": [
              "KNeighborsClassifier(metric=<function <lambda> at 0x7f2120c9b0a0>)"
            ]
          },
          "execution_count": 43,
          "metadata": {},
          "output_type": "execute_result"
        }
      ],
      "source": [
        "knn.fit(X_train, y_train)\n",
        "\n"
      ]
    },
    {
      "cell_type": "code",
      "execution_count": null,
      "metadata": {
        "colab": {
          "base_uri": "https://localhost:8080/"
        },
        "id": "b51NlLx0m9tL",
        "outputId": "0cad7bc2-de71-4c23-d22d-af8fed56d4b8"
      },
      "outputs": [
        {
          "data": {
            "text/plain": [
              "(10649,)"
            ]
          },
          "execution_count": 48,
          "metadata": {},
          "output_type": "execute_result"
        }
      ],
      "source": []
    },
    {
      "cell_type": "code",
      "execution_count": null,
      "metadata": {
        "colab": {
          "background_save": true
        },
        "id": "twevuAbYiSp7"
      },
      "outputs": [],
      "source": [
        "# Make predictions on new data\n",
        "y_pred = knn.predict(X_test)"
      ]
    }
  ],
  "metadata": {
    "colab": {
      "provenance": []
    },
    "kernelspec": {
      "display_name": "Python 3",
      "name": "python3"
    },
    "language_info": {
      "codemirror_mode": {
        "name": "ipython",
        "version": 3
      },
      "file_extension": ".py",
      "mimetype": "text/x-python",
      "name": "python",
      "nbconvert_exporter": "python",
      "pygments_lexer": "ipython3",
      "version": "3.11.3"
    }
  },
  "nbformat": 4,
  "nbformat_minor": 0
}
